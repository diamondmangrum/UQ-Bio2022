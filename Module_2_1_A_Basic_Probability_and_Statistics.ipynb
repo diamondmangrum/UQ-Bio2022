{
  "nbformat": 4,
  "nbformat_minor": 0,
  "metadata": {
    "colab": {
      "name": "Module 2.1.A - Basic Probability and Statistics.ipynb",
      "provenance": [],
      "collapsed_sections": [
        "2vx1f3wkGUdT",
        "YpzImPAd642C",
        "1twieaJd66wM",
        "RACzvYRXC6Wq",
        "Rj00YMhCfI8o",
        "Sa819ENQ68yP",
        "ZwiMkxZD6_jj"
      ],
      "include_colab_link": true
    },
    "kernelspec": {
      "name": "python3",
      "display_name": "Python 3"
    },
    "language_info": {
      "name": "python"
    }
  },
  "cells": [
    {
      "cell_type": "markdown",
      "metadata": {
        "id": "view-in-github",
        "colab_type": "text"
      },
      "source": [
        "<a href=\"https://colab.research.google.com/github/diamondmangrum/UQ-Bio2022/blob/main/Module_2_1_A_Basic_Probability_and_Statistics.ipynb\" target=\"_parent\"><img src=\"https://colab.research.google.com/assets/colab-badge.svg\" alt=\"Open In Colab\"/></a>"
      ]
    },
    {
      "cell_type": "markdown",
      "source": [
        "<img src= https://raw.githubusercontent.com/MunskyGroup/uqbio2022/master/files/files_statistics/Module_2_1_Ania/Slide1.png alt=\"drawing\" width=\"1000\"/>\n",
        "\n",
        "<!-- ----------\n",
        "## Learning Objectives for this Notebook:\n",
        "--------------\n",
        "\n",
        "After completing this notebook, students should:\n",
        "*   Be familiar with the basic meaning of random variables and their probability distributions.\n",
        "*   Understand the mean and variances of random variables and be able to compute these from sample data.\n",
        "* Be familiar with several important discrete random variables (Bernoulli, Binomial, Poisson, Geometric)\n",
        "* Be familiar with several important continuous random variables (Uniform, Gaussian, Exponential)\n",
        "* Be able to sample random variables for arbitrary distributions.\n",
        "* Be familiar with the Central Limit Theorem. -->\n"
      ],
      "metadata": {
        "id": "ujs_nK1O07K2"
      }
    },
    {
      "cell_type": "markdown",
      "metadata": {
        "id": "gNzsw6cxsQkz"
      },
      "source": [
        "# Univariate probability distributions: the building blocks of probabilistic modeling\n",
        "\n",
        "----------\n",
        "## Qbio Summer School 2021\n",
        "--------------\n",
        "```\n",
        "Author: Huy Vo, Brian Munsky\n",
        "Contact Info: huydvo@colostate.edu, brian.munsky@colostate.edu\n",
        "\n",
        "Copyright (c) 2022 Dr. Brian Munsky. \n",
        "Dr. Luis Aguilera, Will Raymond\n",
        "Colorado State University.\n",
        "Licensed under MIT License.\n",
        "```\n",
        "\n",
        "\n",
        "\n"
      ]
    },
    {
      "cell_type": "markdown",
      "source": [
        "<img src= https://raw.githubusercontent.com/MunskyGroup/uqbio2022/master/files/files_statistics/Module_2_1_Ania/Slide5.png alt=\"drawing\" width=\"1000\"/>"
      ],
      "metadata": {
        "id": "QpyZXMFR6JIb"
      }
    },
    {
      "cell_type": "code",
      "metadata": {
        "id": "K0ZsMgIK6lbD"
      },
      "source": [
        "import numpy as np \n",
        "import scipy as sp \n",
        "import sympy as sym\n",
        "import matplotlib.pyplot as plt\n",
        "import seaborn as sns\n",
        "from typing import Union # for code annotation"
      ],
      "execution_count": null,
      "outputs": []
    },
    {
      "cell_type": "code",
      "metadata": {
        "id": "TFmePvTOrMr6",
        "cellView": "form"
      },
      "source": [
        "#@title This code block sets options for plotting\n",
        "sns.set_theme(style=\"whitegrid\", \n",
        "              font='Liberation Mono')\n",
        "sns.set_context(\"notebook\")\n",
        "\n",
        "from matplotlib.patheffects import (\n",
        "      PathPatchEffect, \n",
        "      SimpleLineShadow, \n",
        "      Normal,      \n",
        "    )\n",
        "from matplotlib.patches import Shadow"
      ],
      "execution_count": null,
      "outputs": []
    },
    {
      "cell_type": "markdown",
      "metadata": {
        "id": "udh5HEW0XqDX"
      },
      "source": [
        "# What are random variables?"
      ]
    },
    {
      "cell_type": "markdown",
      "source": [
        "<img src= https://raw.githubusercontent.com/MunskyGroup/uqbio2022/master/files/files_statistics/Module_2_1_Ania/Slide8.png alt=\"drawing\" width=\"1000\"/>"
      ],
      "metadata": {
        "id": "A_AkFPWQ1hDM"
      }
    },
    {
      "cell_type": "markdown",
      "metadata": {
        "id": "Q7CML9EiXsoP"
      },
      "source": [
        "A random variable is a quantity $X$ whose precise value is _uncertain_. For example, the number of cells in the next microscope field of view you image or the height of the first person you see on the street tomorrow are random variables. \n",
        "\n",
        "If $X$ can only take integer values $0,1,2,\\ldots$ we say that $X$ is a __discrete random variable__. If $X$ can take the whole range of real values in $\\mathbb{R}$, we say that $X$ is a __continuous random variable__. There are random variables that can behave discretely in some domain and continuously in others, but for the purpose of the summer school we will only focus on these two types."
      ]
    },
    {
      "cell_type": "markdown",
      "source": [
        "# Probability Distributions\n"
      ],
      "metadata": {
        "id": "wjODbS-0Exf-"
      }
    },
    {
      "cell_type": "markdown",
      "source": [
        "<img src= https://raw.githubusercontent.com/MunskyGroup/uqbio2022/master/files/files_statistics/Module_2_1_Ania/Slide10.png alt=\"drawing\" width=\"1000\"/>"
      ],
      "metadata": {
        "id": "Dv8F0La01mLo"
      }
    },
    {
      "cell_type": "markdown",
      "source": [
        "<img src= https://raw.githubusercontent.com/MunskyGroup/uqbio2022/master/files/files_statistics/Module_2_1_Ania/Slide12.png alt=\"drawing\" width=\"1000\"/>"
      ],
      "metadata": {
        "id": "ETrH4jxN1qBW"
      }
    },
    {
      "cell_type": "markdown",
      "source": [
        "When $X$ is discrete, the __probability mass function__ (PMF) of $X$ gives us the probability for it to take on each possible specific value $n=0,1,2,\\ldots$:\n",
        "$$\n",
        "p_{X}(n) = \\mathrm{Pr}\\left(X = n\\right).\n",
        "$$\n",
        "\n",
        "When $X$ is continuous, we are interested in the __probability density function__ (PDF) of $X$, defined as a function $f_X(x)$ taking nonnegative values such that\n",
        "$$\n",
        "\\int_a^b{f_X(x)\\mathrm{dx}} = \\mathrm{Pr}(a \\leq X \\leq b).\n",
        "$$\n",
        "\n",
        "For either case, we define the __cumulative distribution function__ (CDF) of a random variable $X$ by \n",
        "$$\n",
        "F_X(a) := \\mathrm{Pr}\\left(X \\leq a\\right) =\n",
        "\\begin{cases}\n",
        "\\sum\n",
        "_{\n",
        "  n = -\\infty\n",
        "}\n",
        "^\n",
        "{\n",
        "  a\n",
        "}\n",
        "{\n",
        "    p_X(n)\n",
        "}, \\; \\text{ if }X\\text{ is discrete}\\\\\n",
        "\\int_{-\\infty}^{a}{f_X(x)\\mathrm{dx}},\\;\\text{ if }X\\text{ is continuous}\n",
        "\\end{cases}.\n",
        "$$"
      ],
      "metadata": {
        "id": "eUpa-4sNEDx3"
      }
    },
    {
      "cell_type": "markdown",
      "source": [
        "# Expected Values (e.g., mean, variance, etc.)\n"
      ],
      "metadata": {
        "id": "Tum76swFE3-X"
      }
    },
    {
      "cell_type": "markdown",
      "source": [
        "<img src= https://raw.githubusercontent.com/MunskyGroup/uqbio2022/master/files/files_statistics/Module_2_1_Ania/Slide14.png alt=\"drawing\" width=\"1000\"/>"
      ],
      "metadata": {
        "id": "GqHnQoWC1yjp"
      }
    },
    {
      "cell_type": "markdown",
      "metadata": {
        "id": "QhRbI0soZWUQ"
      },
      "source": [
        "The __expected value__, or mean, or average, of a random variable $X$ is defined as\n",
        "$$\n",
        "\\mathbb{E}(X):=\\sum\n",
        "_{\n",
        "    x \\in \\mathbb{Z}\n",
        "}\n",
        "{\n",
        "   x \\cdot p_X(x)  \n",
        "}\n",
        "$$\n",
        "if $X$ is discrete, and \n",
        "$$\n",
        "\\mathbb{E}(X):=\\int\n",
        "_{\n",
        "    -\\infty\n",
        "}\n",
        "^\n",
        "{\n",
        "    \\infty\n",
        "}\n",
        "{\n",
        "   x \\cdot f_X(x) \\mathrm{dx} \n",
        "}\n",
        "$$\n",
        "if $X$ is continuous. Note that these definitions only make sense when the infinite sum or integral exists. \n",
        "In other words, these infinite sums and integrals need to converge for the definitions to be valid.\n",
        "This is the case for the probability distributions we will encounter in this summer school, but keep in mind that there are probability distributions whose means and variances do not exist (such as the Cauchy distribution).\n",
        "\n",
        "The variance of a random variable $X$, denoted by $\\mathrm{Var}(X)$ is defined as the average of the random variable $\\left(X - \\mathbb{E}{X}\\right)^2$. We have\n",
        "$$\n",
        "\\mathrm{Var}(X) = \\mathbb{E}(X^2) - \\left(\\mathbb{E}X\\right)^2.\n",
        "$$\n",
        "We will also need the concept of the standard deviation, which is the square root of the variance, $\\mathrm{std}(X) := \\sqrt{\\mathrm{Var}(X)}$.\n",
        "\n",
        "The mean $\\mu:=\\mathbb{E}(X)$ and variance $\\sigma^2:=\\mathrm{Var}(X)$ of a random variable $X$, when they exist, provide information about the shape of the probability distribution of $X$. There is a class of mathematical results called concentration inequalities that provide bounds on the tail probabilities of random variables. One well known bound is the __Chebyshev inequality__\n",
        "$$\n",
        "\\mathrm{Pr}\\left({|X-\\mu|>t}\\right)\\leq \\frac{\\operatorname{var}{X}}{t^2}.\n",
        "$$\n",
        "This bound says that, when $X$ has a finite mean and a finite, non-zero, variance, then $X$ will _rarely_ take values outside the region surrounding the mean, and the further from the mean the less likely $X$ will be found there.\n",
        "\n",
        "For many distributions, it is helpful to explore the extend of a random variable's variability compared to its average values. For this, we often use the __coefficient of variation__ ($CV = \\frac{\\sigma}{\\mu}$) or the __Fano Factor__ ($f = \\frac{\\sigma^2}{\\mu})$."
      ]
    },
    {
      "cell_type": "markdown",
      "source": [
        "# Sample Statistics"
      ],
      "metadata": {
        "id": "dX3L9aWZFqqg"
      }
    },
    {
      "cell_type": "markdown",
      "source": [
        "<img src= https://raw.githubusercontent.com/MunskyGroup/uqbio2022/master/files/files_statistics/Module_2_1_Ania/Slide15.png alt=\"drawing\" width=\"1000\"/>"
      ],
      "metadata": {
        "id": "oyMdce1f115Y"
      }
    },
    {
      "cell_type": "markdown",
      "source": [
        "Notice that the mean and variance as we just defined are _theoretical_ object. In practice, when you are given a dataset $D = \\{x_1, \\ldots, x_N\\}$ of samples from $X$, we do not know what the true mean and variance are. We can attempt to _estimate_ these quantitites through the __sample mean__ and __sample variance__, defined as \n",
        "$$\n",
        "\\overline{x} = \\frac{x_1 + \\ldots + x_N}{N},\n",
        "$$\n",
        "$$\n",
        "S^2 = \\frac{\\sum_{i=1}^N{(x_i - \\overline{x})^2}}{N-1}.\n",
        "$$\n",
        "How close are these estimates from the _true_ mean and variance? Why do we divide by $N-1$ in the estimate of variance? Read on to find out!"
      ],
      "metadata": {
        "id": "UnPG9JVEFpT8"
      }
    },
    {
      "cell_type": "markdown",
      "metadata": {
        "id": "L_BhO2d-B9a4"
      },
      "source": [
        "# Basic Distributions for Discrete Random Variables"
      ]
    },
    {
      "cell_type": "markdown",
      "source": [
        "Let's look at some basic discrete random variables."
      ],
      "metadata": {
        "id": "mOBiAhpqGezz"
      }
    },
    {
      "cell_type": "markdown",
      "source": [
        "## Bernoulli Distribution"
      ],
      "metadata": {
        "id": "2vx1f3wkGUdT"
      }
    },
    {
      "cell_type": "markdown",
      "metadata": {
        "id": "GPZmSsRqZtdh"
      },
      "source": [
        "<img src= https://raw.githubusercontent.com/MunskyGroup/uqbio2022/master/files/files_statistics/Module_2_1_Ania/Slide20.png alt=\"drawing\" width=\"1000\"/>\n",
        "\n",
        "The Bernoulli distribution is used to model a binary reponse $Y$ that, without loss of generality, we assume to be either $0$ or $1$. Its probability mass function is given by\n",
        "$$\n",
        "\\mathrm{Ber}\\left(y\\vert \\theta\\right)\n",
        ":=\n",
        "\\begin{cases}\n",
        "1-\\theta \\;\\;\\text{if }y=0\\\\\n",
        "\\theta \\;\\;\\text{if }y=1\n",
        "\\end{cases}\n",
        "$$\n",
        "where $\\theta$ is the parameter of the distribution. This parameter has the clear interpretation as the probability for $Y$ to take value $1$. You can use this distribution to model a _single occurence_ of a trial that has binary outcomes, such as the a single coin flip.\n",
        "\n",
        "The Bernoulli distribution is important for understanding binary classification (e.g., in machine learning). \n",
        "\n",
        "* What is the mean of a Bernoulli random variable?\n",
        "\n",
        "* What is it's standard deviation?\n"
      ]
    },
    {
      "cell_type": "code",
      "metadata": {
        "id": "23njLG6rZszb",
        "colab": {
          "base_uri": "https://localhost:8080/",
          "height": 289
        },
        "outputId": "448f7500-2c9e-4821-88df-fde3bf0d7fd3"
      },
      "source": [
        "#@title Bernoulli Distribution -- Adjust slider below to see how the distribution shape changes with parameter { run: \"auto\", vertical-output: true, display-mode: \"form\" }\n",
        "from scipy.stats import bernoulli\n",
        "\n",
        "theta = 0.3 #@param {type:\"slider\", min:0, max:1, step:0.1}\n",
        "\n",
        "ber_rv = bernoulli(p = theta)\n",
        "\n",
        "fig, ax = plt.subplots(1,1)\n",
        "bplot = ax.bar([0, 1], ber_rv.pmf([0, 1]))\n",
        "ax.set_xticks([0, 1])\n",
        "ax.set_xlabel(\"Outcome\")\n",
        "ax.set_ylabel(\"Probability\")\n",
        "sns.despine(offset=5, trim=True)\n",
        "for i, bar in enumerate(bplot):\n",
        "  bar.set_color(\"crimson\") if i == 0 else bar.set_color(\"orange\")\n",
        "  ax.add_patch(Shadow(bar, 0.02, 0.01))\n"
      ],
      "execution_count": null,
      "outputs": [
        {
          "output_type": "display_data",
          "data": {
            "text/plain": [
              "<Figure size 432x288 with 1 Axes>"
            ],
            "image/png": "[encoded data removed]"
          },
          "metadata": {}
        }
      ]
    },
    {
      "cell_type": "markdown",
      "metadata": {
        "id": "YpzImPAd642C"
      },
      "source": [
        "## The Binomial distribution\n"
      ]
    },
    {
      "cell_type": "markdown",
      "metadata": {
        "id": "mc4I5eEDZqeO"
      },
      "source": [
        "<img src= https://raw.githubusercontent.com/MunskyGroup/uqbio2022/master/files/files_statistics/Module_2_1_Ania/Slide21.png alt=\"drawing\" width=\"1000\"/>\n",
        "\n",
        "Let $S = X_1 + X_2 + \\ldots + X_n$ where $n$ is a fixed integer and $X_1,\\ldots, X_n$ are __independent__ random variables that are distributed according to the Bernoulli distribution with the __same__ parameter $p$. Then $S$ will be a discrete random variable with a __Binomial Distribution__ with parameters $n$ and $p$, and we write $S\\sim \\mathrm{Binomial}(n;p)$. It has the probability mass function\n",
        "$$\n",
        "\\mathrm{Pr}(S = y) = \\mathrm{Binomial}(y \\vert n, p) := \\left(\\begin{array}{c} y\\\\n \\end{array} \\right) p^y(1-p)^{1-y}.\n",
        "$$\n",
        "\n",
        "Here \n",
        "$$\n",
        "\\left(\\begin{array}{c} y\\\\n \\end{array} \\right)  := \\frac{\n",
        "    n! \n",
        "}{\n",
        "    (n-y)!y!\n",
        "}\n",
        "$$ \n",
        "is pronounced \"_n choose y_\" and is the total number of ways to take $y$ objects without replacement from a set of $n$ objects.\n",
        "\n",
        "The binomial distribution models the number of heads you get when flipping a coin $n$ times, where the probability of getting head in each flip is p. It could also model the probability distribution for how many cells will have a given phenotype when you measure $n$ total cells and the phenotype probability is $p$.\n"
      ]
    },
    {
      "cell_type": "markdown",
      "metadata": {
        "id": "TiE1Y-TGt0aD"
      },
      "source": [
        "In the following interactive cell, try to change the parameters of the distribution yourself and observe how the shape of the distribution changes accordingly. As you assign large values for $n$, you will see that the distribution starts to look like a bell curve with relatively concentrated mass around its peak value. It turns out that this shape is approximated well by another distribution that we will discuss next.\n",
        "\n",
        "* What is the mean of a Binomial random variable?\n",
        "* What is the variance and standard deviation?"
      ]
    },
    {
      "cell_type": "code",
      "metadata": {
        "colab": {
          "base_uri": "https://localhost:8080/",
          "height": 529
        },
        "id": "q-1upBAX8I0q",
        "outputId": "affc2c56-b6f6-450d-ca36-c51d8d4439e1"
      },
      "source": [
        "#@title Binomial Distribution - Change parameters to see effect on distribution.{ run: \"auto\", vertical-output: true, display-mode: \"form\" }\n",
        "from scipy.stats import binom \n",
        "\n",
        "n =  10#@param {type: \"integer\"}\n",
        "p =  0.9#@param \n",
        "\n",
        "binom_rv = binom(n=n, p=p)\n",
        "k= np.arange(n+1)\n",
        "\n",
        "pmf = binom_rv.pmf(k=k)\n",
        "mean = binom_rv.mean()\n",
        "\n",
        "fig, ax = plt.subplots()\n",
        "fig.set_size_inches(8,8)\n",
        "ax.vlines(k, 0, pmf, colors='crimson', linestyles='-', lw=10,\n",
        "          path_effects=[SimpleLineShadow(shadow_color='k'), Normal()])\n",
        "ax.axvline(x=mean, color='k', lw=5)\n",
        "ax.set_xlabel(f\"number of successes in {n} trials\")\n",
        "ax.set_ylabel(\"Probability\")\n",
        "ax.set_xticks(k)\n",
        "sns.despine(left=True, offset=10, trim=True)\n",
        "ax.set_ylim([0, None])"
      ],
      "execution_count": null,
      "outputs": [
        {
          "output_type": "execute_result",
          "data": {
            "text/plain": [
              "(0.0, 0.40679151345000036)"
            ]
          },
          "metadata": {},
          "execution_count": 22
        },
        {
          "output_type": "display_data",
          "data": {
            "text/plain": [
              "<Figure size 576x576 with 1 Axes>"
            ],
            "image/png": "[encoded data removed]"
          },
          "metadata": {}
        }
      ]
    },
    {
      "cell_type": "markdown",
      "metadata": {
        "id": "1twieaJd66wM"
      },
      "source": [
        "## The Poisson distribution"
      ]
    },
    {
      "cell_type": "markdown",
      "metadata": {
        "id": "6jQRrGTlZ1mG"
      },
      "source": [
        "<img src= https://raw.githubusercontent.com/MunskyGroup/uqbio2022/master/files/files_statistics/Module_2_1_Ania/Slide22.png alt=\"drawing\" width=\"1000\"/>\n",
        "\n",
        "\n",
        "A discrete random variable $X$ has the Poisson distribution with parameter $\\lambda$, denoted by $X\\sim \\mathrm{Poisson}(\\lambda)$, if it has the PMF\n",
        "$$\n",
        "p_X(k) = \\frac{\\lambda^k}{k!}\\exp(-\\lambda),\\; k=0,1,2,\\ldots\n",
        "$$\n",
        "\n",
        "The Poisson distribution has the theoretical origin as the limit for certain sequences of binomial distributions. In particular, let $X \\sim \\mathrm{Binomial}(n,\\theta)$ be a binomially distributed variable. Now, let $n$ increases but $\\theta$ decreases such that $\\lambda := n\\theta$ remains constant. Then, as $n$ gets really large, the PMF of $X$ is about the same as that of a Poisson distribution with parameter $\\lambda$.\n"
      ]
    },
    {
      "cell_type": "markdown",
      "metadata": {
        "id": "C8T9RcFLtnCi"
      },
      "source": [
        "In the following interactive cell, you can explore the shape of the Poisson distribution for the specific value of $\\lambda$ of your choice."
      ]
    },
    {
      "cell_type": "code",
      "metadata": {
        "colab": {
          "base_uri": "https://localhost:8080/",
          "height": 576
        },
        "id": "plZCit0eBAG6",
        "outputId": "95120d5b-5ee0-40ca-95e7-664c2b693985"
      },
      "source": [
        "#@title Poisson Distribution - Adjust the Lambda to see effect on distribution shape. { run: \"auto\", vertical-output: true, display-mode: \"form\" }\n",
        "from scipy.stats import poisson \n",
        "\n",
        "Lambda =  20#@param\n",
        "max_plot_range =  60#@param\n",
        "\n",
        "# Create the Poisson random variable object\n",
        "poiss_rv = poisson(Lambda)\n",
        "\n",
        "# Compute the probability mass over the discrete values 0, 1, ..., max_plot_range\n",
        "k = np.arange(max_plot_range+1)\n",
        "pmf = poiss_rv.pmf(k=k)\n",
        "mean = poiss_rv.mean()\n",
        "var = poiss_rv.var()\n",
        "print(f\"mean= {mean}\\n\"\n",
        "      f\"var = {var}\"\n",
        ")\n",
        "fano_factor = var/mean \n",
        "print(f\"fano = {fano_factor}\")\n",
        "\n",
        "# Plot the computed probabiliy mass values\n",
        "fig, ax = plt.subplots()\n",
        "fig.set_size_inches(8,8)\n",
        "ax.vlines(k, 0, pmf, colors='darkgreen', \n",
        "          linestyles='-', lw=10,\n",
        "          path_effects=[SimpleLineShadow(), Normal()])\n",
        "ax.set_xlabel(\"$k$\")\n",
        "ax.set_ylabel(\"$P(k)$\")\n",
        "ax.set_ylim([0, None])"
      ],
      "execution_count": null,
      "outputs": [
        {
          "output_type": "stream",
          "name": "stdout",
          "text": [
            "mean= 20.0\n",
            "var = 20.0\n",
            "fano = 1.0\n"
          ]
        },
        {
          "output_type": "execute_result",
          "data": {
            "text/plain": [
              "(0.0, 0.09327708326168904)"
            ]
          },
          "metadata": {},
          "execution_count": 6
        },
        {
          "output_type": "display_data",
          "data": {
            "text/plain": [
              "<Figure size 576x576 with 1 Axes>"
            ],
            "image/png": "[encoded data removed]"
          },
          "metadata": {}
        }
      ]
    },
    {
      "cell_type": "markdown",
      "metadata": {
        "id": "BZT9VeteOxky"
      },
      "source": [
        "In practice, the Poisson distribution is often used to count random arrivals. For example, a Poisson random variable can describe the number of buses ariving at a station within a time interval, the number of mRNA transcription initiations in a given period of time.  In these cases the $\\lambda = a\\Delta t$, where $a$ is the 'arrival rate' or 'transcription initiation rate' and $\\Delta t$ is the ellapsed time.\n",
        "\n",
        "Because the need for counting is ubiquitious in science, you will see the Poisson distribution alot in the stochastic gene expression modeling literature. One important place is in approximate simulation methods such as $\\tau$-leaping (look it up!). Another place is in analytical expressions for the stationary distributions of different gene expression models (see, for example, _Peccoud and Ycart \"Markovian modeling of gene-product synthesis\" Theoretical Population Biology 1995_)."
      ]
    },
    {
      "cell_type": "markdown",
      "source": [
        ""
      ],
      "metadata": {
        "id": "Bkr1N2iPO1z3"
      }
    },
    {
      "cell_type": "markdown",
      "metadata": {
        "id": "RACzvYRXC6Wq"
      },
      "source": [
        "## How are Poisson and Binomial Distributions Related?"
      ]
    },
    {
      "cell_type": "markdown",
      "metadata": {
        "id": "Nld8FRIfIXoC"
      },
      "source": [
        "The Poisson distribution provides a computationally stable way to approximate the PMF of binomial distributions, as we mention above. The factorials and powers involved in the PMF of a $\\mathrm{Binomial}(n,\\theta)$ distribution become very difficult to compute as $n$ becomes large and it is advisable to replace it with a Poisson variable with parameter $\\lambda:=n\\theta$.\n",
        "\n",
        "Now we will explore how the probability mass functions of the Poisson and Binomial distributions are related to each other. Try playing with the different values for the parameters of the Poisson and the Binomial distributions below. Could you find parameters for which the corresponding Poisson and Binomial PMFs appear to perfectly match each other? (Hint: Try it for large $n$ and adjust $p$ so that $\\lambda = n\\cdot p$)."
      ]
    },
    {
      "cell_type": "code",
      "metadata": {
        "colab": {
          "base_uri": "https://localhost:8080/",
          "height": 519
        },
        "id": "pp1IBIynDA_1",
        "outputId": "194637cb-c8cc-4deb-9b5d-6bdaff7c61e1"
      },
      "source": [
        "#@title Compare Poisson and Binomial { run: \"auto\", vertical-output: true, display-mode: \"form\" }\n",
        "#@markdown Adjust the parameters $p$ and $n$ for the Binomial distribution here\n",
        "n =  200#@param\n",
        "p = 0.31 #@param {type:\"slider\", min:0.0, max:1.0, step:0.01}\n",
        "#@markdown Adjust the parameter $\\lambda$ for the Poisson distribution here. What should you choose to get them to match?\n",
        "Lambda = 70 #@param\n",
        "#@markdown Set the range for plotting the PMF\n",
        "max_plot_range =  200#@param\n",
        "\n",
        "binom_rv = binom(n=n, p=p)\n",
        "poiss_rv = poisson(Lambda)\n",
        "\n",
        "k = np.arange(max_plot_range+1)\n",
        "binom_pmf = binom_rv.pmf(k=k)\n",
        "poiss_pmf = poiss_rv.pmf(k=k)\n",
        "\n",
        "# Plot the computed probabiliy mass values\n",
        "fig, ax = plt.subplots()\n",
        "fig.set_size_inches(10,8)\n",
        "ax.vlines(k, 0, poiss_pmf, \n",
        "          colors='darkgreen', linestyles='-', lw=5, label=\"Poisson\")\n",
        "ax.vlines(k, 0, \n",
        "          binom_pmf, \n",
        "          colors='crimson', linestyles='-', lw=5, label=\"Binomial\", alpha=0.8)\n",
        "ax.legend()\n",
        "ax.set_xlabel(\"$n$\")\n",
        "ax.set_ylabel(\"$P(n)$\")\n",
        "ax.set_ylim([0, None])\n"
      ],
      "execution_count": null,
      "outputs": [
        {
          "output_type": "execute_result",
          "data": {
            "text/plain": [
              "(0.0, 0.06394608371767697)"
            ]
          },
          "metadata": {},
          "execution_count": 30
        },
        {
          "output_type": "display_data",
          "data": {
            "text/plain": [
              "<Figure size 720x576 with 1 Axes>"
            ],
            "image/png": "[encoded data removed]"
          },
          "metadata": {}
        }
      ]
    },
    {
      "cell_type": "markdown",
      "metadata": {
        "id": "Rj00YMhCfI8o"
      },
      "source": [
        "## The Geometric Distribution\n"
      ]
    },
    {
      "cell_type": "markdown",
      "metadata": {
        "id": "WmUvJG5HfaUr"
      },
      "source": [
        "<img src= https://raw.githubusercontent.com/MunskyGroup/uqbio2022/master/files/files_statistics/Module_2_1_Ania/Slide23.png alt=\"drawing\" width=\"1000\"/>\n",
        "\n",
        "One final distribution for our list of discrete-valued random variables is the __geometric distribution__. This distribution is defined for a discrete random variable taking positive integers $1,2,3\\ldots$ as values, with PMF given by \n",
        "$$\n",
        "p_X(k) = (1-p)^{k-1}p,\n",
        "$$ \n",
        "and we write $X \\sim \\mathrm{Geom}(p)$ to denote a geometrically distributed random variable. This distribution is parametrized by $p \\in [0,1]$. We can interpret $X$ as modeling the number of attempts needed before the first success, with $p$ as the probability of success in each trial.\n",
        "\n",
        "This distribution captures the number of times you may need to flip a coin before you get a \"heads\"."
      ]
    },
    {
      "cell_type": "code",
      "metadata": {
        "colab": {
          "base_uri": "https://localhost:8080/",
          "height": 284
        },
        "id": "431a4MBTgjbS",
        "outputId": "4a11388d-f5b4-4e01-90d0-f015294a4d76"
      },
      "source": [
        "#@title Adjust the parameters below to explore distribution shapes { run: \"auto\", vertical-output: true, display-mode: \"form\" }\n",
        "from scipy.stats import geom \n",
        "\n",
        "p =  0.9#@param\n",
        "nmax = 10 #@param\n",
        "\n",
        "geom_rv = geom(p=p)\n",
        "pmf = geom_rv.pmf(np.arange(0, nmax+1))\n",
        "\n",
        "fig, ax = plt.subplots(1,1)\n",
        "vl = ax.vlines(np.arange(0, nmax+1), 0, \n",
        "          pmf, \n",
        "          colors='orange', \n",
        "          linestyles='-', lw=15,\n",
        "          path_effects = [SimpleLineShadow(), Normal()]\n",
        "          )\n",
        "\n",
        "ax.set_xlabel(\"Number of trials\")\n",
        "ax.set_ylabel(\"Probability\")\n",
        "ax.set_xticks(np.arange(0, nmax+1))\n",
        "sns.despine(trim=True, left=True)\n"
      ],
      "execution_count": null,
      "outputs": [
        {
          "output_type": "display_data",
          "data": {
            "text/plain": [
              "<Figure size 432x288 with 1 Axes>"
            ],
            "image/png": "[encoded data removed]"
          },
          "metadata": {}
        }
      ]
    },
    {
      "cell_type": "markdown",
      "metadata": {
        "id": "rilW-5MBhP6F"
      },
      "source": [
        "Look at how _hard_ it is to _fail_ on the 8th trial onwards. Quite a mathematical argument for being persistent in life, isn't it?\n",
        "\n",
        "Jests aside, the geometric distribution has been used to model the number of mRNA molecules produced during a burst of a gene's transcriptional activity. For this, we need to change it just a little bit. Let $p$ denote the probability of successful initiation, and we now want to ask how many times (i.e., 0,1,2,...) will instead of asking how many times will initiation be successful before the first time it fails. This distribution has the PMF given by \n",
        "$$\n",
        "p_X(k) = (1-p)^{k}p.\n",
        "$$ "
      ]
    },
    {
      "cell_type": "markdown",
      "metadata": {
        "id": "-fv8O81RGNt0"
      },
      "source": [
        "# Basic distributions for Continous Random Variables\n"
      ]
    },
    {
      "cell_type": "markdown",
      "metadata": {
        "id": "Sa819ENQ68yP"
      },
      "source": [
        "## The Uniform distribution\n"
      ]
    },
    {
      "cell_type": "markdown",
      "metadata": {
        "id": "zK-CIAUVZ8Uq"
      },
      "source": [
        "<img src= https://raw.githubusercontent.com/MunskyGroup/uqbio2022/master/files/files_statistics/Module_2_1_Ania/Slide24.png alt=\"drawing\" width=\"1000\"/>\n",
        "\n",
        "A continuous random variable $X$ is said to have a uniform distribution with parameters $a$ and $b$ (with $a< b$), denoted by $X\\sim U(a,b)$, if its probability density function is given by\n",
        "$$\n",
        "f_X(x) = \\frac{\n",
        "    1\n",
        "}{\n",
        "    b-a\n",
        "}\\mathbb{1}(a\\leq x \\leq b)\n",
        "$$\n",
        "where $\\mathbb{1}(A)=0$ if statement $A$ is false and $1$ otherwise. This distribution will be essential in implementing stochastic simulation algorithm and Metropolis-Hastings algorithm later in this summer school."
      ]
    },
    {
      "cell_type": "code",
      "metadata": {
        "colab": {
          "base_uri": "https://localhost:8080/",
          "height": 284
        },
        "id": "sYCN1rbOGX4n",
        "outputId": "db1fa860-ed50-4412-ffd1-543f5fd87f51",
        "cellView": "form"
      },
      "source": [
        "#@title Adjust parameters to change the PDF shape { run: \"auto\", vertical-output: true }\n",
        "from scipy.stats import uniform\n",
        "\n",
        "a =  1#@param\n",
        "b =  10#@param\n",
        "\n",
        "uni_rv = uniform(a, b)\n",
        "x = np.linspace(a-0.5*np.abs(b-a), b+0.5*np.abs(b-a), 100)\n",
        "pdf = uni_rv.pdf(x=x)\n",
        "\n",
        "fig = plt.figure()\n",
        "ax = fig.add_subplot()\n",
        "lp = ax.plot(x, pdf, lw=1,\n",
        "             path_effects=[SimpleLineShadow(), Normal()]\n",
        "             )\n",
        "ax.fill_between(x, pdf, color=\"lightgreen\")\n",
        "ax.set_xlabel(r\"$x$\")\n",
        "ax.set_ylabel(r\"$f(x)$\")\n",
        "\n",
        "sns.despine(trim=True, left=True, bottom=True)\n",
        "\n"
      ],
      "execution_count": null,
      "outputs": [
        {
          "output_type": "display_data",
          "data": {
            "text/plain": [
              "<Figure size 432x288 with 1 Axes>"
            ],
            "image/png": "[encoded data removed]"
          },
          "metadata": {}
        }
      ]
    },
    {
      "cell_type": "markdown",
      "metadata": {
        "id": "ZwiMkxZD6_jj"
      },
      "source": [
        "## The Exponential distribution\n"
      ]
    },
    {
      "cell_type": "markdown",
      "metadata": {
        "id": "zNa_Zr-4Z-4y"
      },
      "source": [
        "<img src= https://raw.githubusercontent.com/MunskyGroup/uqbio2022/master/files/files_statistics/Module_2_1_Ania/Slide26.png alt=\"drawing\" width=\"1000\"/>\n",
        "\n",
        "A continuous random variable $X$ has an exponential distribution with `rate' parameter $\\alpha > 0$, denoted by $X \\sim \\mathrm{Exp}(\\alpha)$,  if it has the PDF\n",
        "$$\n",
        "f_X(x) = \n",
        "\\begin{cases}\n",
        "\\alpha\\exp(-\\alpha x),\\;\\text{if }x\\geq 0,\\\\\n",
        "0,\\text{ otherwise}\n",
        "\\end{cases}.\n",
        "$$\n",
        "The CDF of this variable is then\n",
        "$$\n",
        "F_X(x)\n",
        "=\n",
        "\\begin{cases}\n",
        "0,\\;x<0,\\\\\n",
        "1-\\exp(-\\alpha{x}),\\; x\\geq 0.\n",
        "\\end{cases}\n",
        "$$\n",
        "\n",
        "The exponential distribution will be _very important_ later in this summer school as we discuss the concept of Markov jump models for stochastic gene expression and the stochastic simulation algorithm. "
      ]
    },
    {
      "cell_type": "code",
      "metadata": {
        "colab": {
          "base_uri": "https://localhost:8080/",
          "height": 284
        },
        "id": "V-fBafpXJn8y",
        "outputId": "cb9211ef-d8d9-46c1-8413-dbd6411096ac"
      },
      "source": [
        "#@title Exponential Distribution { run: \"auto\", vertical-output: true }\n",
        "from scipy.stats import expon \n",
        "\n",
        "#@markdown Adjust the parameter of the Exponential here\n",
        "alpha =  0.1#@param \n",
        "exp_rv = expon(scale=1/alpha)\n",
        "\n",
        "xmax =  500#@param\n",
        "\n",
        "x = np.linspace(0, xmax, 100)\n",
        "pdf = exp_rv.pdf(x=x)\n",
        "\n",
        "fig = plt.figure()\n",
        "ax = fig.add_subplot()\n",
        "ax.plot(x, pdf, lw=5,\n",
        "        path_effects = [SimpleLineShadow(), Normal()],\n",
        "        color=\"darkgreen\"\n",
        "        )\n",
        "ax.set_xlabel(r\"$x$\")\n",
        "ax.set_ylabel(r\"$f(x)$\")\n",
        "\n",
        "sns.despine(left=True, bottom=True, trim=True)"
      ],
      "execution_count": null,
      "outputs": [
        {
          "output_type": "display_data",
          "data": {
            "text/plain": [
              "<Figure size 432x288 with 1 Axes>"
            ],
            "image/png": "[encoded data removed]"
          },
          "metadata": {}
        }
      ]
    },
    {
      "cell_type": "markdown",
      "metadata": {
        "id": "JAdxrSu2ToED"
      },
      "source": [
        "Most importantly, the Exponential distribution satisfies the __memoryless property__. Mathematically, it is stated that for a random variable $X\\sim \\mathrm{Exp}(\\alpha)$ we have\n",
        "$$\n",
        "P(X > x + a | X > a) = P(X > x).\n",
        "$$\n",
        "Visually, if you plot the function $P(X > x + a | X > a)$ as a function of $x>0$, you will see that it is the same as the plot of the right-tail probability of $X$ itself! Let try that, shall we?\n",
        "\n",
        "First, let us use Bayes' formula to get\n",
        "$$\n",
        "P(X > x + a | X > a) = \\frac{P(X> x+a \\text{ and } X>a)}{P(X>a)} = \\frac{P(X>x+a)}{P(X>a)}.\n",
        "$$\n",
        "\n",
        "So in order to compute the conditional density function, you need to find the right-tail probabilities $P(X>t)$ of $X$ for any $t>0$. This is actually just one minus the CDF of $X$:\n",
        "$$\n",
        "P(X>t) = 1 - F_X(t).\n",
        "$$\n",
        "\n",
        "We can write a Python function to compute this distribution with the help of `scipy.stats` built-in functions:"
      ]
    },
    {
      "cell_type": "code",
      "metadata": {
        "id": "mMorDqdRaqiW"
      },
      "source": [
        "def exp_right_prob(rv: sp.stats.expon, t: Union[float, np.ndarray]) -> Union[float, np.ndarray]:\n",
        "  return 1.0 - rv.cdf(t)"
      ],
      "execution_count": null,
      "outputs": []
    },
    {
      "cell_type": "markdown",
      "metadata": {
        "id": "aWKqAhykbHCB"
      },
      "source": [
        "From this, we can easily write a function to compute the condtional probability above. Here it is:"
      ]
    },
    {
      "cell_type": "code",
      "metadata": {
        "id": "Rcva0DkjbD8p"
      },
      "source": [
        "def exp_cond_right_prob(rv: sp.stats.expon, x: float, a: Union[float, np.ndarray])->Union[float, np.ndarray]:\n",
        "  return exp_right_prob(rv, x+a)/exp_right_prob(rv, a)"
      ],
      "execution_count": null,
      "outputs": []
    },
    {
      "cell_type": "markdown",
      "metadata": {
        "id": "zXqD7gXQbnFa"
      },
      "source": [
        "Now we are ready to visualize the memoryless property. The codes are contained in the interactive cell below. Try playing with the parameters yourself and double-click on the cell to see the codes."
      ]
    },
    {
      "cell_type": "code",
      "metadata": {
        "colab": {
          "base_uri": "https://localhost:8080/",
          "height": 302
        },
        "cellView": "form",
        "id": "oDkkDzHYblX0",
        "outputId": "fa4e7788-14e8-4f08-e8f2-b05684b6c0f9"
      },
      "source": [
        "#@title Memoryless Property of Exponential Distribution { run: \"auto\", vertical-output: true }\n",
        "\n",
        "alpha = 4.0 #@param\n",
        "a = 1 #@param\n",
        "xmax =  5#@param\n",
        "\n",
        "rv = sp.stats.expon(scale=1/alpha)\n",
        "fig, ax = plt.subplots(1,1)\n",
        "xs = np.linspace(0, xmax, 100) \n",
        "exp_rps = exp_right_prob(rv, xs)\n",
        "exp_crps = exp_cond_right_prob(rv, xs, a)\n",
        "\n",
        "ax.plot(xs, exp_rps, lw = 2, label=\"$P(X>x)$\", alpha=0.8)\n",
        "ax.plot(xs, exp_crps, lw = 4, ls = '--', label=\"$P(X>x+a|X>a)$\", alpha=0.8)\n",
        "ax.set_xlabel(\"x\")\n",
        "ax.set_ylabel(\"Probability\")\n",
        "ax.legend()"
      ],
      "execution_count": null,
      "outputs": [
        {
          "output_type": "execute_result",
          "data": {
            "text/plain": [
              "<matplotlib.legend.Legend at 0x7fb4bfb8ba10>"
            ]
          },
          "metadata": {},
          "execution_count": 11
        },
        {
          "output_type": "display_data",
          "data": {
            "text/plain": [
              "<Figure size 432x288 with 1 Axes>"
            ],
            "image/png": "[encoded data removed]"
          },
          "metadata": {}
        }
      ]
    },
    {
      "cell_type": "markdown",
      "metadata": {
        "id": "L-8B0GRNdzzz"
      },
      "source": [
        "Because of this _memoryless_ property, the Exponential distriubtion plays an important role in the theory of continuous-time Markov process. In fact, it is used to model the waiting time between two reaction events in a stochastic chemical reaction network. We will have an opportunity to explore this in Module 3 of this Summer School."
      ]
    },
    {
      "cell_type": "markdown",
      "metadata": {
        "id": "HOOCk6M67B_-"
      },
      "source": [
        "## The Normal distribution"
      ]
    },
    {
      "cell_type": "markdown",
      "metadata": {
        "id": "fUIVRlNLaDZ6"
      },
      "source": [
        "<img src= https://raw.githubusercontent.com/MunskyGroup/uqbio2022/master/files/files_statistics/Module_2_1_Ania/Slide25.png alt=\"drawing\" width=\"1000\"/>\n",
        "\n",
        "A continuous random variable $X$ has a normal distribution with parameters $\\mu$ and $\\sigma^2$, written $X\\sim N(\\mu, \\sigma^2)$ if it has probability density function\n",
        "$$\n",
        "f_X(x) = \\frac{\n",
        "    1\n",
        "}{\n",
        "    \\sqrt{2\\pi\\sigma^2}\n",
        "}\\exp\\left(-\\frac{\n",
        "    1\n",
        "}{\n",
        "    2\n",
        "}\\left(\\frac{\n",
        "    x-\\mu\n",
        "}{\n",
        "    \\sigma\n",
        "}\\right)^2\\right).\n",
        "$$\n",
        "\n",
        "Unlike the previously introduced distributions, the CDF of a normal distributions cannot be expressed through elementary functions. Specifically, if $X\\sim N(\\mu, \\sigma^2)$ then\n",
        "$$\n",
        "F_X(x)\n",
        "=\n",
        "\\frac{\n",
        "    1\n",
        "}{\n",
        "    2\n",
        "}\\left[1 + \\mathrm{erf}\\left(\\frac{\n",
        "    x-\\mu\n",
        "}{\n",
        "    \\sigma\\sqrt{2}\n",
        "}\\right)\\right]\n",
        "$$\n",
        "where \n",
        "$$\\mathrm{erf}(u) := \\frac{\n",
        "    2\n",
        "}{\n",
        "    \\sqrt{\\pi}\n",
        "}\\int_{0}^{u}{e^{-t^2}\\mathrm{dt}}$$\n",
        "is called the error function. An important special case of the normal distribution is the standard normal distribution $N(0,1)$ which has parameters $\\mu=0$ and $\\sigma^2=1$.\n",
        "\n",
        "The normal distribution has a very important role in statistics. One reason is that many random quantitites tend to be approximately normally distributed for large sample size. Specifically, the Central Limit Theorem (CLT) states that for random variables $X_1,\\ldots, X_n$ that are independent and identically distributed with the same mean $\\mu$ and variance $\\sigma^2$, and let \n",
        "$$\n",
        "\\overline{X}:=\\frac{\n",
        "    X_1+\\ldots+X_n\n",
        "}{\n",
        "    n\n",
        "}$$\n",
        "be the sample mean, then the distribution of the random variable $$Z:=\\sqrt{n}\\left(\\frac{\n",
        "    \\overline{X} - \\mu\n",
        "}{\n",
        "    \\sigma\n",
        "}\\right)$$\n",
        "is well-approximated by a standard normal distribution $N(0,1)$ when $n$ is large.\n",
        "\n",
        "The normal distribution is also essential for understanding the mathematical idea behind regression in machine learning. For example, why is the mean squared loss function so popular? "
      ]
    },
    {
      "cell_type": "code",
      "metadata": {
        "colab": {
          "base_uri": "https://localhost:8080/",
          "height": 284
        },
        "id": "FTSd4xqXLXM0",
        "outputId": "3483d88d-6676-4906-bef2-c847f6dd47a7"
      },
      "source": [
        "#@title Normal Distribution { run: \"auto\", vertical-output: true }\n",
        "from scipy.stats import norm \n",
        "\n",
        "mu = 20#@param\n",
        "sigma = 2.0#@param\n",
        "\n",
        "norm_rv = norm(loc=mu, scale=sigma)\n",
        "\n",
        "xmin = mu - 3*sigma \n",
        "xmax = mu + 3*sigma \n",
        "x = np.linspace(-xmax, xmax, 100)\n",
        "pdf = norm_rv.pdf(x=x)\n",
        "\n",
        "fig = plt.figure()\n",
        "ax = fig.add_subplot()\n",
        "ax.plot(x, pdf, lw=2, \n",
        "        path_effects = [SimpleLineShadow(offset=(0.1, 0.1)),\n",
        "                        Normal()]\n",
        "        )\n",
        "ax.fill_between(x, pdf, color=\"lightblue\")\n",
        "ax.set_xlabel(r\"$x$\")\n",
        "ax.set_ylabel(r\"$f(x)$\")\n",
        "ax.axvline(mu)\n",
        "\n",
        "sns.despine(left=True, bottom=True, trim=True)\n"
      ],
      "execution_count": null,
      "outputs": [
        {
          "output_type": "display_data",
          "data": {
            "text/plain": [
              "<Figure size 432x288 with 1 Axes>"
            ],
            "image/png": "[encoded data removed]"
          },
          "metadata": {}
        }
      ]
    },
    {
      "cell_type": "markdown",
      "source": [
        "# Drawing Samples from Arbitrary Distributions\n"
      ],
      "metadata": {
        "id": "yrVbovJYlr0-"
      }
    },
    {
      "cell_type": "markdown",
      "source": [
        "<img src= https://raw.githubusercontent.com/MunskyGroup/uqbio2022/master/files/files_statistics/Module_2_1_Ania/Slide16.png alt=\"drawing\" width=\"1000\"/>"
      ],
      "metadata": {
        "id": "cxLDGANo19rt"
      }
    },
    {
      "cell_type": "markdown",
      "source": [
        "Above we showed how to use Python to generate random numbers for a few common distributions, but what if you need to generate a random number from a more complex distribution?  In this section, you will learn how to generate a random variable from any distribution for which you can define the cumulative distribution function.\n",
        "\n",
        "The trick is simple.  \n",
        "\n",
        "First, let's assume that we already know how to generate a (pseudo) random number from a continuous distribution for which also we know the CDF. The simplest and most common choice is to use a uniform random variable between zero and one: $r \\sim U(0,1)$, for which we know that the CDF is:\n",
        "$$\n",
        "F_R(r) = \\left\\{  \\begin{array}{ll}\n",
        "0\\text{ for }r<0,\\\\\n",
        "r\\text{ for }0\\leq r \\leq 1,\\\\\n",
        "1\\text{ for }r>1  \n",
        " \\end{array}\\right\\}.\n",
        "$$ \n",
        "Every scientific computing language provides a pseudo random number generator to generate $r$ from $U(0,1)$.\n",
        "\n",
        "Next, if we also know cumulative distribution function, $x\\sim F_X(x)$, we can invert it and use $r$ to generate a sample for $x$ according to:\n",
        "$$\n",
        "x = F_X^{-1}(F_R(r)) = F_X^{-1}(r)\n",
        "$$\n",
        "\n",
        "Let's try it for a couple examples:\n",
        "1. For the continuous valued __Exponential__ distribution, we saw that:\n",
        "$$\n",
        "f_X(x) = a\\exp(-ax)\\text{, for }x\\ge 0,\n",
        "$$\n",
        "which we can integrate with respect to $x$ to find:\n",
        "$$\n",
        "F_X(x) = 1-\\exp(-ax)\\text{, for }x\\ge 0.\n",
        "$$\n",
        "Since we know for the uniform random variable $r = F_R(r) = F_X(x)$, we can now invert to solve for $x$ provided that we can generate $r$:\n",
        "$$\n",
        "x = F_X^{-1}(r) = -\\frac{\\log(1-r)}{a},\n",
        "$$\n",
        "or since $(1-r)$ has the same distribution as $r$, we can simplify to:\n",
        "$$\n",
        "x = F_X^{-1}(r) = -\\frac{\\log(r)}{a},\n",
        "$$\n",
        "Let's check that in Python:\n"
      ],
      "metadata": {
        "id": "NTEK0KbglxJ5"
      }
    },
    {
      "cell_type": "code",
      "source": [
        "#@title Generate Exponentially Distributed Random Variables { run: \"auto\", vertical-output: true }\n",
        "from scipy.stats import uniform\n",
        "import numpy as np\n",
        "\n",
        "a = 1.0 #@param\n",
        "NS = 10000 #@param\n",
        "\n",
        "r = uniform.rvs(size=NS)\n",
        "x = -np.log(r)/a\n",
        "\n",
        "fig, ax = plt.subplots(1,1)\n",
        "sns.histplot(x, ax=ax, stat=\"density\", label=\"Distribution of Sampled Variables\")\n",
        "\n",
        "xs = np.linspace(0.0,8./a)\n",
        "Pexp = a*np.exp(-a*xs)\n",
        "\n",
        "ax.set_xlabel(\"Value of random variable\")\n",
        "ax.set_ylabel(\"Probability Density\")\n",
        "ax.plot(xs, Pexp, c=\"red\", lw=4, label=\"Exact Density\")"
      ],
      "metadata": {
        "colab": {
          "base_uri": "https://localhost:8080/",
          "height": 302
        },
        "id": "boEXrvRGaczG",
        "outputId": "b76e0e79-c246-462d-88a9-f04d866463e1"
      },
      "execution_count": null,
      "outputs": [
        {
          "output_type": "execute_result",
          "data": {
            "text/plain": [
              "[<matplotlib.lines.Line2D at 0x7fb4bfe260d0>]"
            ]
          },
          "metadata": {},
          "execution_count": 40
        },
        {
          "output_type": "display_data",
          "data": {
            "text/plain": [
              "<Figure size 432x288 with 1 Axes>"
            ],
            "image/png": "[encoded data removed]"
          },
          "metadata": {}
        }
      ]
    },
    {
      "cell_type": "markdown",
      "source": [
        "2. Let's now try it for a discrete categorical distribution where each category has a weight of $\\alpha_n$ for $n=0,1,\\ldots,N$. This distribution has the probability mass function:\n",
        "$$\n",
        "p_N(n) = \\frac{\\alpha_n}{\\sum_{i=1}^{N}{\\alpha_i}}\n",
        "$$\n",
        "and the cumulative distribution function:\n",
        "$$\n",
        "F_N(n) = \\frac{\\sum_{i=1}^{n}\\alpha_i}{\\sum_{i=1}^{N}{\\alpha_i}}\n",
        "$$\n",
        "As before, we can use the uniform random variable $r = F_R(r) = F_N(n)$, which we can invert to solve for $n$:\n",
        "$$\n",
        "n = F_N^{-1}(r) = \\text{smallest $n$ such that } \\left(\\frac{\\sum_{i=1}^{n}\\alpha_i}{  \\sum_{i=1}^{N}{\\alpha_i}} > r\\right).\n",
        "$$\n",
        "Let's try it in Python:"
      ],
      "metadata": {
        "id": "gIhXqAKajbZM"
      }
    },
    {
      "cell_type": "code",
      "source": [
        "#@title Generating Categorical Random Variables { run: \"auto\", vertical-output: true }\n",
        "from scipy.stats import uniform\n",
        "import numpy as np\n",
        "\n",
        "a = [1.0, 2.0, 1.0, 3.0, 5.3, 1.0, 2.0] #@param\n",
        "NS = 100000 #@param\n",
        "\n",
        "N = np.size(a) #Number of categories\n",
        "\n",
        "# Generate uniform random variable\n",
        "r = uniform.rvs(size=NS)\n",
        "\n",
        "# Compute CDF for categorical RV\n",
        "CDF = np.cumsum(a)/sum(a)\n",
        "\n",
        "# Now to count how many bins are below the value of r\n",
        "n = np.ones(NS)\n",
        "for i in range(N-1):\n",
        "  n = n + (r>CDF[i])\n",
        "\n",
        "# Now to plot the sampling results\n",
        "fig, ax = plt.subplots(1,1)\n",
        "sns.histplot(n, ax=ax, stat=\"proportion\", label=\"Distribution of Sampled Variables\")\n",
        "ax.set_xlabel(\"Value of random variable\")\n",
        "ax.set_ylabel(\"Proportion / Probability Mass\")\n",
        "\n",
        "# Now to add the exact distribution to the plot:\n",
        "xs = range(1,N+1)\n",
        "ax.plot(xs, a/np.sum(a), \"rs\", lw=4, label=\"Exact Density\")"
      ],
      "metadata": {
        "cellView": "form",
        "colab": {
          "base_uri": "https://localhost:8080/",
          "height": 302
        },
        "id": "URf8jOmLmn5c",
        "outputId": "e4549e1f-740b-4cd6-e196-3329b2847628"
      },
      "execution_count": null,
      "outputs": [
        {
          "output_type": "execute_result",
          "data": {
            "text/plain": [
              "[<matplotlib.lines.Line2D at 0x7f260a489190>]"
            ]
          },
          "metadata": {},
          "execution_count": 14
        },
        {
          "output_type": "display_data",
          "data": {
            "text/plain": [
              "<Figure size 432x288 with 1 Axes>"
            ],
            "image/png": "[encoded data removed]"
          },
          "metadata": {}
        }
      ]
    },
    {
      "cell_type": "markdown",
      "source": [
        "# How Changing Units or Scaling a Random Variable Affects its Probability Distribution\n"
      ],
      "metadata": {
        "id": "xRRe0hZ3mJnQ"
      }
    },
    {
      "cell_type": "markdown",
      "source": [
        "<img src= https://raw.githubusercontent.com/MunskyGroup/uqbio2022/master/files/files_statistics/Module_2_1_Ania/Slide17.png alt=\"drawing\" width=\"1000\"/>"
      ],
      "metadata": {
        "id": "BiVS1pDV2CW5"
      }
    },
    {
      "cell_type": "markdown",
      "source": [
        "Sometimes it is necessary to transform a random variable.  For example, you may wish to change its units of measurement (e.g., inches to centimeters); you may want to scale the random number by a value; or you may need to change how you present the distribution of that variable on a linear to logarithmic plot.\n",
        "\n",
        "While it is easy to make such changes to the random variables themselves (e.g., to change $x$ to $y(x)$), the effect on the distribution (e.g., changing from $f_X(x)$ to $f_Y(y)$) and therefore on the expected values can be more complicated.\n",
        "\n",
        "How complicated, will depend on the nature of the function $y = g(x)$.  \n",
        "\n",
        "__Simplest case -- $g(x): \\mathbb{R}\\rightarrow \\mathbb{R}$ is one-to-one__\n",
        "\n",
        "We start with the simplest case where $x$ and $y = g(x)$ are both continuous and where each value of $y(x)$ is associated with exactly one value of $x$, and vice-verso (i.e., the transformation $g$ is one-to-one). Like we did in the previous section, we need to consider the cumulative probability distributions:\n",
        "$$\n",
        "F_Y(y) = P(Y\\leq y) = P(g(X)\\leq y) = P(X\\leq g^{-1}(y)) = F_X(g^{-1}(y))\n",
        "$$\n",
        "\n",
        "Starting with this, we can take the derivative to get the probability density function:\n",
        "$$\n",
        "f_Y(y) = \\frac{d}{dy}F_Y(y) =  \\frac{d}{dy}F_X(g^{-1}(y)) = \\left(\\frac{\\partial}{\\partial x}F_X\\right)_{x=g^{-1}(y)}\\frac{\\partial}{\\partial y}g^{-1}(y) = f_X(g^{-1}(y))\\frac{\\partial}{\\partial y}g^{-1}(y)\n",
        "$$\n",
        "To account for the case where $g(x)$ is a decreasing function of $x$ (i.e., when $\\frac{\\partial}{\\partial y}g^{-1}(y)$ is negative), we can to adjust this slightly to:\n",
        "$$\n",
        "f_Y(y) = f_X(g^{-1}(y))\\left|\\frac{\\partial}{\\partial y}g^{-1}(y)\\right|\n",
        "$$\n",
        "\n",
        "Let's try this out in python for a couple examples where we can start with a random variable from $U(0,1)$ and transform it into another random variable:"
      ],
      "metadata": {
        "id": "FO6fMwZDmddo"
      }
    },
    {
      "cell_type": "code",
      "source": [
        "#@title Transforming Random Variables { run: \"auto\", vertical-output: true }\n",
        "from scipy.stats import uniform\n",
        "from scipy.stats import norm\n",
        "import numpy as np\n",
        "import sympy as sym\n",
        "\n",
        "x, y = sym.symbols(\"x y\")\n",
        "g_of_x =   x**2.#@param\n",
        "NS = 10000 #@param\n",
        "\n",
        "# Define fx for uniform random variable U(0,1)\n",
        "fx = 1. # Uniform RV ~ U(0,1)\n",
        "# fx = 1./sym.sqrt(2*sym.pi)*sym.exp(-x**2./2.) # Normal RV ~ N(0,1)\n",
        "print(\"f_X(x) =\", fx)\n",
        "\n",
        "# Invert to find function ginv(y)\n",
        "ginv = sym.solve(sym.Eq(y,g_of_x),x)\n",
        "print(\"ginv = \", ginv)\n",
        "\n",
        "# Find derivative of ginv with respect to y\n",
        "dginv_dy = sym.diff(ginv[0],y)\n",
        "print(\"dginv_dy = \", dginv_dy)\n",
        "\n",
        "# Write lambda functions for f_X(x), g(x), g_inv(y), and dginv/dy\n",
        "fx_func = sym.lambdify(x,fx,'numpy')\n",
        "g_of_x_func = sym.lambdify(x, g_of_x,'numpy') # returns a numpy-ready function\n",
        "ginv_of_y_func = sym.lambdify(y, ginv[0],'numpy') # returns a numpy-ready function\n",
        "dginv_dy_func = sym.lambdify(y, dginv_dy,'numpy') # returns a numpy-ready function\n",
        "\n",
        "# Sample RVs for x in U(0,1)\n",
        "rx = uniform.rvs(size=NS)\n",
        "# rx = norm.rvs(size=NS)\n",
        "xlims = np.array([1e-6,1])\n",
        "\n",
        "# Convert to RVs for y\n",
        "ry = g_of_x_func(rx)\n",
        "\n",
        "# Compute density at range of y values\n",
        "ys = np.linspace(min(g_of_x_func(xlims)),max(g_of_x_func(xlims)))\n",
        "fy = fx_func((ginv_of_y_func(ys)))*abs(dginv_dy_func(ys))+np.zeros_like(ys)\n",
        "# We add a zeros so the result is returned at the correct size\n",
        "\n",
        "# Plot the results\n",
        "fig, ax = plt.subplots(1,1)\n",
        "sns.histplot(ry, ax=ax, stat=\"density\", label=\"Distribution of Sampled Variables\")\n",
        "ylim = ax.get_ylim()\n",
        "ax.plot(ys, fy, c=\"red\", lw=4, label=\"Exact Density\")\n",
        "ax.set_xlabel(\"Value of random variable\")\n",
        "ax.set_ylabel(\"Probability Density\")\n",
        "ax.set_ylim(ylim)"
      ],
      "metadata": {
        "id": "fY9sgytIjaKO",
        "colab": {
          "base_uri": "https://localhost:8080/",
          "height": 357
        },
        "outputId": "18e38f89-4e3c-484c-db01-0cf13f81f19a"
      },
      "execution_count": null,
      "outputs": [
        {
          "output_type": "stream",
          "name": "stdout",
          "text": [
            "f_X(x) = 1.0\n",
            "ginv =  [-sqrt(y), sqrt(y)]\n",
            "dginv_dy =  -1/(2*sqrt(y))\n"
          ]
        },
        {
          "output_type": "execute_result",
          "data": {
            "text/plain": [
              "(0.0, 4.95265207486804)"
            ]
          },
          "metadata": {},
          "execution_count": 43
        },
        {
          "output_type": "display_data",
          "data": {
            "text/plain": [
              "<Figure size 432x288 with 1 Axes>"
            ],
            "image/png": "[encoded data removed]"
          },
          "metadata": {}
        }
      ]
    },
    {
      "cell_type": "markdown",
      "source": [
        "Please remember -- the above transformation approach only works when the transformation $g(x)$ is one-to-one.  Can you think why it might not work for a non-monotonic function like such as the change of variables $y= g(x) = (x-.5)^2$?\n",
        "\n",
        "How would you change the above code to transform a Gaussian random variable?"
      ],
      "metadata": {
        "id": "1KfgCfuPGgrB"
      }
    },
    {
      "cell_type": "markdown",
      "metadata": {
        "id": "qD69n5nD7Qe8"
      },
      "source": [
        "# The Central Limit Theorem"
      ]
    },
    {
      "cell_type": "markdown",
      "source": [
        "<img src= https://raw.githubusercontent.com/MunskyGroup/uqbio2022/master/files/files_statistics/Module_2_1_Ania/Slide18.png alt=\"drawing\" width=\"1000\"/>\n",
        "\n",
        "<img src= https://raw.githubusercontent.com/MunskyGroup/uqbio2022/master/files/files_statistics/Module_2_1_Ania/Slide19.png alt=\"drawing\" width=\"1000\"/>"
      ],
      "metadata": {
        "id": "LC0wnqBX2Hxl"
      }
    },
    {
      "cell_type": "markdown",
      "metadata": {
        "id": "-yOV7mqFMs5P"
      },
      "source": [
        "The Central Limit Theorem (CLT) says that an empirical estimate of the mean $\\frac{x_1 + \\ldots + x_n}{n}$ from a set of $n$ independent realizations $x_1, \\ldots, x_n$ of a random variable $X$ will be approximately normally distributed with mean $\\mathbb{E}(X)$ and variance $\\frac{1}{n}\\mathrm{Var}(X)$, _provided_ that the mean and variance of $X$ exist (i.e., the sums or integrals in their definitions converge) and are finite (i.e., have finite value). "
      ]
    },
    {
      "cell_type": "markdown",
      "metadata": {
        "id": "tutOaIzt7VEn"
      },
      "source": [
        "First, let's initialize our random number generator"
      ]
    },
    {
      "cell_type": "code",
      "metadata": {
        "id": "DDM2lQZ97Ufb"
      },
      "source": [
        "rng = np.random.default_rng(0)"
      ],
      "execution_count": null,
      "outputs": []
    },
    {
      "cell_type": "markdown",
      "metadata": {
        "id": "l_7n7-ulppuB"
      },
      "source": [
        "In the code cell below, we define a function to generate a random dataset of size $n$ for a given random variable. Take a moment to make sure you understand what the function does."
      ]
    },
    {
      "cell_type": "code",
      "metadata": {
        "colab": {
          "base_uri": "https://localhost:8080/"
        },
        "id": "N6aCU48Q7Lfh",
        "outputId": "4b65a308-3f41-42c1-ee2e-fdb15180ecc8"
      },
      "source": [
        "def simulate_iid_dataset(rv: Union[sp.stats.rv_continuous, \n",
        "                                   sp.stats.rv_discrete], \n",
        "                         n: int=100, \n",
        "                         rng=rng):\n",
        "  return rv.rvs(size=n, random_state=rng)\n",
        "\n",
        "rng = np.random.default_rng(0)\n",
        "print(simulate_iid_dataset(rv=sp.stats.uniform, n = 10, rng=rng))\n",
        "\n",
        "rng = np.random.default_rng(0)\n",
        "print(simulate_iid_dataset(rv=sp.stats.uniform, n = 10, rng=rng))"
      ],
      "execution_count": null,
      "outputs": [
        {
          "output_type": "stream",
          "name": "stdout",
          "text": [
            "[0.63696169 0.26978671 0.04097352 0.01652764 0.81327024 0.91275558\n",
            " 0.60663578 0.72949656 0.54362499 0.93507242]\n",
            "[0.63696169 0.26978671 0.04097352 0.01652764 0.81327024 0.91275558\n",
            " 0.60663578 0.72949656 0.54362499 0.93507242]\n"
          ]
        }
      ]
    },
    {
      "cell_type": "markdown",
      "metadata": {
        "id": "F_hbEbauqC9x"
      },
      "source": [
        "In the following cells, we will first use a binomial distribution for $X$. You can go back to this cell again and uncomment other distributions."
      ]
    },
    {
      "cell_type": "code",
      "metadata": {
        "id": "U63YZwI3bsMD",
        "colab": {
          "base_uri": "https://localhost:8080/",
          "height": 206
        },
        "outputId": "28ed05e1-ca42-47d3-bbd4-b127a1e6c0c2"
      },
      "source": [
        "# rv = binom(n=10, p=0.2)  # binomial with parameters n=10, p=0.2\n",
        "# rv = norm(loc=1.0, scale=5.0) # normal with mu=1.0, sigma=5.0**2.0\n",
        "# rv = poisson(10.0) # Poisson with parameter lambda=10.0\n",
        "rv = expon(scale=10^4) # Exponential"
      ],
      "execution_count": null,
      "outputs": [
        {
          "output_type": "error",
          "ename": "NameError",
          "evalue": "ignored",
          "traceback": [
            "\u001b[0;31m---------------------------------------------------------------------------\u001b[0m",
            "\u001b[0;31mNameError\u001b[0m                                 Traceback (most recent call last)",
            "\u001b[0;32m<ipython-input-18-a68f7a8318fa>\u001b[0m in \u001b[0;36m<module>\u001b[0;34m()\u001b[0m\n\u001b[1;32m      2\u001b[0m \u001b[0;31m# rv = norm(loc=1.0, scale=5.0) # normal with mu=1.0, sigma=5.0**2.0\u001b[0m\u001b[0;34m\u001b[0m\u001b[0;34m\u001b[0m\u001b[0;34m\u001b[0m\u001b[0m\n\u001b[1;32m      3\u001b[0m \u001b[0;31m# rv = poisson(10.0) # Poisson with parameter lambda=10.0\u001b[0m\u001b[0;34m\u001b[0m\u001b[0;34m\u001b[0m\u001b[0;34m\u001b[0m\u001b[0m\n\u001b[0;32m----> 4\u001b[0;31m \u001b[0mrv\u001b[0m \u001b[0;34m=\u001b[0m \u001b[0mexpon\u001b[0m\u001b[0;34m(\u001b[0m\u001b[0mscale\u001b[0m\u001b[0;34m=\u001b[0m\u001b[0;36m10\u001b[0m\u001b[0;34m^\u001b[0m\u001b[0;36m4\u001b[0m\u001b[0;34m)\u001b[0m \u001b[0;31m# Exponential\u001b[0m\u001b[0;34m\u001b[0m\u001b[0;34m\u001b[0m\u001b[0m\n\u001b[0m",
            "\u001b[0;31mNameError\u001b[0m: name 'expon' is not defined"
          ]
        }
      ]
    },
    {
      "cell_type": "markdown",
      "metadata": {
        "id": "nE1vaamwqy-q"
      },
      "source": [
        "Using the function `simulate_iid_dataset` we defined above with the random variable you created in the preceding cell, we can generate datasets of indpendently identically distributed samples. For example, in the following cell, we generate a list of $5$ datasets, each comprise of $10$ i.i.d. observations."
      ]
    },
    {
      "cell_type": "code",
      "metadata": {
        "id": "tTc6Sd9NeHao",
        "colab": {
          "base_uri": "https://localhost:8080/"
        },
        "outputId": "48a23e29-26cb-4f5c-84a8-82bc70656d9e"
      },
      "source": [
        "dataset_size = 10\n",
        "datasets = [simulate_iid_dataset(rv, n=dataset_size) for i in range(5)]\n",
        "print(datasets)\n",
        "print(len(datasets))\n",
        "len(datasets[0])"
      ],
      "execution_count": null,
      "outputs": [
        {
          "output_type": "stream",
          "name": "stdout",
          "text": [
            "[array([9.51904666e+00, 1.42743594e+01, 2.77293276e-01, 3.17705735e-02,\n",
            "       7.70480022e+00, 2.28191661e+01, 9.43016134e+00, 1.05742190e+01,\n",
            "       3.94350037e+01, 8.48085431e+01]), array([4.60099956e+01, 1.80285047e-02, 3.17673253e+01, 1.01496759e+00,\n",
            "       1.49716042e+01, 1.18850624e+01, 4.40987211e+01, 4.95614059e+00,\n",
            "       4.29955595e+00, 2.08910718e+01]), array([ 0.51805878,  1.89463137, 14.42277349, 10.84367505, 24.32749914,\n",
            "        5.7913812 ,  6.27495069, 25.92929294, 24.15299054,  4.52842983]), array([ 2.95065989, 17.12611544,  7.53653885, 11.96559131, 14.68211094,\n",
            "       17.25038901, 40.99437039,  2.15164262, 20.52126881, 15.73932541]), array([26.57270586,  8.38588764,  6.5615853 , 11.43950243,  3.7025699 ,\n",
            "       10.44151485,  1.48486878, 23.05726351, 31.90933435,  7.72943464])]\n",
            "5\n"
          ]
        },
        {
          "output_type": "execute_result",
          "data": {
            "text/plain": [
              "10"
            ]
          },
          "metadata": {},
          "execution_count": 20
        }
      ]
    },
    {
      "cell_type": "markdown",
      "metadata": {
        "id": "y4WXtTEPrVfu"
      },
      "source": [
        "You can use the numpy function `mean()` to find the sample mean for each dataset. "
      ]
    },
    {
      "cell_type": "code",
      "metadata": {
        "id": "WU5vkyosdbSZ",
        "colab": {
          "base_uri": "https://localhost:8080/"
        },
        "outputId": "d3a43b91-e269-40c5-fad3-b8b5b48e3e4a"
      },
      "source": [
        "mean_ests = [np.mean(X) for X in datasets] # \"list comprehensive\"\n",
        "\n",
        "print(mean_ests)"
      ],
      "execution_count": null,
      "outputs": [
        {
          "output_type": "stream",
          "name": "stdout",
          "text": [
            "[19.887436340818777, 17.991247311538665, 11.868368304108293, 15.091801267142383, 13.128466725357956]\n"
          ]
        }
      ]
    },
    {
      "cell_type": "markdown",
      "metadata": {
        "id": "Gvfqw_j4rej8"
      },
      "source": [
        "Now let us put everything we just discussed above into an interactive cell. Try varying the dataset size yourself to see how the approximation quality of the CLT distribution changes. Usually, the approximation will be not great when the dataset size is small. However, as you increase the dataset size, the histogram of the mean estimates gets closer to a normal distribution with mean and variance predicted by the CLT."
      ]
    },
    {
      "cell_type": "markdown",
      "metadata": {
        "id": "7Pu3IStiRmJF"
      },
      "source": [
        "Draw lots of independent datasets from $\\exp(\\alpha)$, each dataset has only one sample.\n",
        "\n",
        "What is the distribution of the sample mean?"
      ]
    },
    {
      "cell_type": "code",
      "metadata": {
        "id": "ynp9Gh9UdjX9",
        "colab": {
          "base_uri": "https://localhost:8080/",
          "height": 286
        },
        "outputId": "943c344a-9aa3-4b7a-cc27-04d0e22358f1"
      },
      "source": [
        "#@title Change sample size to explore estimator variability { run: \"auto\", vertical-output: true, display-mode: \"form\" }\n",
        "\n",
        "\n",
        "dataset_size =  400#@param \n",
        "\n",
        "datasets = [simulate_iid_dataset(rv, n=dataset_size) for i in range(10000)]\n",
        "\n",
        "mean_ests = [np.mean(X) for X in datasets]\n",
        "\n",
        "clt_approx = norm(loc=rv.mean(), scale=rv.std()/np.sqrt(dataset_size))\n",
        "\n",
        "xs = np.linspace(clt_approx.mean() - 3*clt_approx.std(), clt_approx.mean() + 3*clt_approx.std())\n",
        "clt_pdf = clt_approx.pdf(xs)\n",
        "\n",
        "fig, ax = plt.subplots(1,1)\n",
        "sns.histplot(mean_ests, ax=ax, stat=\"density\", label=\"Mean estimates\")\n",
        "ax.plot(xs, clt_pdf, c=\"red\", lw=4, label=\"CLT\")\n",
        "ax.axvline(x=rv.mean(), color=\"k\", lw=5, alpha=1, label=\"True mean\")\n",
        "ax.legend()"
      ],
      "execution_count": null,
      "outputs": [
        {
          "output_type": "execute_result",
          "data": {
            "text/plain": [
              "<matplotlib.legend.Legend at 0x7f65f75e9a90>"
            ]
          },
          "metadata": {},
          "execution_count": 22
        },
        {
          "output_type": "display_data",
          "data": {
            "text/plain": [
              "<Figure size 432x288 with 1 Axes>"
            ],
            "image/png": "[encoded data removed]"
          },
          "metadata": {}
        }
      ]
    },
    {
      "cell_type": "markdown",
      "metadata": {
        "id": "gHPkCuZxbaLX"
      },
      "source": [
        "# Summary of Basic Univariate Distributions"
      ]
    },
    {
      "cell_type": "markdown",
      "metadata": {
        "id": "PEj95InVSS-S"
      },
      "source": [
        "| Distribution | Parameters        | Mean              | Variance              | `scipy` object                                                                                             | `numpy` random number generator method                                                                                                                                                      |\n",
        "| ------------ | ----------------- | ----------------- | --------------------- | ---------------------------------------------------------------------------------------------------------- | ------------------------------------------------------------------------------------------------------------------------------------------------------------------------------------------- |\n",
        "| Bernoulli    | $$\\theta$$        | $\\theta$          | $1 -\\theta^2$         | [`scipy.stats.bernoulli`](https://docs.scipy.org/doc/scipy/reference/generated/scipy.stats.bernoulli.html) | [`random.Genrator.binomial()`](https://numpy.org/doc/stable/reference/random/generated/numpy.random.Generator.binomial.html#numpy.random.Generator.binomial)                                |\n",
        "| Binomial     | $$n,\\ \\theta$$    | $$n\\cdot \\theta$$ | $$n\\theta(1-\\theta)$$ | [`scipy.stats.binom`](https://docs.scipy.org/doc/scipy/reference/generated/scipy.stats.binom.html)         | [`random.Generator.binomial()`](https://numpy.org/doc/stable/reference/random/generated/numpy.random.Generator.binomial.html#numpy.random.Generator.binomial)                               |\n",
        "| Poisson      | $$\\lambda$$       | $\\lambda$         | $\\lambda$             | [`scipy.stats.poisson`](https://docs.scipy.org/doc/scipy/reference/generated/scipy.stats.poisson.html)     | [`random.Generator.poisson()`](https://numpy.org/doc/stable/reference/random/generated/numpy.random.Generator.poisson.html?highlight=poisson#numpy.random.Generator.poisson)                |\n",
        "| Uniform      | $$a,b$$           | $$\\frac{a+b}{2}$$ | $\\frac{(b-a)^2}{12}$  | [`scipy.stats.uniform`](https://docs.scipy.org/doc/scipy/reference/generated/scipy.stats.uniform.html)     | [`random.Generator.uniform()`](https://numpy.org/doc/stable/reference/random/generated/numpy.random.Generator.uniform.html?highlight=uniform#numpy.random.Generator.uniform)                |\n",
        "| Exponential  | $$\\alpha$$        | $1/\\alpha$        | $1/\\alpha^2$          | [`scipy.stats.expon`](https://docs.scipy.org/doc/scipy/reference/generated/scipy.stats.expon.html)         | [`random.Generator.exponetial()`](https://numpy.org/doc/stable/reference/random/generated/numpy.random.Generator.exponential.html?highlight=exponential#numpy.random.Generator.exponential) |\n",
        "| Normal       | $$\\mu, \\ \\sigma$$ | $\\mu$             | $\\sigma^2$            | [`scipy.stats.norm`](https://docs.scipy.org/doc/scipy/reference/generated/scipy.stats.binom.html)          | [`random.Generator.normal()`](https://numpy.org/doc/stable/reference/random/generated/numpy.random.Generator.normal.html?highlight=normal#numpy.random.Generator.normal)                                                                                                                                                                                            |\n",
        "  "
      ]
    },
    {
      "cell_type": "markdown",
      "source": [
        " --\n"
      ],
      "metadata": {
        "id": "iaM1F-LPlz0K"
      }
    },
    {
      "cell_type": "markdown",
      "source": [
        "# Notebook Study Questions"
      ],
      "metadata": {
        "id": "pkzVR63ynHUN"
      }
    },
    {
      "cell_type": "markdown",
      "source": [
        "Please enter your answers for each of the following questions by adding text or code to fill in the blanks.  For the more advanced questions, you may need to do some calculations or create a graph or figure.\n",
        "\n",
        "##Probability and Statistics - Workbook Completion Requirements:##\n",
        "To obtain credit for this lesson, each student should (i) complete all blanks for questions Q1-Q7, (ii) answer a minimum of two questions in the set Q8-17, and (iii) answer minimum of two questions from Workbook Module 2.1.B.\n",
        "\n",
        "To obtain a certificate for the course, you must complete a minimum of five notebooks from Modules 1-4 (please note that preliminary notebooks from Module 0 will not be accepted) and submit them together via email before August 15, 2022. Please submit your completed notebooks to qbio_summer_school@colostate.edu"
      ],
      "metadata": {
        "id": "yWrhJlPtnPKX"
      }
    },
    {
      "cell_type": "markdown",
      "source": [
        "## Easy Questions:"
      ],
      "metadata": {
        "id": "7t4l2OQ1tz7q"
      }
    },
    {
      "cell_type": "code",
      "source": [
        "#Easy Questions\n",
        "import textwrap\n",
        "wrapper = textwrap.TextWrapper(width=50)\n",
        "def wrap(value,width=60): \n",
        "  wrapper = textwrap.TextWrapper(width)\n",
        "  word_list = wrapper.wrap(text=value)\n",
        "  # Print each line.\n",
        "  for element in word_list:\n",
        "    print(element)\n",
        "\n",
        "wrap(\"Q1. Suppose that x1 and x2 are normally distributed random variables.  What kind of distribution would describe the new random variable y = x1 + x2?\")\n",
        "print('A1 = answer')\n",
        "print(' ')"
      ],
      "metadata": {
        "colab": {
          "base_uri": "https://localhost:8080/"
        },
        "id": "3EOPSq_XnVyq",
        "outputId": "c5879e4f-e74f-4c75-a995-bc44e8647dbd"
      },
      "execution_count": null,
      "outputs": [
        {
          "output_type": "stream",
          "name": "stdout",
          "text": [
            "Q1. Suppose that x1 and x2 are normally distributed random\n",
            "variables.  What kind of distribution would describe the new\n",
            "random variable y = x1 + x2?\n",
            "A1 = answer\n",
            " \n"
          ]
        }
      ]
    },
    {
      "cell_type": "code",
      "source": [
        "wrap(\"Q2. Suppose that x1 and x2 are exponentially distributed random variables.  What kind of distribution would describe the random variable y = min(x1,x2)?\")\n",
        "print('A2 = answer')\n",
        "print(' ')"
      ],
      "metadata": {
        "colab": {
          "base_uri": "https://localhost:8080/"
        },
        "id": "UZJOaH3IFAzu",
        "outputId": "ec544b97-cecf-46d6-912a-533fb2bad022"
      },
      "execution_count": null,
      "outputs": [
        {
          "output_type": "stream",
          "name": "stdout",
          "text": [
            "Q2. Suppose that x1 and x2 are exponentially distributed\n",
            "random variables.  What kind of distribution would describe\n",
            "the random variable y = min(x1,x2)?\n",
            "A2 = answer\n",
            " \n"
          ]
        }
      ]
    },
    {
      "cell_type": "code",
      "source": [
        "wrap(\"Q3. A Gene is ON at some time t=0.  It can turn OFF at a rate of a = 5/min (i.e., the distribution for the time until it turns off is exponential with parameter a=5/min). What is the probability that it is still ON at a time t = 1 min?\")\n",
        "a = 5.0\n",
        "t = 1.0\n",
        "pOnAt_1 = -1.37  # add code to find correct answer\n",
        "print('A3 = ' + str(pOnAt_1))\n",
        "print(' ')"
      ],
      "metadata": {
        "colab": {
          "base_uri": "https://localhost:8080/"
        },
        "id": "Xeh5BwcmFJkZ",
        "outputId": "8a1ae9fa-9dd2-4cfc-d1e3-ead9919a114e"
      },
      "execution_count": null,
      "outputs": [
        {
          "output_type": "stream",
          "name": "stdout",
          "text": [
            "Q3. A Gene is ON at some time t=0.  It can turn OFF at a\n",
            "rate of a = 5/min (i.e., the distribution for the time until\n",
            "it turns off is exponential with parameter a=5/min). What is\n",
            "the probability that it is still ON at a time t = 1 min?\n",
            "A3 = -1.37\n",
            " \n"
          ]
        }
      ]
    },
    {
      "cell_type": "code",
      "source": [
        "wrap(\"Q4. What is the Fano Factor of a Poisson random variable?  Of an exponential random variable? How do these depend on the mean of the random variables?\")\n",
        "mean = 1.34\n",
        "variance = 2.3\n",
        "Fano = 1.23231  # add code to find correct answer\n",
        "CoefficientOfVariance = 1.23231  # add code to find correct answer\n",
        "print(\"A4.a Fano = \" + str(round(Fano,3)))\n",
        "print(\"A4.b CV = \" + str(round(CoefficientOfVariance,3)))\n",
        "print(' ')"
      ],
      "metadata": {
        "colab": {
          "base_uri": "https://localhost:8080/"
        },
        "id": "IBog-afJFNGu",
        "outputId": "22f6375e-cc70-4bc0-de73-a59586bcea59"
      },
      "execution_count": null,
      "outputs": [
        {
          "output_type": "stream",
          "name": "stdout",
          "text": [
            "Q4. What is the Fano Factor of a Poisson random variable?\n",
            "Of an exponential random variable? How do these depend on\n",
            "the mean of the random variables?\n",
            "A4.a Fano = 1.232\n",
            "A4.b CV = 1.232\n",
            " \n"
          ]
        }
      ]
    },
    {
      "cell_type": "code",
      "source": [
        "wrap(\"Q5. What is the Coefficient of Variation (std/mean) of a Poisson random variable with parameter a1?  Of an exponential random variable with parameer a2? How do these depend on the mean of the random variable?\")\n",
        "a1 = 2.3 # parameter of Poisson RV\n",
        "CV1 = 1.2  # add code to find correct answer\n",
        "print(\"A5.a CV_Poisson = \" + str(round(CV1,3)))"
      ],
      "metadata": {
        "colab": {
          "base_uri": "https://localhost:8080/"
        },
        "id": "5pUiUwuvFPQM",
        "outputId": "319bc604-15cc-4707-9afe-a876549167a7"
      },
      "execution_count": null,
      "outputs": [
        {
          "output_type": "stream",
          "name": "stdout",
          "text": [
            "Q5. What is the Coefficient of Variation (std/mean) of a\n",
            "Poisson random variable with parameter a1?  Of an\n",
            "exponential random variable with parameer a2? How do these\n",
            "depend on the mean of the random variable?\n",
            "A5.a CV_Poisson = 1.2\n"
          ]
        }
      ]
    },
    {
      "cell_type": "code",
      "source": [
        "a2 = 7.6 # Parameter of Exponential RV\n",
        "CV2 = 1.2  # add code to find correct answer\n",
        "print(\"A5.b CV_Exponential = \" + str(round(CV2,3)))\n",
        "print(' ')"
      ],
      "metadata": {
        "colab": {
          "base_uri": "https://localhost:8080/"
        },
        "id": "Q9FAnRNrFRme",
        "outputId": "0bf512b2-7b52-4376-e7d5-1b0d6055bfb9"
      },
      "execution_count": null,
      "outputs": [
        {
          "output_type": "stream",
          "name": "stdout",
          "text": [
            "A5.b CV_Exponential = 1.2\n",
            " \n"
          ]
        }
      ]
    },
    {
      "cell_type": "code",
      "source": [
        "wrap(\"Q6. What is the Fano Factor (var/mean) of a Poisson random variable?  Of an exponential random variable? How do these depend on the mean of the random variable?\")\n",
        "a1 = 2.3 # parameter of Poisson RV\n",
        "Fano1 = 1.2  # add code to find correct answer\n",
        "print(\"A6.a Fano_Poisson = \" + str(round(Fano1,3)))"
      ],
      "metadata": {
        "colab": {
          "base_uri": "https://localhost:8080/"
        },
        "id": "qBX1lQ7ZFUDi",
        "outputId": "ff46eed2-8cd8-4d2f-8dbb-1d79c0f88dd5"
      },
      "execution_count": null,
      "outputs": [
        {
          "output_type": "stream",
          "name": "stdout",
          "text": [
            "Q6. What is the Fano Factor (var/mean) of a Poisson random\n",
            "variable?  Of an exponential random variable? How do these\n",
            "depend on the mean of the random variable?\n",
            "A6.a Fano_Poisson = 1.2\n"
          ]
        }
      ]
    },
    {
      "cell_type": "code",
      "source": [
        "a2 = 7.6 # Parameter of Exponential RV\n",
        "Fano1 = 1.2  # add code to find correct answer\n",
        "print(\"A6.b Fano_Exponential = \" + str(round(Fano1,3)))\n",
        "print(' ')"
      ],
      "metadata": {
        "colab": {
          "base_uri": "https://localhost:8080/"
        },
        "id": "IG45Fi1HFWVu",
        "outputId": "b9197d27-96d1-4888-c89c-783b74f41f23"
      },
      "execution_count": null,
      "outputs": [
        {
          "output_type": "stream",
          "name": "stdout",
          "text": [
            "A6.b Fano_Exponential = 1.2\n",
            " \n"
          ]
        }
      ]
    },
    {
      "cell_type": "code",
      "source": [
        "wrap(\"Q7. Based on the above answers, why do you think Coefficient of Variance is used to describe the level of variation in event TIMES while Fano Factor is used to describe variation in event NUMBERS?\")\n",
        "print(\"A7. Write your answer here\")"
      ],
      "metadata": {
        "colab": {
          "base_uri": "https://localhost:8080/"
        },
        "id": "dz6gmhhKFYTA",
        "outputId": "af58e240-8694-41cd-a0b4-811b1803417b"
      },
      "execution_count": null,
      "outputs": [
        {
          "output_type": "stream",
          "name": "stdout",
          "text": [
            "Q7. Based on the above answers, why do you think Coefficient\n",
            "of Variance is used to describe the level of variation in\n",
            "event TIMES while Fano Factor is used to describe variation\n",
            "in event NUMBERS?\n",
            "A7. Write your answer here\n"
          ]
        }
      ]
    },
    {
      "cell_type": "markdown",
      "metadata": {
        "id": "QtrY3s7-UJKd"
      },
      "source": [
        "### Moderate Questions"
      ]
    },
    {
      "cell_type": "code",
      "source": [
        "# Moderate Questions\n",
        "wrap(\"Q8. A Gene is ON at some time t=0.  It can turn OFF at a rate of k_off = 5/min, after which it will never turn back on.  While it is ON, it can also create mRNA one at a time and at an average rate of k_r = 20/min.  What is the probability that the gene will shut off before any mRNA are created?  What is the probability that the gene will shut off after initiating exactly one mRNA?  What is the distribution of mRNA created before the gene turns OFF?\")\n",
        "k_off = 5\n",
        "k_4 = 20\n",
        "Prob0 = 1.1  # add code to find correct answer\n",
        "Prob1 = 1.1  # add code to find correct answer\n",
        "Prob = np.zeros((1,20))\n",
        "print(\"A8.a. Probability to create no mRNA = \" + str(round(Prob0,3)))\n",
        "print(\"A8.b. Probability of create one mRNA = \" + str(round(Prob0,3)))\n",
        "# Prob[0:20] = 1.1*np.ones((1,20))  # add code to find correct answer\n",
        "wrap(\"Write a code to plot the distribution of burst size. Comment on the type of distribution.\")\n",
        "print(\" \")"
      ],
      "metadata": {
        "colab": {
          "base_uri": "https://localhost:8080/"
        },
        "id": "HsEhEbZAuF0S",
        "outputId": "214b885a-84c3-4663-b940-a8050d17c55f"
      },
      "execution_count": null,
      "outputs": [
        {
          "output_type": "stream",
          "name": "stdout",
          "text": [
            "Q8. A Gene is ON at some time t=0.  It can turn OFF at a\n",
            "rate of k_off = 5/min, after which it will never turn back\n",
            "on.  While it is ON, it can also create mRNA one at a time\n",
            "and at an average rate of k_r = 20/min.  What is the\n",
            "probability that the gene will shut off before any mRNA are\n",
            "created?  What is the probability that the gene will shut\n",
            "off after initiating exactly one mRNA?  What is the\n",
            "distribution of mRNA created before the gene turns OFF?\n",
            "A8.a. Probability to create no mRNA = 1.1\n",
            "A8.b. Probability of create one mRNA = 1.1\n",
            "Write a code to plot the distribution of burst size. Comment\n",
            "on the type of distribution.\n",
            " \n"
          ]
        }
      ]
    },
    {
      "cell_type": "code",
      "source": [
        "wrap(\"Q9. A different gene is ON at some time t=0.  It later turns OFF at exactly t2=1/5 min.  While it is on, it can create one mRNA at a time at a rate of a = 20/min.  What is the distribution of mRNA created before the gene turns OFF?\")\n",
        "t2 = 0.2\n",
        "a = 20\n",
        "Prob = np.zeros((1,20))\n",
        "wrap(\"A9. Write a code to plot the distribution of burst size. \")\n",
        "print(\" \")\n",
        "\n",
        "wrap(\"Q10. Why are the two random variables above different?  Which is more variable?\")\n",
        "wrap(\"A10. Comment on the different types of distributions observed in Q1 and Q2. Can you recognize the shapes of these distributions?\")\n",
        "print(\" \")"
      ],
      "metadata": {
        "colab": {
          "base_uri": "https://localhost:8080/"
        },
        "id": "kNrRfEMoFmzp",
        "outputId": "838885a0-9e81-436a-b89f-6e9169401838"
      },
      "execution_count": null,
      "outputs": [
        {
          "output_type": "stream",
          "name": "stdout",
          "text": [
            "Q9. A different gene is ON at some time t=0.  It later turns\n",
            "OFF at exactly t2=1/5 min.  While it is on, it can create\n",
            "one mRNA at a time at a rate of a = 20/min.  What is the\n",
            "distribution of mRNA created before the gene turns OFF?\n",
            "A9. Write a code to plot the distribution of burst size.\n",
            " \n",
            "Q10. Why are the two random variables above different?\n",
            "Which is more variable?\n",
            "A10. Comment on the different types of distributions\n",
            "observed in Q1 and Q2. Can you recognize the shapes of these\n",
            "distributions?\n",
            " \n"
          ]
        }
      ]
    },
    {
      "cell_type": "code",
      "source": [
        "wrap(\"Q11. Consider two genes that are both ON and both can turn OFF with a rate of a1 = a2 = 5/min. What is the distribution of time until the first of these genes turn OFF? What is the distribution of time until BOTH of these genes turn OFF?\")\n",
        "a1 = 5.\n",
        "a2 = 5.\n",
        "wrap(\"A11. Write a code to simulate and plot the distribution for the minimum and of these two random variables.  Comment on the shape of these two distributions.\")\n",
        "print(\" \")"
      ],
      "metadata": {
        "colab": {
          "base_uri": "https://localhost:8080/"
        },
        "id": "cNAbyuqKFrBs",
        "outputId": "2a4cc030-8f79-45dd-d80f-49ffba82009b"
      },
      "execution_count": null,
      "outputs": [
        {
          "output_type": "stream",
          "name": "stdout",
          "text": [
            "Q11. Consider two genes that are both ON and both can turn\n",
            "OFF with a rate of a1 = a2 = 5/min. What is the distribution\n",
            "of time until the first of these genes turn OFF? What is the\n",
            "distribution of time until BOTH of these genes turn OFF?\n",
            "A11. Write a code to simulate and plot the distribution for\n",
            "the minimum and of these two random variables.  Comment on\n",
            "the shape of these two distributions.\n",
            " \n"
          ]
        }
      ]
    },
    {
      "cell_type": "code",
      "source": [
        "wrap(\"Q12. Consider two independent normal distributed random variables (r1,r2) both with mean of mu = 2 and a standard deviation of sigma = 1.  What is the distribution of the sum of pairs of these two random variables?  What is its mean?  What is its standard deviation?\")\n",
        "mu = 1\n",
        "sigma = 1.\n",
        "mean_of_sum = 1.  # add code to find correct answer\n",
        "variance_of_sum = 1.  # add code to find correct answer\n",
        "wrap(\"A12.a. Write a code to simulate and plot the distribution for the sum of these two random variables.  Comment on the shape of this distribution.\")\n",
        "print('A12.b. Mean of (r1 + r2) = ' + str(round(mean_of_sum)))\n",
        "print('A12.c. Varaince of (r1 + r2) = ' + str(round(variance_of_sum)))\n",
        "print(\" \")"
      ],
      "metadata": {
        "colab": {
          "base_uri": "https://localhost:8080/"
        },
        "id": "J2vJY50PFtGg",
        "outputId": "6a6294bc-ee58-46fa-8df8-5fd141f5cedc"
      },
      "execution_count": null,
      "outputs": [
        {
          "output_type": "stream",
          "name": "stdout",
          "text": [
            "Q12. Consider two independent normal distributed random\n",
            "variables (r1,r2) both with mean of mu = 2 and a standard\n",
            "deviation of sigma = 1.  What is the distribution of the sum\n",
            "of pairs of these two random variables?  What is its mean?\n",
            "What is its standard deviation?\n",
            "A12.a. Write a code to simulate and plot the distribution\n",
            "for the sum of these two random variables.  Comment on the\n",
            "shape of this distribution.\n",
            "A12.b. Mean of (r1 + r2) = 1\n",
            "A12.c. Varaince of (r1 + r2) = 1\n",
            " \n"
          ]
        }
      ]
    },
    {
      "cell_type": "code",
      "source": [
        "wrap(\"Q13. Consider two IDENTICAL (non-independent) normal distributed random variables (r1 = r2 = r) both with mean of 2 and a standard deviation of 1.  What is the distribution of the sum of pairs of these two random variables?  What is its mean?  What is its standard deviation?\")\n",
        "mu = 1\n",
        "sigma = 1.\n",
        "mean_of_sum = 1.  # add code to find correct answer\n",
        "variance_of_sum = 1.  # add code to find correct answer\n",
        "wrap(\"A13.a. Write a code to simulate and plot the distribution for the sum of these two random variables.  Comment on the shape of this distribution.\")\n",
        "print('A13.b. Mean of (2*r) = ' + str(round(mean_of_sum)))\n",
        "print('A13.c. Varaince of (2*r) = ' + str(round(variance_of_sum)))\n",
        "print(\" \")"
      ],
      "metadata": {
        "colab": {
          "base_uri": "https://localhost:8080/"
        },
        "id": "GF8OQw9fFu0p",
        "outputId": "23cb7f85-344e-42e1-9dec-1b70fcca9ac6"
      },
      "execution_count": null,
      "outputs": [
        {
          "output_type": "stream",
          "name": "stdout",
          "text": [
            "Q13. Consider two IDENTICAL (non-independent) normal\n",
            "distributed random variables (r1 = r2 = r) both with mean of\n",
            "2 and a standard deviation of 1.  What is the distribution\n",
            "of the sum of pairs of these two random variables?  What is\n",
            "its mean?  What is its standard deviation?\n",
            "A13.a. Write a code to simulate and plot the distribution\n",
            "for the sum of these two random variables.  Comment on the\n",
            "shape of this distribution.\n",
            "A13.b. Mean of (2*r) = 1\n",
            "A13.c. Varaince of (2*r) = 1\n",
            " \n"
          ]
        }
      ]
    },
    {
      "cell_type": "markdown",
      "source": [
        " ### Questions for further explorartion\n",
        "\n",
        "14. Consider the probability density: \n",
        " $$f_X(x) = \\left\\{ \\begin{array}{l} 0 \\text{ for } x<a\\\\\n",
        "  h\\frac{(x-a)}{(b-a)} \\text{ for } a\\le x\\le b\\\\\n",
        "  0 \\text{ for } b<x\\\\\n",
        "   \\end{array}\\right\\} $$\n",
        "  \n",
        " * What is the cumulative probability distribution?\n",
        " * What is $h$?\n",
        " * Write a code to sample this distribution."
      ],
      "metadata": {
        "id": "FqjpidrrzQXu"
      }
    },
    {
      "cell_type": "code",
      "source": [
        "# A14 - Write your codes and answer the questions here."
      ],
      "metadata": {
        "id": "OmbLMDKcGVhT"
      },
      "execution_count": null,
      "outputs": []
    },
    {
      "cell_type": "code",
      "source": [
        "# Q15. When will the Central Limit Theorem fail to work?\n",
        "# A15 - write your answer in text."
      ],
      "metadata": {
        "id": "iYKytFyhGre1"
      },
      "execution_count": null,
      "outputs": []
    },
    {
      "cell_type": "code",
      "source": [
        "# Q16. Prove that the minimum of two exponential random variables is itself an exponential random variable.  If $a_1$ and $a_2$ are the rates of the original exponential random variable, what is the rate of the new exponential random variable?\n",
        "# Write your answer here."
      ],
      "metadata": {
        "id": "ggpCS0JoGwb3"
      },
      "execution_count": null,
      "outputs": []
    },
    {
      "cell_type": "code",
      "source": [
        "# Q17. Prove that the sum of two IID (independent and identically distributed) exponential random variables has a gamma distribution.\n",
        "# Write your answer here."
      ],
      "metadata": {
        "id": "1YkadO9-Gz_E"
      },
      "execution_count": null,
      "outputs": []
    },
    {
      "cell_type": "markdown",
      "source": [
        ""
      ],
      "metadata": {
        "id": "NMTVnRbJGhfH"
      }
    }
  ]
}