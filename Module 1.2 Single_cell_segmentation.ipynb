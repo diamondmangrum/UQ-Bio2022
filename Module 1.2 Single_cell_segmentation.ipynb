{
  "nbformat": 4,
  "nbformat_minor": 0,
  "metadata": {
    "colab": {
      "name": "Final_UQBio_2022_1_2_Single-cell segmentation.ipynb",
      "provenance": [],
      "collapsed_sections": [],
      "private_outputs": true,
      "include_colab_link": true
    },
    "kernelspec": {
      "name": "python3",
      "display_name": "Python 3"
    },
    "language_info": {
      "name": "python"
    },
    "accelerator": "GPU"
  },
  "cells": [
    {
      "cell_type": "markdown",
      "metadata": {
        "id": "view-in-github",
        "colab_type": "text"
      },
      "source": [
        "<a href=\"https://colab.research.google.com/github/diamondmangrum/UQ-Bio2022/blob/main/Final_UQBio_2022_1_2_Single_cell_segmentation.ipynb\" target=\"_parent\"><img src=\"https://colab.research.google.com/assets/colab-badge.svg\" alt=\"Open In Colab\"/></a>"
      ]
    },
    {
      "cell_type": "markdown",
      "metadata": {
        "id": "OrDdrqdrefmB"
      },
      "source": [
        "## Tutorial 1_2 - Python Tutorial for Cell Segmentation and smFISH\n",
        "\n",
        "----------\n",
        "## UQBio Summer School 2022\n",
        "--------------\n",
        "\n",
        "```\n",
        "Instructors: Dr. Luis Aguilera\n",
        "Author: Dr. Zachary Fox and Dr. Luis Aguilera\n",
        "Edited by : Lisa Weber\n",
        "Contact Info: zachfox@lanl.gov and luis.aguilera@colostate.edu\n",
        "\n",
        "Copyright (c) 2022 Dr. Brian Munsky. \n",
        "Dr. Luis Aguilera, Will Raymond\n",
        "Colorado State University.\n",
        "Licensed under BSD-3-Clause license.\n",
        "```\n",
        "\n"
      ]
    },
    {
      "cell_type": "markdown",
      "source": [
        "\n",
        "![Intro](https://github.com/MunskyGroup/uqbio2022/raw/master/files/files_image_processing/module_1_2/images/Slide1.png)\n",
        "\n"
      ],
      "metadata": {
        "id": "neVEd94_1eE-"
      }
    },
    {
      "cell_type": "code",
      "source": [
        "# Loading libraries\n",
        "import random\n",
        "import matplotlib.pyplot as plt             # Library used for plotting\n",
        "from matplotlib.patches import Rectangle    # Module to plot a rectangle in the image\n",
        "import urllib.request                       # Library to download data\n",
        "import numpy as np                          # Library for array manipulation\n",
        "import seaborn as sn                        # Library for advanced plotting\n",
        "import pandas as pd                         # Library to manipulate data frames\n",
        "import tifffile                             # Library to store numpy arrays as TIFF\n",
        "import pathlib                              # Library to work with file paths\n",
        "from pathlib import Path                    # Library to work with file paths\n",
        "import skimage                              # Library for image manipulation. scikit-image\n",
        "from skimage.io import imread               # Module from skimage\n",
        "from matplotlib import animation            # Module to plot animations\n",
        "import ipywidgets as widgets                # Library to create widgets \n",
        "from ipywidgets import interact, interactive, HBox, Layout, VBox # Importing modules and functions"
      ],
      "metadata": {
        "id": "GdPNmq35cyCQ"
      },
      "execution_count": null,
      "outputs": []
    },
    {
      "cell_type": "markdown",
      "source": [
        "# Abstract \n",
        "\n",
        "In this notebook, we will talk about single-cell segmentation using Python. By now, we have covered basic image manipulation [![Open In Colab](https://colab.research.google.com/assets/colab-badge.svg)](https://colab.research.google.com/drive/1cOzLyKrKznlc2olymshHeQMalCG9IydW?usp=sharing). Here, our goal is introduce the basics of single-cell segmentation. \n",
        "\n",
        "## List of objectives\n",
        "\n",
        "1. Understand and explain the more common methods used to segment cells from microscope images.\n",
        "2. Understand and explain what a segmentation mask is.\n",
        "3. Understand and explain segmentation methods based on threshold selection.\n",
        "4. Perform single-cell segmentation using machine learning based methods. \n"
      ],
      "metadata": {
        "id": "FiskOfmuh3kB"
      }
    },
    {
      "cell_type": "markdown",
      "source": [
        "<img src= https://github.com/MunskyGroup/uqbio2022/raw/master/files/files_image_processing/module_1_2/images/Slide2.png alt=\"drawing\" width=\"1200\"/>"
      ],
      "metadata": {
        "id": "myDW1oXaI6eQ"
      }
    },
    {
      "cell_type": "markdown",
      "source": [
        "<img src= https://github.com/MunskyGroup/uqbio2022/raw/master/files/files_image_processing/module_1_2/images/Slide3.png alt=\"drawing\" width=\"1200\"/>"
      ],
      "metadata": {
        "id": "aLR44_1zI_EI"
      }
    },
    {
      "cell_type": "markdown",
      "source": [
        "<img src= https://github.com/MunskyGroup/uqbio2022/raw/master/files/files_image_processing/module_1_2/images/Slide4.png alt=\"drawing\" width=\"1200\"/>"
      ],
      "metadata": {
        "id": "7NI7-7PeJGFX"
      }
    },
    {
      "cell_type": "markdown",
      "source": [
        "### Do it by hand\n",
        "Using software such as [ImageJ/FIJI](https://imagej.nih.gov/ij/), [Napari](https://napari.org) or even something like Microsoft Paint, one can manually outline cells. This is cumbersome and impractical for processing thousands of cells over time. "
      ],
      "metadata": {
        "id": "rD8MWhHDPngt"
      }
    },
    {
      "cell_type": "markdown",
      "source": [
        "<img src= https://github.com/MunskyGroup/uqbio2022/raw/master/files/files_image_processing/module_1_2/images/Slide5.png alt=\"drawing\" width=\"1200\"/>"
      ],
      "metadata": {
        "id": "DTzoxtM5JQrU"
      }
    },
    {
      "cell_type": "markdown",
      "source": [
        "\n",
        "\n",
        "Check this tool ([makesense](https://www.makesense.ai)) to create your own masks.\n",
        "\n",
        "\n"
      ],
      "metadata": {
        "id": "bwOmK0TNuMNh"
      }
    },
    {
      "cell_type": "markdown",
      "source": [
        "You can find some images in the following [link](https://www.dropbox.com/s/d9my4cp2j3ven04/test_data_uqbio2022.zip?dl=0)"
      ],
      "metadata": {
        "id": "uPtmi1A99Bj-"
      }
    },
    {
      "cell_type": "markdown",
      "metadata": {
        "id": "_yV1XbVUemLL"
      },
      "source": [
        "# Getting started with segmentation using thresholding"
      ]
    },
    {
      "cell_type": "markdown",
      "source": [
        "\n",
        "### Watershed Methods\n",
        "The scikit-image library has an excellent tutorial on [watershed methods](https://scikit-image.org/docs/dev/auto_examples/segmentation/plot_watershed.html). Popular tools that apply such methods to single cells are:\n",
        "* [CellStar](http://cellstar-algorithm.org) (Matlab, Python, CellProfiler PlugIn)\n",
        "* [FogBank](https://bmcbioinformatics.biomedcentral.com/articles/10.1186/s12859-014-0431-x#additional-information) (Matlab)"
      ],
      "metadata": {
        "id": "mvSjR9G263Lu"
      }
    },
    {
      "cell_type": "markdown",
      "source": [
        "<img src= https://github.com/MunskyGroup/uqbio2022/raw/master/files/files_image_processing/module_1_2/images/Slide6.png alt=\"drawing\" width=\"1200\"/>"
      ],
      "metadata": {
        "id": "VkxfpjV7JLk4"
      }
    },
    {
      "cell_type": "code",
      "metadata": {
        "id": "h4sEg4oNqF7m"
      },
      "source": [
        "%%capture\n",
        "# Loading libraries\n",
        "import random                        # Library to generate random numbers\n",
        "import skimage                       # Library for image manipulation\n",
        "import numpy as np                   # Library for array manipulation\n",
        "import urllib.request                # Library to download data\n",
        "import matplotlib.pyplot as plt      # Library used for plotting\n",
        "from skimage import io               # Module from skimage\n",
        "from skimage.io import imread        # Module from skimage to read images as numpy arrays\n",
        "from skimage.filters import gaussian # Module working with a gaussian filter\n",
        "%matplotlib inline"
      ],
      "execution_count": null,
      "outputs": []
    },
    {
      "cell_type": "code",
      "source": [
        "#@title\n",
        "participants = ['Abdulai  Gassama','Ning Zhao','Linda Forero','Will Raymond','Michael May','Ashok Prasad','Eric Ron','Joshua Cook','Ania Baetica','Antonio Matas', 'Athina Diakogianni', 'Ban', 'Lisa Weber','Brian Munsky', 'Carl Zhou', 'Cheyanne Evans', 'Daniel Ramirez', 'Diana Coroiu','Donghyun Jeong','Emmanuel Kennedy','Gordin Danya','Henry Plamondon','Hollie Hindley','Jaspreet','Jhon Wu','Jushawn Macon', 'Kaan Ocal','Kathryn Hanfelt','Kristina Tang', 'Manuel Cortes', 'Mario Sanchez','Michael A. Ramirez','Michael Yang','Moe Obaid', 'Sam McDonald','Zachary Mouton', 'Zhang Xu']"
      ],
      "metadata": {
        "cellView": "form",
        "id": "ivulU3SaxjPS"
      },
      "execution_count": null,
      "outputs": []
    },
    {
      "cell_type": "markdown",
      "metadata": {
        "id": "aomp36oZtG76"
      },
      "source": [
        "Let's get started by downloading a sample image of a cell and plotting it using `matplotlib`:\n"
      ]
    },
    {
      "cell_type": "code",
      "metadata": {
        "id": "xLyKJMqKqQ4k"
      },
      "source": [
        "# Downloading a test image\n",
        "urls = ['https://ndownloader.figshare.com/files/26751209']\n",
        "print('Downloading file...')\n",
        "figName = './image_cell.tif'\n",
        "urllib.request.urlretrieve(urls[0], figName)\n",
        "# Loading figure to the notebook\n",
        "#figName = './image_cell.tif'\n",
        "images = imread(figName) \n",
        "print('File is downloaded and accessible in: ... /contents/image_cell.tif ')\n"
      ],
      "execution_count": null,
      "outputs": []
    },
    {
      "cell_type": "code",
      "source": [
        "# Explain        figName = './image_cell.tif'   what is our cwd?    #import os #os.getcwd()\n",
        "random.choice(participants)"
      ],
      "metadata": {
        "id": "cDkStCTuxpND"
      },
      "execution_count": null,
      "outputs": []
    },
    {
      "cell_type": "code",
      "metadata": {
        "id": "DIQDfN7SseSF"
      },
      "source": [
        "# Printing the shape of the image\n",
        "print('Original image shape: ' , images.shape)  # [T,Y,X,C]\n",
        "# Selecting a frame and a color channel\n",
        "img = images[0,:,:,0]\n",
        "print('Single image shape: ' , img.shape)  # [Y,X]"
      ],
      "execution_count": null,
      "outputs": []
    },
    {
      "cell_type": "code",
      "source": [
        "# Difference  between images and img?\n",
        "random.choice(participants)"
      ],
      "metadata": {
        "id": "kXYlGZuLyBDq"
      },
      "execution_count": null,
      "outputs": []
    },
    {
      "cell_type": "code",
      "source": [
        "# Plotting the image as the 3d dimension figure.\n",
        "space= np.arange(0, img.shape[0], 1)\n",
        "xx, yy = np.meshgrid(space,space)\n",
        "fig = plt.figure(figsize=(15,7))\n",
        "# Set up the axes for the first plot\n",
        "ax = fig.add_subplot(1, 2, 1)\n",
        "ax.imshow(img,cmap='Spectral') # Reds_r\n",
        "# Set up the axes for the second plot\n",
        "ax2 = fig.add_subplot(1, 2, 2, projection='3d')\n",
        "ax2.plot_surface(xx, yy , img,  rstride=20, cstride=20, shade=False, cmap='Spectral')\n",
        "ax2.view_init(20, 45)\n",
        "plt.show()"
      ],
      "metadata": {
        "id": "hUdKmu8sK-WO"
      },
      "execution_count": null,
      "outputs": []
    },
    {
      "cell_type": "markdown",
      "metadata": {
        "id": "X4kyOnGit7TY"
      },
      "source": [
        "Recall when we plotted the histogram of the intensity pixels to get a sense of the distribution of pixel intensities throughout the image:"
      ]
    },
    {
      "cell_type": "code",
      "metadata": {
        "id": "pIdRU5m7t5qI"
      },
      "source": [
        "# Plotting the intensity distribution\n",
        "f, ax = plt.subplots()\n",
        "_ = ax.hist(img.ravel(),color='orangered',bins=35)\n",
        "ax.set_xlabel('pixel')\n",
        "ax.set_ylabel('# of pixels')\n",
        "plt.show()"
      ],
      "execution_count": null,
      "outputs": []
    },
    {
      "cell_type": "code",
      "source": [
        "# _ = ax.hist(img.ravel(),color='orangered',bins=35)\n",
        "random.choice(participants)"
      ],
      "metadata": {
        "id": "Kl7nsVhZypXQ"
      },
      "execution_count": null,
      "outputs": []
    },
    {
      "cell_type": "markdown",
      "metadata": {
        "id": "-1z48XCyufes"
      },
      "source": [
        "Based on this image, we can guess a threshold of pixel intensities that are \"cells\" vs \"not cells\". What do you think would make a good threshold?\n",
        "\n",
        "_Modify the cell below and try different thresholds_\n"
      ]
    },
    {
      "cell_type": "code",
      "metadata": {
        "id": "ZZNHIVJyuUu3"
      },
      "source": [
        "# Thresholding the image\n",
        "threshold = 700   # Please play  with this threshold\n",
        "mask_image = np.zeros(img.shape)\n",
        "mask_image[img>threshold] = 255\n",
        "f,ax = plt.subplots()\n",
        "ax.imshow(mask_image, cmap='Greys')\n",
        "plt.show()"
      ],
      "execution_count": null,
      "outputs": []
    },
    {
      "cell_type": "markdown",
      "metadata": {
        "id": "grjDaogdv3oK"
      },
      "source": [
        "This mask image is useful, especially considering we simply took all of the pixels with a value bigger than `threshold`. \n",
        "\n",
        "However, we know that the outside ought to be more smooth. Let's try applying a Gaussian filter to smooth out the mask image:\n"
      ]
    },
    {
      "cell_type": "code",
      "source": [
        "# Importing library with the watershed algorithm. \n",
        "from skimage.morphology import binary_dilation, watershed"
      ],
      "metadata": {
        "id": "Cm43XgFcX_jG"
      },
      "execution_count": null,
      "outputs": []
    },
    {
      "cell_type": "code",
      "metadata": {
        "id": "lzF6Y7hFJ0RY"
      },
      "source": [
        "# Applying a gaussian filter to the image\n",
        "new_mask = gaussian(mask_image, sigma=5) \n",
        "f,ax = plt.subplots()\n",
        "ax.imshow(new_mask, cmap='Greys')\n",
        "plt.plot()"
      ],
      "execution_count": null,
      "outputs": []
    },
    {
      "cell_type": "code",
      "source": [
        "# Importing a library to find contours in the image\n",
        "from skimage import measure"
      ],
      "metadata": {
        "id": "X1e-1l96YSHq"
      },
      "execution_count": null,
      "outputs": []
    },
    {
      "cell_type": "code",
      "metadata": {
        "id": "umZNGAcpnyBc"
      },
      "source": [
        "# Plotting all contours detected in the filtered image\n",
        "f,ax = plt.subplots()\n",
        "contours = measure.find_contours(new_mask, level=125 ) # level is half of 255 (ish). What happens if we change it?\n",
        "ax.imshow(new_mask, cmap='Greys')\n",
        "for contour in contours:\n",
        "  ax.plot(contour[:,1],contour[:,0],color='r')"
      ],
      "execution_count": null,
      "outputs": []
    },
    {
      "cell_type": "code",
      "source": [
        "#help(measure.find_contours)"
      ],
      "metadata": {
        "id": "LsPgscPyTV2x"
      },
      "execution_count": null,
      "outputs": []
    },
    {
      "cell_type": "code",
      "metadata": {
        "id": "7nbFhRs0O0X2"
      },
      "source": [
        "# Plotting the countour on top of the original image\n",
        "img = images[0,:,:,0]\n",
        "f,ax = plt.subplots()\n",
        "ax.imshow(img, cmap='Greys')\n",
        "for contour in contours:\n",
        "  ax.plot(contour[:,1],contour[:,0],'r')"
      ],
      "execution_count": null,
      "outputs": []
    },
    {
      "cell_type": "markdown",
      "metadata": {
        "id": "mYTvmKbHxNkO"
      },
      "source": [
        "So far so good. By setting `threshold=700` we were able to find the \"main\" cell in the image. But what happens when we want to get all three? Let's start by lowering the threshold to 200 and running the code. "
      ]
    },
    {
      "cell_type": "code",
      "metadata": {
        "id": "GrfLV6F1ybeQ"
      },
      "source": [
        "# Thresholding with a lower value\n",
        "threshold = 300\n",
        "mask_image = np.zeros(img.shape)\n",
        "mask_image[img>threshold] = 255\n",
        "new_mask = gaussian(mask_image, sigma=4) # applaying the gaussian filter\n",
        "contours = measure.find_contours(new_mask, level=125, fully_connected='high') # Finding the contours in the image\n",
        "img = images[0,:,:,0]\n",
        "\n",
        "#  Plotting the  contour detected on top of the original image\n",
        "f,ax = plt.subplots()\n",
        "ax.imshow(img, cmap='Spectral')\n",
        "contours_connected = np.vstack((contours))\n",
        "print(contours_connected.shape)\n",
        "for contour in contours:\n",
        "  ax.plot(contour[:,1],contour[:,0],'-b',lw=8)\n",
        "\n",
        "# Connecting the last and first  elements in the array (contours) to get a fully connected shape\n",
        "contours_connected = np.vstack((contours_connected[-1,:],contours_connected))\n",
        "print(contours_connected.shape)\n",
        "\n",
        "# Plotting\n",
        "ax.plot(contours_connected[:,1],contours_connected[:,0],'y',lw=3)\n",
        "plt.show()"
      ],
      "execution_count": null,
      "outputs": []
    },
    {
      "cell_type": "markdown",
      "metadata": {
        "id": "aAAHGObey5df"
      },
      "source": [
        "_it looks like a crab_ !\n",
        "\n",
        "\n",
        "In the cell below, we will try to take the connected image below and use a [watershed algorithm](https://en.wikipedia.org/wiki/Watershed_(image_processing) to break it into 3 distinct cells. "
      ]
    },
    {
      "cell_type": "code",
      "source": [
        "# importing a library to convert contours into shapes.\n",
        "from skimage.draw import polygon"
      ],
      "metadata": {
        "id": "2eRhQg28bWbF"
      },
      "execution_count": null,
      "outputs": []
    },
    {
      "cell_type": "code",
      "metadata": {
        "id": "gfxyAEnNzCJM"
      },
      "source": [
        "# make a new mask from the contours array\n",
        "watershed_starting_mask = np.zeros(img.shape).astype(int)                    # Prealocating an array with zeros. Notice the datatype.\n",
        "rr, cc = polygon(contours_connected[:,0], contours_connected[:,1])   # Returns the coordinates inside the contour\n",
        "watershed_starting_mask[rr,cc] = 1                                           # Replacing all values inside the contour with ones.\n",
        "\n",
        "# Plotting the mask \n",
        "f,ax = plt.subplots()\n",
        "ax.imshow(watershed_starting_mask, cmap='Greys_r')\n",
        "plt.show()\n",
        "\n",
        "# Printing the minimum and maximum values in the image\n",
        "print('min value in mask: ', np.min(watershed_starting_mask) )\n",
        "print('max value in mask: ', np.max(watershed_starting_mask) )"
      ],
      "execution_count": null,
      "outputs": []
    },
    {
      "cell_type": "code",
      "source": [
        "#watershed_starting_mask = np.zeros(img.shape).astype(int)                    # Prealocating an array with zeros. Notice the datatype.\n",
        "random.choice(participants)"
      ],
      "metadata": {
        "id": "1TqT2b950UT6"
      },
      "execution_count": null,
      "outputs": []
    },
    {
      "cell_type": "code",
      "source": [
        "# Importing libraries with the watershed algorithm and local maximum detection\n",
        "from scipy import ndimage as ndi              # Distance Transform\n",
        "from skimage.feature import peak_local_max    # Local maxima in a matrix\n",
        "from skimage.segmentation import watershed    # Watershed algorithm"
      ],
      "metadata": {
        "id": "GzGw_zsccpmx"
      },
      "execution_count": null,
      "outputs": []
    },
    {
      "cell_type": "markdown",
      "source": [
        "To find more information about the specific method use\n",
        "\n",
        "```\n",
        "help(watershed)\n",
        "```\n",
        "\n"
      ],
      "metadata": {
        "id": "JAaH0cmFfjJc"
      }
    },
    {
      "cell_type": "markdown",
      "source": [
        "### Distance transform"
      ],
      "metadata": {
        "id": "Q_wgirknvBzR"
      }
    },
    {
      "cell_type": "markdown",
      "source": [
        "\n",
        "\n",
        "\"The distance transform computes the distance between each pixel and the nearest zero/nonzero pixel.\" An example with code implementation is accessible in this [link](https://www.youtube.com/watch?v=oxWfLTQoC5A).\n",
        "\n",
        "For more infromation about the distance transform check this [link](https://homepages.inf.ed.ac.uk/rbf/HIPR2/distance.htm)\n",
        "\n",
        "<img src= https://homepages.inf.ed.ac.uk/rbf/HIPR2/figs/distance.gif alt=\"drawing\" width=\"600\"/>\n",
        "\n"
      ],
      "metadata": {
        "id": "U0Zhv2jQeoo-"
      }
    },
    {
      "cell_type": "markdown",
      "source": [
        "By  using the distance transform we can find basins in the center of each cell."
      ],
      "metadata": {
        "id": "zh4vWShjwLVY"
      }
    },
    {
      "cell_type": "code",
      "source": [
        "# Computes the Distance Transform distance in the image\n",
        "distance = ndi.distance_transform_edt(watershed_starting_mask)                       \n",
        "\n",
        "# Plotting the image as the 3d dimension figure.\n",
        "space= np.arange(0, distance.shape[0], 1)\n",
        "xx, yy = np.meshgrid(space,space)\n",
        "fig = plt.figure(figsize=(15,7))\n",
        "# Set up the axes for the first plot\n",
        "ax = fig.add_subplot(1, 2, 1)\n",
        "ax.imshow(distance,cmap='Spectral') # Reds_r\n",
        "# Set up the axes for the second plot\n",
        "ax2 = fig.add_subplot(1, 2, 2, projection='3d')\n",
        "ax2.plot_surface(xx, yy , distance,  rstride=5, cstride=5, shade=False, cmap='Spectral')\n",
        "#ax2.view_init(30, 45)\n",
        "plt.show()"
      ],
      "metadata": {
        "id": "rl3Zuqwbo_ca"
      },
      "execution_count": null,
      "outputs": []
    },
    {
      "cell_type": "code",
      "metadata": {
        "id": "0JWMuqfO0nnE"
      },
      "source": [
        "# Apply watershed\n",
        "distance = ndi.distance_transform_edt(watershed_starting_mask)                       # Computes the Distance Transform distance in the image\n",
        "coords = peak_local_max(distance, min_distance=50, labels=watershed_starting_mask)   # Use the Distance transform image to find local maxima\n",
        "_,inds = np.unique(distance[coords[:,0],coords[:,1]],return_index=True)      # Make sure they are unique\n",
        "coords = coords[inds,:]                                                      # Selecting unique indexes\n",
        "mask = np.zeros(distance.shape, dtype=bool)                                  # Prealocating an array with zeros\n",
        "mask[tuple(coords.T)] = True                                                 # Make an image with 1's where local maxima are\n",
        "markers, _ = ndi.label(mask)                                                 # Unique values used as the desired labels\n",
        "\n",
        "# Using the watershed algorithm\n",
        "labels = watershed(-distance, markers, mask=watershed_starting_mask, watershed_line=True)  #Why do we need to use the negative of the distance matrix?\n",
        "\n",
        "# Plotting the results\n",
        "f,ax = plt.subplots(1,5, figsize=(15,7))\n",
        "ax[0].imshow(img, cmap='Spectral')\n",
        "ax[0].set_title('origninal')\n",
        "ax[1].imshow(watershed_starting_mask, cmap='Greys_r')\n",
        "ax[1].set_title('Mask')\n",
        "ax[2].imshow(ndi.distance_transform_edt(watershed_starting_mask), cmap='Greys')\n",
        "ax[2].set_title('Distance Transform')\n",
        "ax[3].imshow(ndi.distance_transform_edt(watershed_starting_mask), cmap='Greys')\n",
        "ax[3].scatter(coords[:,1],coords[:,0],c='r')\n",
        "ax[3].set_title('Local Maxima in Dist. Transform')\n",
        "ax[4].imshow(labels, cmap='Spectral')\n",
        "ax[4].set_title('Masks with Labels')\n",
        "f.tight_layout() "
      ],
      "execution_count": null,
      "outputs": []
    },
    {
      "cell_type": "code",
      "source": [
        "# Why do we need to use the negative of the distance matrix?\n",
        "random.choice(participants)"
      ],
      "metadata": {
        "id": "BT1A0YVTzbpv"
      },
      "execution_count": null,
      "outputs": []
    },
    {
      "cell_type": "code",
      "source": [
        "#help(watershed)"
      ],
      "metadata": {
        "id": "Q8rt34BKqFoG"
      },
      "execution_count": null,
      "outputs": []
    },
    {
      "cell_type": "code",
      "source": [
        "np.max(distance)"
      ],
      "metadata": {
        "id": "Ys0BgaBupOA-"
      },
      "execution_count": null,
      "outputs": []
    },
    {
      "cell_type": "markdown",
      "metadata": {
        "id": "qy5Eyw_MDs5N"
      },
      "source": [
        "# Machine Learning Methods\n",
        "\n",
        "\n",
        "\n"
      ]
    },
    {
      "cell_type": "markdown",
      "source": [
        "* Please notice that a complete tutorial on Machine Learning will be given on June 7 by Will Raymond."
      ],
      "metadata": {
        "id": "IBQyNhDd6L_G"
      }
    },
    {
      "cell_type": "markdown",
      "source": [
        "\n",
        "In recent years, deep learning methods have rapidly improved the state of the art for cell segmentation methods. We will come back to the theory on this topic - for now, we will demonstrate a couple of ML-based tools that can be used to segment images. If you are keen to get started learning about how the popular U-Net model works, check out [this video](https://www.youtube.com/watch?v=azM57JuQpQI) and/or [this video](https://www.youtube.com/watch?v=4ZZjr6SFBV8).\n"
      ],
      "metadata": {
        "id": "vdBaFKmTPw0U"
      }
    },
    {
      "cell_type": "markdown",
      "source": [
        "<img src= https://github.com/MunskyGroup/uqbio2022/raw/master/files/files_image_processing/module_1_2/images/Slide7.png alt=\"drawing\" width=\"1200\"/>"
      ],
      "metadata": {
        "id": "sstoTPZeJxHU"
      }
    },
    {
      "cell_type": "markdown",
      "source": [
        "<img src= https://github.com/MunskyGroup/uqbio2022/raw/master/files/files_image_processing/module_1_2/images/Slide8.png alt=\"drawing\" width=\"1200\"/>"
      ],
      "metadata": {
        "id": "aMmVUDgaJzN0"
      }
    },
    {
      "cell_type": "markdown",
      "source": [
        "[Unet code implementation](https://github.com/zhixuhao/unet)."
      ],
      "metadata": {
        "id": "gQePLbzu7AWT"
      }
    },
    {
      "cell_type": "markdown",
      "source": [
        "## Segment yeast brightfield images using U-Net"
      ],
      "metadata": {
        "id": "3EBOYrRPgD8g"
      }
    },
    {
      "cell_type": "code",
      "metadata": {
        "id": "SKAsWWEBXpuN"
      },
      "source": [
        "%%capture\n",
        "# Downloading and cloning micromator repository\n",
        "%cd gdrive/MyDrive/\n",
        "! git clone https://gitlab.inria.fr/InBio/Public/micromator.git\n",
        "! pip install pims\n",
        "! pip install trackpy\n",
        "%cd micromator"
      ],
      "execution_count": null,
      "outputs": []
    },
    {
      "cell_type": "code",
      "source": [
        "# Explain the previous code\n",
        "random.choice(participants)"
      ],
      "metadata": {
        "id": "3S6_NYSxzxrK"
      },
      "execution_count": null,
      "outputs": []
    },
    {
      "cell_type": "code",
      "metadata": {
        "id": "TzrqB0wfaQy5"
      },
      "source": [
        "%%capture\n",
        "# Importing modules from micromator\n",
        "from micromator.segmator import seg_mator"
      ],
      "execution_count": null,
      "outputs": []
    },
    {
      "cell_type": "code",
      "source": [
        ""
      ],
      "metadata": {
        "id": "cUPGlKjaEi7C"
      },
      "execution_count": null,
      "outputs": []
    },
    {
      "cell_type": "code",
      "source": [
        "import sklearn as sk"
      ],
      "metadata": {
        "id": "-8qumga5cAzf"
      },
      "execution_count": null,
      "outputs": []
    },
    {
      "cell_type": "code",
      "metadata": {
        "id": "_NU2fqxzopgv"
      },
      "source": [
        "# Downloading a test image\n",
        "#yeast_image = sk.io.imread('../drive/MyDrive/binned_img_51_BF.tif')\n",
        "urls = ['https://github.com/MunskyGroup/uqbio2021/raw/main/module_1/images/binned_img_65_BF.tif']\n",
        "print('Downloading file...')\n",
        "urllib.request.urlretrieve(urls[0],'./binned_img_65_BF.tif')"
      ],
      "execution_count": null,
      "outputs": []
    },
    {
      "cell_type": "code",
      "metadata": {
        "id": "F0uT_3mSVdoa"
      },
      "source": [
        "# Loading the brightfield image\n",
        "yeast_image = imread('./binned_img_65_BF.tif')\n",
        "print(yeast_image.shape)"
      ],
      "execution_count": null,
      "outputs": []
    },
    {
      "cell_type": "code",
      "metadata": {
        "id": "BrPKkROqNDVg"
      },
      "source": [
        "# Plotting the brightfield image\n",
        "f, ax = plt.subplots() \n",
        "ax.imshow(yeast_image[600:800,50:250], cmap='Greys')\n",
        "plt.show()"
      ],
      "execution_count": null,
      "outputs": []
    },
    {
      "cell_type": "code",
      "metadata": {
        "id": "IMpaKFa7ZLm-"
      },
      "source": [
        "%%capture\n",
        "# Initializing micromator\n",
        "sm = seg_mator.SegMator('', '', 'segmator/models/unet_yeast_seg_new_v3.hdf5', '.',input_size=(1024,1024,1))"
      ],
      "execution_count": null,
      "outputs": []
    },
    {
      "cell_type": "code",
      "source": [
        "#help(seg_mator.SegMator)"
      ],
      "metadata": {
        "id": "NkCgYbE-1K9g"
      },
      "execution_count": null,
      "outputs": []
    },
    {
      "cell_type": "code",
      "metadata": {
        "id": "I7iUmuyjYgTg"
      },
      "source": [
        "# Applying the unet method to our image\n",
        "image, mask, contours = sm.segment_single_frame(yeast_image, target_size=(1024,1024))"
      ],
      "execution_count": null,
      "outputs": []
    },
    {
      "cell_type": "code",
      "source": [
        "# Explain the outputs ----> image, mask, contours \n",
        "random.choice(participants)"
      ],
      "metadata": {
        "id": "ltVINV9Z2FNM"
      },
      "execution_count": null,
      "outputs": []
    },
    {
      "cell_type": "code",
      "metadata": {
        "id": "S3sZMdYKYinW"
      },
      "source": [
        "# Plotting the original image and mask\n",
        "f,ax = plt.subplots(1,2)\n",
        "ax[0].imshow(image[600:800,50:250],cmap='Greys')\n",
        "ax[1].imshow(mask[600:800,50:250],cmap='Greys')\n",
        "plt.show()"
      ],
      "execution_count": null,
      "outputs": []
    },
    {
      "cell_type": "code",
      "metadata": {
        "id": "my6GVtlKT_Fz"
      },
      "source": [
        "# Plotting a single contour\n",
        "f,ax = plt.subplots()\n",
        "ax.plot(contours[5][:,1],contours[5][:,0])\n",
        "plt.show()"
      ],
      "execution_count": null,
      "outputs": []
    },
    {
      "cell_type": "code",
      "metadata": {
        "id": "DRY1Q_XAVjbb"
      },
      "source": [
        "# Plotting a mask for a single cell\n",
        "contour = contours[300]\n",
        "single_cell_mask = np.zeros(image.shape)\n",
        "rr, cc = polygon(contour[:,0], contour[:,1])\n",
        "single_cell_mask[rr,cc] = 1\n",
        "f,ax = plt.subplots()\n",
        "ax.imshow(single_cell_mask,cmap='Greys')\n",
        "cell_size = single_cell_mask.sum()\n",
        "print(cell_size)"
      ],
      "execution_count": null,
      "outputs": []
    },
    {
      "cell_type": "code",
      "metadata": {
        "id": "_FVoevuySUnO"
      },
      "source": [
        "# Plotting the contours for all cells\n",
        "f,ax = plt.subplots()\n",
        "ax.imshow(image, cmap='Greys')\n",
        "for contour in contours:\n",
        "  ax.plot(contour[:,1],contour[:,0],'r',alpha=.5)\n",
        "ax.set_xlim([0,200])\n",
        "ax.set_ylim([50,250])"
      ],
      "execution_count": null,
      "outputs": []
    },
    {
      "cell_type": "code",
      "metadata": {
        "id": "AVd355f1TZL8"
      },
      "source": [
        "def get_cell_size(contour, image):\n",
        "  '''\n",
        "  This function is intended to calculate cell size from a contour.\n",
        "  '''\n",
        "  single_cell_mask = np.zeros(image.shape)\n",
        "  rr, cc = polygon(contour[:,0], contour[:,1])\n",
        "  single_cell_mask[rr,cc] = 1\n",
        "  cell_size = single_cell_mask.sum()\n",
        "  return cell_size"
      ],
      "execution_count": null,
      "outputs": []
    },
    {
      "cell_type": "code",
      "source": [
        "# Making a list with the cell size for each cell.\n",
        "all_cell_sizes = []\n",
        "for contour in contours:\n",
        "  all_cell_sizes.append(get_cell_size(contour, image))"
      ],
      "metadata": {
        "id": "FSRvE002R7BK"
      },
      "execution_count": null,
      "outputs": []
    },
    {
      "cell_type": "code",
      "metadata": {
        "id": "b8wTAQFeXa0S"
      },
      "source": [
        "# Plotting an histogram with the cell size\n",
        "_ = plt.hist(all_cell_sizes, bins=40,color=[0.5,0.5,0.5] )\n",
        "plt.xlabel('cell size (pixels)')\n",
        "plt.ylabel('# of cells')\n",
        "plt.show()"
      ],
      "execution_count": null,
      "outputs": []
    },
    {
      "cell_type": "markdown",
      "source": [
        "#Cellpose"
      ],
      "metadata": {
        "id": "qCWrJ0dkJg3w"
      }
    },
    {
      "cell_type": "markdown",
      "source": [
        "The [CellPose](https://www.nature.com/articles/s41592-020-01018-x) algorithm uses a [U-Net approach](https://arxiv.org/pdf/1505.04597.pdf), but is a generalist algorithm that can work with a wide variety of cell types. Published in 2021.  ~ 360 citations."
      ],
      "metadata": {
        "id": "Bsmieh02P066"
      }
    },
    {
      "cell_type": "markdown",
      "source": [
        "<img src= https://github.com/MunskyGroup/uqbio2022/raw/master/files/files_image_processing/module_1_2/images/Slide9.png alt=\"drawing\" width=\"1200\"/>"
      ],
      "metadata": {
        "id": "3rVGFURFJi7w"
      }
    },
    {
      "cell_type": "markdown",
      "source": [
        "<img src= https://github.com/MunskyGroup/uqbio2022/raw/master/files/files_image_processing/module_1_2/images/Slide10.png alt=\"drawing\" width=\"1200\"/>"
      ],
      "metadata": {
        "id": "WJFYtPtWJmsM"
      }
    },
    {
      "cell_type": "markdown",
      "source": [
        "One of the biggest problems in single-cell segmentation is the limited number of images that are needed to traing a machine learning algorithm."
      ],
      "metadata": {
        "id": "4wBGaW6q214I"
      }
    },
    {
      "cell_type": "markdown",
      "source": [
        "<img src= https://github.com/MunskyGroup/uqbio2022/raw/master/files/files_image_processing/module_1_2/images/Slide11.png alt=\"drawing\" width=\"1200\"/>"
      ],
      "metadata": {
        "id": "09v-glM7Jorc"
      }
    },
    {
      "cell_type": "markdown",
      "source": [
        "<img src= https://github.com/MunskyGroup/uqbio2022/raw/master/files/files_image_processing/module_1_2/images/Slide12.png alt=\"drawing\" width=\"1200\"/>"
      ],
      "metadata": {
        "id": "jhB6kIiIJse9"
      }
    },
    {
      "cell_type": "markdown",
      "source": [
        "### Segmenting a complete cell using Cellpose"
      ],
      "metadata": {
        "id": "ao89kvM2KS7K"
      }
    },
    {
      "cell_type": "code",
      "source": [
        "# Downloading a test image\n",
        "urls = ['https://ndownloader.figshare.com/files/26751209']\n",
        "urllib.request.urlretrieve(urls[0], './image_cell.tif')\n",
        "figName = './image_cell.tif'\n",
        "image_complete = imread(figName) "
      ],
      "metadata": {
        "id": "iBmNsx7YLNFR"
      },
      "execution_count": null,
      "outputs": []
    },
    {
      "cell_type": "code",
      "source": [
        "# Selecting a single frame and a single color channel\n",
        "img = image_complete[0,:,:,0]\n",
        "# Plotting\n",
        "f,ax = plt.subplots()\n",
        "ax.imshow(img, cmap='Spectral')\n",
        "plt.show()"
      ],
      "metadata": {
        "id": "28V_ExcHLPrX"
      },
      "execution_count": null,
      "outputs": []
    },
    {
      "cell_type": "markdown",
      "source": [
        "Installing cellpose"
      ],
      "metadata": {
        "id": "CSKrmickLUH8"
      }
    },
    {
      "cell_type": "code",
      "source": [
        "%%capture\n",
        "!pip install opencv-python-headless==4.1.2.30\n",
        "!pip install cellpose==1.0\n",
        "from cellpose import models\n",
        "from cellpose import plot"
      ],
      "metadata": {
        "id": "olIN6WbyKDkC"
      },
      "execution_count": null,
      "outputs": []
    },
    {
      "cell_type": "code",
      "source": [
        "# RUN CELLPOSE\n",
        "use_GPU = True # models.use_gpu()\n",
        "# DEFINE CELLPOSE MODEL\n",
        "model = models.Cellpose(gpu=use_GPU, model_type='cyto') # model_type='cyto' or model_type='nuclei'\n",
        "# Running the models\n",
        "masks, flows, styles, diams = model.eval(img, diameter=200, flow_threshold=None, channels=[0,0])\n",
        "plt.imshow(masks,cmap='Greys')\n",
        "plt.show()"
      ],
      "metadata": {
        "id": "KzFpTxTkKJw5"
      },
      "execution_count": null,
      "outputs": []
    },
    {
      "cell_type": "markdown",
      "source": [
        "### Segmenting nucleus and cytosol"
      ],
      "metadata": {
        "id": "5BX0P_YUKQjv"
      }
    },
    {
      "cell_type": "code",
      "source": [
        "# Downloading a FISH image\n",
        "urls = ['https://github.com/MunskyGroup/FISH_Processing/raw/main/dataBases/test_data/ROI001_XY1620755243_Z00_T0_merged.tif']\n",
        "print('Downloading file...')\n",
        "urllib.request.urlretrieve(urls[0], './ROI001_XY1620755243_Z00_T0_merged.tif')\n",
        "figName = './ROI001_XY1620755243_Z00_T0_merged.tif'\n",
        "images_FISH = imread(figName) \n",
        "print('File Downloaded!')"
      ],
      "metadata": {
        "id": "aGA4fiI3KQBc"
      },
      "execution_count": null,
      "outputs": []
    },
    {
      "cell_type": "code",
      "source": [
        "# The image has the following dimensions [Z,Y,X,C]\n",
        "print(images_FISH.shape)"
      ],
      "metadata": {
        "id": "VnFCgfAjLksr"
      },
      "execution_count": null,
      "outputs": []
    },
    {
      "cell_type": "code",
      "source": [
        "# For segmentation, we will select the central  slice.\n",
        "image_to_segment= images_FISH[10,:,:,:]"
      ],
      "metadata": {
        "id": "OrFj_DcgLpsw"
      },
      "execution_count": null,
      "outputs": []
    },
    {
      "cell_type": "code",
      "source": [
        "fig, ax = plt.subplots(1,3, figsize=(20, 10))\n",
        "ax[0].imshow(images_FISH[10,:,:,0],cmap='Spectral_r')\n",
        "ax[0].set(title='Ch0 - DAPI')\n",
        "ax[1].imshow(images_FISH[10,:,:,1],cmap='Spectral_r')\n",
        "ax[1].set(title= 'Ch1 - FISH vs MS2  reporter gene' )\n",
        "ax[2].imshow(images_FISH[10,:,:,2],cmap='Spectral_r')\n",
        "ax[2].set(title= 'Ch1 - FISH vs GAPDH' )\n",
        "plt.show()"
      ],
      "metadata": {
        "id": "4SathPUrLrvI"
      },
      "execution_count": null,
      "outputs": []
    },
    {
      "cell_type": "code",
      "source": [
        "# Segmenting the nucleus\n",
        "img_nuc = images_FISH[10,:,:,0:2]\n",
        "print(img_nuc.shape)"
      ],
      "metadata": {
        "id": "Ba6OsEJ0Lth_"
      },
      "execution_count": null,
      "outputs": []
    },
    {
      "cell_type": "markdown",
      "source": [
        "To get information about the parameters needed by the library\n",
        "\n",
        "\n",
        "```\n",
        "help(model.eval)\n",
        "```\n",
        "\n",
        "```\n",
        "help(models.Cellpose)\n",
        "```"
      ],
      "metadata": {
        "id": "ZQQyWHeoVgz2"
      }
    },
    {
      "cell_type": "code",
      "source": [
        "# RUN CELLPOSE\n",
        "use_GPU = True # models.use_gpu()\n",
        "# DEFINE CELLPOSE MODEL\n",
        "model = models.Cellpose(gpu=use_GPU, model_type='nuclei') # model_type='cyto' or model_type='nuclei'\n",
        "# Running the models\n",
        "masks_nuc, flows, styles, diams = model.eval(img_nuc, diameter=100, flow_threshold=None, channels=[0,1], net_avg=True, augment=True)\n",
        "\n",
        "# Plotting the results\n",
        "plt.imshow(masks_nuc,cmap='Greys_r')\n",
        "plt.show()"
      ],
      "metadata": {
        "id": "3AjZyaDzLtyO"
      },
      "execution_count": null,
      "outputs": []
    },
    {
      "cell_type": "code",
      "source": [
        "# Segmenting the nucleus\n",
        "img_cyto = images_FISH[10,:,:,0:3]\n",
        "print(img_cyto.shape)"
      ],
      "metadata": {
        "id": "Snd7b7ZgLyZN"
      },
      "execution_count": null,
      "outputs": []
    },
    {
      "cell_type": "code",
      "source": [
        "# RUN CELLPOSE\n",
        "use_GPU = True # models.use_gpu()\n",
        "# DEFINE CELLPOSE MODEL\n",
        "model = models.Cellpose(gpu=use_GPU, model_type='cyto2') # model_type='cyto', 'cyto2' or model_type='nuclei'\n",
        "# Running the models\n",
        "masks_cyto, flows, styles, diams = model.eval(img_cyto, diameter=200, flow_threshold=None, channels=[0,2], net_avg=True, augment=True)\n",
        "\n",
        "# Plotting the results\n",
        "plt.imshow(masks_cyto,cmap='Greys_r')\n",
        "plt.show()"
      ],
      "metadata": {
        "id": "h-khEZswLyj2"
      },
      "execution_count": null,
      "outputs": []
    },
    {
      "cell_type": "markdown",
      "source": [
        "## Calculating the [center of mass](https://www.khanacademy.org/science/physics/linear-momentum/center-of-mass/a/what-is-center-of-mass) for a given cell assuming that the cell is a 2D object.  Assuming  $A = M$.\n",
        "\n",
        "For a distribution of mass:\n",
        "\n",
        "$x_{CM} = \\int\\limits_0^M \\frac{x \\,dm}{M}$  ,   \n",
        "$y_{CM} = \\int\\limits_0^M \\frac{y \\,dm}{M}$  ,\n",
        "\n",
        "\n",
        "\n",
        "where $M$ is the total mass in the system.\n"
      ],
      "metadata": {
        "id": "5QtsGJ6ADsjS"
      }
    },
    {
      "cell_type": "code",
      "source": [
        "# Calculaitng  the center of mass for a selected cell.\n",
        "selected_mask_cyto = np.where(masks_cyto==1,1,0) # Selecting only one mask.    \n",
        "y_indexes = np.nonzero(selected_mask_cyto)[0] # Detecting the indexes for all x axis\n",
        "x_indexes = np.nonzero(selected_mask_cyto)[1] # Detecting the indexes for all y axis\n",
        "\n",
        "center_mass_x = int ( np.sum(x_indexes) / np.sum(selected_mask_cyto) )\n",
        "center_mass_y = int( np.sum(y_indexes) / np.sum(selected_mask_cyto) )\n",
        "\n",
        "print('The center of mass is located in y: ' , center_mass_y,'x: ' ,  center_mass_x) \n",
        "\n",
        "# Plotting the selected cell and its center of mass\n",
        "plt.imshow(selected_mask_cyto,cmap='Greys_r')\n",
        "plt.plot(center_mass_x,center_mass_y,'r+',markersize=12)\n",
        "plt.show()"
      ],
      "metadata": {
        "id": "Duyb3qleDsug"
      },
      "execution_count": null,
      "outputs": []
    },
    {
      "cell_type": "markdown",
      "source": [
        "# Practice Problems"
      ],
      "metadata": {
        "id": "7DbWTFL_M8vT"
      }
    },
    {
      "cell_type": "markdown",
      "source": [
        "## Single Cell Segmentation - Workbook Completion Requirements:##\n",
        "To obtain credit for this lesson, each student should complete all blanks for questions Q1-Q6.\n",
        "\n",
        "To obtain a certificate for the course, you must complete a minimum of five notebooks from Modules 1-4 (please note that preliminary notebooks from Module 0 will not be accepted) and submit them together via email before August 15, 2022. Please submit your completed notebooks to qbio_summer_school@colostate.edu"
      ],
      "metadata": {
        "id": "Z3njEDX1M_ZS"
      }
    },
    {
      "cell_type": "markdown",
      "source": [
        "## Easy Questions"
      ],
      "metadata": {
        "id": "1t1B-aQ9NNm2"
      }
    },
    {
      "cell_type": "markdown",
      "source": [
        "Using the video accessible in this link 'https://ndownloader.figshare.com/files/26751209', solve the following questions:\n",
        "\n"
      ],
      "metadata": {
        "id": "qe6svfxNzv3d"
      }
    },
    {
      "cell_type": "markdown",
      "source": [
        "* Q1. Plot the average intensity in the cell for all time points.\n"
      ],
      "metadata": {
        "id": "GqQNqBGzNK3Y"
      }
    },
    {
      "cell_type": "code",
      "source": [
        "# Add your code with your response here:\n",
        "\n",
        "\n",
        "\n"
      ],
      "metadata": {
        "id": "yuRvqzGlMmm9"
      },
      "execution_count": null,
      "outputs": []
    },
    {
      "cell_type": "markdown",
      "source": [
        "* Q2. Calculate the pixel intensity distribution inside the cell for time point 0."
      ],
      "metadata": {
        "id": "4xJ5IMlsMm5x"
      }
    },
    {
      "cell_type": "code",
      "source": [
        "# Add your code with your response here:\n",
        "\n",
        "\n",
        "\n",
        "\n"
      ],
      "metadata": {
        "id": "RJZon8PXMnKb"
      },
      "execution_count": null,
      "outputs": []
    },
    {
      "cell_type": "markdown",
      "source": [
        "* Q3. Calculate the pixel intensity distribution inside the cell for  time point 0.\n"
      ],
      "metadata": {
        "id": "vn7qDzrgMnV8"
      }
    },
    {
      "cell_type": "code",
      "source": [
        "# Add your code with your response here:\n",
        "\n",
        "\n",
        "\n",
        "\n"
      ],
      "metadata": {
        "id": "9yetfq8uMnf1"
      },
      "execution_count": null,
      "outputs": []
    },
    {
      "cell_type": "markdown",
      "source": [
        "* Q4. Calculate a mask for every frame (time point) in the video."
      ],
      "metadata": {
        "id": "CWELKV1aMwPv"
      }
    },
    {
      "cell_type": "code",
      "source": [
        "# Add your code with your response here:\n",
        "\n",
        "\n",
        "\n",
        "\n"
      ],
      "metadata": {
        "id": "7EiYsCytMxuR"
      },
      "execution_count": null,
      "outputs": []
    },
    {
      "cell_type": "markdown",
      "source": [
        "## Moderate Questions"
      ],
      "metadata": {
        "id": "EsGveUTTNSdK"
      }
    },
    {
      "cell_type": "markdown",
      "source": [
        "Using the FISH image accessible in this link 'https://github.com/MunskyGroup/FISH_Processing/raw/main/dataBases/test_data/ROI002_XY1620755646_Z00_T0_merged.tif', solve the following questions:"
      ],
      "metadata": {
        "id": "KvN7-2zJBe0e"
      }
    },
    {
      "cell_type": "markdown",
      "source": [
        "* Q5. Using a maximum projection in Z, calculate the mask for the nuclei and cytosol in the FISH image."
      ],
      "metadata": {
        "id": "khCPDZOmNWxe"
      }
    },
    {
      "cell_type": "code",
      "source": [
        "# Add your code with your response here:\n",
        "\n",
        "\n",
        "\n"
      ],
      "metadata": {
        "id": "T4U5aOhONW62"
      },
      "execution_count": null,
      "outputs": []
    },
    {
      "cell_type": "markdown",
      "source": [
        "* Q6.  Calculate the average area for the cytsol (not including the nucleus) for all cells in the FISH image."
      ],
      "metadata": {
        "id": "3FY09sKiNXJJ"
      }
    },
    {
      "cell_type": "code",
      "source": [
        "# Add your code with your response here:\n",
        "\n",
        "\n",
        "\n"
      ],
      "metadata": {
        "id": "OIlEgjByNXSA"
      },
      "execution_count": null,
      "outputs": []
    },
    {
      "cell_type": "markdown",
      "source": [
        "## Advanced  questions"
      ],
      "metadata": {
        "id": "BHiOmhIYN-BU"
      }
    },
    {
      "cell_type": "markdown",
      "source": [
        "* Q7. Calculate the center of mass of each cell in the FISH image."
      ],
      "metadata": {
        "id": "LUcR6v6TN14n"
      }
    },
    {
      "cell_type": "code",
      "source": [
        "# Add your code with your response here:\n",
        "\n",
        "\n",
        "\n",
        "\n"
      ],
      "metadata": {
        "id": "9RbANiSZOCRO"
      },
      "execution_count": null,
      "outputs": []
    },
    {
      "cell_type": "markdown",
      "source": [
        "* Q8. Make a widget that allows you to select different segmentation thresholds and apply the watershed algorithm to the image."
      ],
      "metadata": {
        "id": "dt8Z9U-IUZxm"
      }
    },
    {
      "cell_type": "code",
      "source": [
        "# Add your code with your response here:\n",
        "\n",
        "\n",
        "\n"
      ],
      "metadata": {
        "id": "zVJc3uwEUaRe"
      },
      "execution_count": null,
      "outputs": []
    },
    {
      "cell_type": "markdown",
      "metadata": {
        "id": "ugjw-hs2yBYY"
      },
      "source": [
        "# References"
      ]
    },
    {
      "cell_type": "markdown",
      "metadata": {
        "id": "pzGe4WvLx8sB"
      },
      "source": [
        "*  Image downloaded from https://figshare.com from publication: \"Forero-Quintero, Linda, William Raymond, Tetsuya Handa, Matthew Saxton, Tatsuya Morisaki, Hiroshi Kimura, Edouard Bertrand, Brian Munsky, and Timothy Stasevich. \"Live-cell imaging reveals the spatiotemporal organization of endogenous RNA polymerase II phosphorylation at a single gene.\" (2020).\"\n",
        "\n",
        "* \"Fox, Z.R., Fletcher, S., Fraisse, A., Aditya, C., Sosa-Carrillo, S., Gilles, S., Bertaux, F., Ruess, J. and Batt, G., 2021. MicroMator: Open and Flexible Software for Reactive Microscopy. bioRxiv. (2021)\""
      ]
    }
  ]
}
