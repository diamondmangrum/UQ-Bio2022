{
  "nbformat": 4,
  "nbformat_minor": 0,
  "metadata": {
    "colab": {
      "name": "Final_UQBio_2022_1_3_Single_particle_tracking_in_Python.ipynb",
      "provenance": [],
      "collapsed_sections": [],
      "private_outputs": true,
      "include_colab_link": true
    },
    "kernelspec": {
      "name": "python3",
      "display_name": "Python 3"
    },
    "accelerator": "GPU"
  },
  "cells": [
    {
      "cell_type": "markdown",
      "metadata": {
        "id": "view-in-github",
        "colab_type": "text"
      },
      "source": [
        "<a href=\"https://colab.research.google.com/github/diamondmangrum/UQ-Bio2022/blob/main/UQBio_2022_1_3_Single_particle_tracking_in_Python.ipynb\" target=\"_parent\"><img src=\"https://colab.research.google.com/assets/colab-badge.svg\" alt=\"Open In Colab\"/></a>"
      ]
    },
    {
      "cell_type": "markdown",
      "metadata": {
        "id": "C-bt4Mr2eSKe"
      },
      "source": [
        "# Tutorial 1_3 - Python Tutorial for Particle Tracking \n",
        "\n",
        "----------\n",
        "## Qbio Summer School 2022\n",
        "--------------\n",
        "\n",
        "```\n",
        "Instructor: Luis Aguilera\n",
        "Author: Dr. Luis Aguilera\n",
        "Contact Info: luis.aguilera@colostate.edu\n",
        "\n",
        "Copyright (c) 2022 Dr. Brian Munsky. \n",
        "Dr. Luis Aguilera, Will Raymond\n",
        "Colorado State University.\n",
        "Licensed under BSD-3-Clause license.\n",
        "```\n"
      ]
    },
    {
      "cell_type": "markdown",
      "metadata": {
        "id": "yUp40-cond27"
      },
      "source": [
        "<img src= https://github.com/MunskyGroup/uqbio2022/raw/master/files/files_image_processing/module_1_3/images/Slide1.png alt=\"drawing\" width=\"1200\"/>"
      ]
    },
    {
      "cell_type": "markdown",
      "metadata": {
        "id": "cqOm2bqOewqs"
      },
      "source": [
        "# Abstract \n",
        "\n",
        "This notebook provides an implementation of a i) 2D random walk simulator and ii) a particle tracking pipeline. At the end of the tutorial, the student is expected to acquire the computational skills to implement the following list of objectives independently.\n",
        "\n",
        "## List of objectives\n",
        "\n",
        "1.   Simulate 2D random walks.\n",
        "2.   Implement a code to track single particles.\n",
        "3.   Calculate mean square displacement and diffusion coefficients.\n",
        "\n",
        "4.   Use the scientific libraries needed to segment and track single molecules in live cells."
      ]
    },
    {
      "cell_type": "code",
      "metadata": {
        "id": "GUXO3UYseTRw"
      },
      "source": [
        "%%capture\n",
        "# Loading libraries\n",
        "import matplotlib.pyplot as plt                    # Library used for plotting\n",
        "from matplotlib import animation                   # Library to plot animations\n",
        "import numpy as np                                 # library for array manipulation\n",
        "import random                                      # Library to generate random numbers\n",
        "from random import randrange                       # Library to generate random numbers\n",
        "import math                                        # Library for math calculations\n",
        "from scipy.spatial import KDTree                   # Module to link trajectories\n",
        "import skimage                                     # Library for image manipulation\n",
        "from skimage.util import random_noise              # Module to add random noise to the image\n",
        "from skimage import measure                        # Module to find contours on images\n",
        "import skimage                                     # Library for image manipulation\n",
        "from skimage.io import imread                      # Module to read images\n",
        "from IPython.display import HTML                   # To display a mp4 video\n",
        "import ipywidgets as widgets                       # Library to plot widgets\n",
        "from ipywidgets import interact, interactive, HBox, Layout, VBox #  importing modules and functions.\n",
        "import urllib.request                              # importing library to download data\n",
        "import pandas as pd"
      ],
      "execution_count": null,
      "outputs": []
    },
    {
      "cell_type": "code",
      "source": [
        "%%capture\n",
        "# Installing libraries\n",
        "! pip install trackpy \n",
        "import trackpy as tp # Library for particle tracking\n",
        "# Import cellpose\n",
        "! pip install opencv-python-headless==4.1.2.30\n",
        "! pip install cellpose==1.0\n",
        "from cellpose import models\n",
        "from cellpose import plot"
      ],
      "metadata": {
        "id": "jViLuP3ckHRV"
      },
      "execution_count": null,
      "outputs": []
    },
    {
      "cell_type": "code",
      "source": [
        "#@title\n",
        "participants = ['Abdulai  Gassama','Ning Zhao','Linda Forero','Will Raymond','Michael May','Ashok Prasad','Eric Ron','Joshua Cook','Ania Baetica','Antonio Matas', 'Athina Diakogianni', 'Ban', 'Lisa Weber','Brian Munsky', 'Carl Zhou', 'Cheyanne Evans', 'Daniel Ramirez', 'Diana Coroiu','Donghyun Jeong','Emmanuel Kennedy','Gordin Danya','Henry Plamondon','Hollie Hindley','Jaspreet','Jhon Wu','Jushawn Macon', 'Kaan Ocal','Kathryn Hanfelt','Kristina Tang', 'Manuel Cortes', 'Mario Sanchez','Michael A. Ramirez','Michael Yang','Moe Obaid', 'Sam McDonald','Zachary Mouton', 'Zhang Xu']"
      ],
      "metadata": {
        "cellView": "form",
        "id": "I_U4RMpMuXHQ"
      },
      "execution_count": null,
      "outputs": []
    },
    {
      "cell_type": "code",
      "source": [
        "# Why do we need to install and import some libraries? and in some cases we only need to import the library?\n",
        "random.choice(participants)"
      ],
      "metadata": {
        "id": "QWsLFFjvuZQF"
      },
      "execution_count": null,
      "outputs": []
    },
    {
      "cell_type": "markdown",
      "metadata": {
        "id": "1ElfssgNi1RO"
      },
      "source": [
        "<img src= https://github.com/MunskyGroup/uqbio2022/raw/master/files/files_image_processing/module_1_3/images/Slide2.png alt=\"drawing\" width=\"1200\"/>"
      ]
    },
    {
      "cell_type": "markdown",
      "metadata": {
        "id": "Ag-ZwZjTgpJI"
      },
      "source": [
        "# Particle Simulator"
      ]
    },
    {
      "cell_type": "markdown",
      "metadata": {
        "id": "-YZaY4VAiiTR"
      },
      "source": [
        "<img src= https://github.com/MunskyGroup/uqbio2022/raw/master/files/files_image_processing/module_1_3/images/Slide4.png alt=\"drawing\" width=\"1200\"/>"
      ]
    },
    {
      "cell_type": "markdown",
      "metadata": {
        "id": "XrKlyjwh4ZPm"
      },
      "source": [
        "### Code for a 2-D random walk. To access it, double-click in the cell below."
      ]
    },
    {
      "cell_type": "code",
      "metadata": {
        "id": "Wzl83_wzSRZf"
      },
      "source": [
        "#@title Code for 2D random walk\n",
        "def brownian_movement_simulator(img_size = [100,100] ,num_time_points=10, number_spots = 20, diffusion_coeffient=1,percentage_background_noise=0):\n",
        "  '''\n",
        "  This function is intended to create spots and simulated brownian motion.\n",
        "  Inputs:\n",
        "    img_size: list of two int, with format [x_size, y_size]. Units are pixels.\n",
        "    num_time_points: int, number of time points to simulate\n",
        "    num_spots: int, number of spots to simulate.\n",
        "    diffusion_coeffient: float.\n",
        "\n",
        "  Returns\n",
        "    img_with_spots: numpy array with dimenssions [T,Y,X,C]\n",
        "  '''\n",
        "  #####\n",
        "  ##### Step 1. Generating an empty array\n",
        "  #####\n",
        "  img = np.zeros((num_time_points, img_size[0], img_size[1], 1),dtype=np.uint8) \n",
        "  ## Function parameters.\n",
        "  initial_points = np.zeros((number_spots,2 ),dtype=np.uint16) \n",
        "  size_x = img.shape[2]\n",
        "  size_y = img.shape[1]\n",
        "  step_size = 1\n",
        "  num_time_points = img.shape[0]\n",
        "  min_space_to_avoid_edges = 5 # minimal number of pixeles closer to a border \n",
        "  size_spot = 5\n",
        "  spot_sigma = 2\n",
        "  num_dimensions = 2\n",
        "  #####\n",
        "  ##### Step 2. Replacing \"\"Particles\"\" as a 2-D Gaussian matrix\n",
        "  #####\n",
        "  ax = np.linspace(-(size_spot - 1) / 2., (size_spot - 1) / 2., size_spot)\n",
        "  xx, yy = np.meshgrid(ax, ax)\n",
        "  kernel = np.exp(-0.5 * (np.square(xx) + np.square(yy)) / np.square(spot_sigma)) \n",
        "  kernel = (kernel / np.amax(kernel)) * 255\n",
        "\n",
        "  #####\n",
        "  ##### Step 3. Generating initial positions\n",
        "  #####\n",
        "  for i in range (0,number_spots):\n",
        "    initial_points[i,:] = [randrange(min_space_to_avoid_edges,size_x-min_space_to_avoid_edges), randrange(min_space_to_avoid_edges,size_y-min_space_to_avoid_edges)]\n",
        "  ## Brownian motion  \n",
        "  brownian_movement = math.sqrt(2*num_dimensions*diffusion_coeffient*step_size) # Scaling factor for Brownian motion.\n",
        "  # Prealocating memory\n",
        "  y_positions = np.array(initial_points[:,0],dtype='int') #  x_position for selected spots inside the image\n",
        "  x_positions = np.array(initial_points[:,1],dtype='int') #  y_position for selected spots inside the image\n",
        "  spot_positions_movement = np.zeros((num_time_points,number_spots,2),dtype='int')\n",
        "  # Temporal array with positions\n",
        "  temp_Position_y = np.zeros_like(y_positions,dtype='int')\n",
        "  temp_Position_x = np.zeros_like(x_positions,dtype='int')\n",
        "  # Updated array with positions\n",
        "  newPosition_y = np.zeros_like(y_positions,dtype='int')\n",
        "  newPosition_x = np.zeros_like(x_positions,dtype='int')\n",
        "  \n",
        "  #####\n",
        "  ##### Step 4. Main loop that computes the random motion and new spot positions\n",
        "  #####\n",
        "  for t_p in range(0,num_time_points):\n",
        "      for i_p in range (0, number_spots):\n",
        "          if t_p == 0:\n",
        "              temp_Position_y[i_p]= y_positions[i_p]\n",
        "              temp_Position_x[i_p]= x_positions[i_p]            \n",
        "          else:\n",
        "              temp_Position_y[i_p]= newPosition_y[i_p] + int(brownian_movement * np.random.randn(1))\n",
        "              temp_Position_x[i_p]= newPosition_x[i_p] + int(brownian_movement * np.random.randn(1))\n",
        "          # Test that spots are not going outside the image. \n",
        "          # Notice that this simplification will cause an artiifact for long simulation times and large D.\n",
        "          if temp_Position_y[i_p] < min_space_to_avoid_edges or temp_Position_y[i_p] > size_y-min_space_to_avoid_edges or temp_Position_x[i_p] < min_space_to_avoid_edges or temp_Position_x[i_p] > size_x-min_space_to_avoid_edges :\n",
        "              temp_Position_y[i_p]= newPosition_y[i_p] \n",
        "              temp_Position_x[i_p]= newPosition_x[i_p] \n",
        "          # Updating positions\n",
        "          newPosition_y[i_p]= temp_Position_y[i_p]\n",
        "          newPosition_x[i_p]= temp_Position_x[i_p]\n",
        "      # Final numpy array with all spots for all time points\n",
        "      spot_positions_movement [t_p,:,:]= np.vstack((newPosition_y, newPosition_x)).T\n",
        "  # Replacing pixels where a spot should be located with a Gaussian matrix\n",
        "  img_with_spots = img.copy()\n",
        "  for t_p in range(0,num_time_points):\n",
        "    for i_p in range (0, number_spots):\n",
        "      center_position = spot_positions_movement[t_p,i_p,:]\n",
        "      img_with_spots[t_p, center_position[0]-round(size_spot/2): center_position[0]+round(size_spot/2)+1 ,center_position[1]-round(size_spot/2): center_position[1]+round(size_spot/2)+1,0 ] = kernel\n",
        "  # Adding background noise\n",
        "  if percentage_background_noise != 0:  \n",
        "    img_with_spots= random_noise(img_with_spots, mode='gaussian', mean=percentage_background_noise, var=percentage_background_noise/2) # converts to float\n",
        "    img_with_spots = np.array(255 * img_with_spots, dtype=np.uint8) # converting back to 8-bit\n",
        "  # Retuning a numpy array with the simulated data\n",
        "  return img_with_spots"
      ],
      "execution_count": null,
      "outputs": []
    },
    {
      "cell_type": "markdown",
      "metadata": {
        "id": "7rCXCn3MPz7Z"
      },
      "source": [
        "Additional implementations for a 2D random walk can be found in the following links [link 1](https://www.uio.no/studier/emner/matnat/fys/FYS2160/h17/simuleringsopgaver/virrevandrer_diffusjon.pdf) and [link 2](https://towardsdatascience.com/random-walks-with-python-8420981bc4bc)."
      ]
    },
    {
      "cell_type": "markdown",
      "metadata": {
        "id": "bWVaonwp_AwY"
      },
      "source": [
        "## Running the simulator"
      ]
    },
    {
      "cell_type": "code",
      "metadata": {
        "id": "2wESsnEGT5Lf"
      },
      "source": [
        "# Running the 2D random walk simulator\n",
        "img_size =[300, 300]\n",
        "num_time_points = 50\n",
        "diffusion_coeffient = 1\n",
        "number_spots = 10\n",
        "percentage_background_noise = 0.01\n",
        "img_with_spots = brownian_movement_simulator(img_size =img_size,num_time_points=num_time_points, number_spots=number_spots, diffusion_coeffient =diffusion_coeffient, percentage_background_noise= percentage_background_noise)"
      ],
      "execution_count": null,
      "outputs": []
    },
    {
      "cell_type": "markdown",
      "metadata": {
        "id": "8uo15mtGXViM"
      },
      "source": [
        "### Plotting results as a video"
      ]
    },
    {
      "cell_type": "code",
      "metadata": {
        "id": "6foEB_L0SRe1"
      },
      "source": [
        "#@title Particle movement video\n",
        "# Plotting spots as a video\n",
        "fig = plt.figure(figsize=(7,7))\n",
        "#Define inital frames\n",
        "im = plt.imshow(img_with_spots[0,:,:,0],cmap= 'Reds_r') # Reds_r\n",
        "#plt.axis('off')\n",
        "def movieFrame(i):\n",
        "  images = [img_with_spots[i,:,:,0]]\n",
        "  image_handles = [im]\n",
        "  for k, image_n in enumerate(images):\n",
        "    image_handles[k].set_array(images[k])\n",
        "  return image_handles\n",
        "plt.close()\n",
        "anim = animation.FuncAnimation(fig, movieFrame, frames=img_with_spots.shape[0], interval=50, blit=True)\n",
        "from IPython.display import HTML\n",
        "HTML(anim.to_html5_video())"
      ],
      "execution_count": null,
      "outputs": []
    },
    {
      "cell_type": "code",
      "metadata": {
        "id": "gp1P0KznQDyn"
      },
      "source": [
        "# 3D-Visualization (X,Y, intensity)\n",
        "fig = plt.figure(dpi=120)\n",
        "ax1 = np.arange(0,img_with_spots.shape[1],1)\n",
        "xx, yy = np.meshgrid(ax1, ax1)\n",
        "ax_3D = plt.axes(projection='3d')\n",
        "ax_3D.plot_surface(xx, yy, img_with_spots[0,:,:,0], cmap='Reds')\n",
        "plt.show()"
      ],
      "execution_count": null,
      "outputs": []
    },
    {
      "cell_type": "markdown",
      "metadata": {
        "id": "uIDyqVohjR5G"
      },
      "source": [
        "# Particle Tracking Process"
      ]
    },
    {
      "cell_type": "markdown",
      "metadata": {
        "id": "N-KJap2IjT_f"
      },
      "source": [
        "<img src= https://github.com/MunskyGroup/uqbio2022/raw/master/files/files_image_processing/module_1_3/images/Slide5.png alt=\"drawing\" width=\"1200\"/>"
      ]
    },
    {
      "cell_type": "markdown",
      "metadata": {
        "id": "5h0ZnEpkNbKT"
      },
      "source": [
        "## Particle detection"
      ]
    },
    {
      "cell_type": "markdown",
      "metadata": {
        "id": "Zp3ohUGZfG58"
      },
      "source": [
        "### Binarization"
      ]
    },
    {
      "cell_type": "code",
      "metadata": {
        "id": "i5lzc4iwuhp4"
      },
      "source": [
        "threshold = 100  # Values in range [0, 255]"
      ],
      "execution_count": null,
      "outputs": []
    },
    {
      "cell_type": "code",
      "metadata": {
        "id": "DE-Jvx28Ygs1"
      },
      "source": [
        "# Define an intensity treshold\n",
        "selected_time_point = 1\n",
        "img_tracking = img_with_spots.copy() # copy of the image.\n",
        "slected_tp_img = img_tracking[selected_time_point,:,:,0] # selecting a time point\n",
        "\n",
        "## Image binarization\n",
        "# Making spots above the threshold equal to 255. The maximum value in a 8-bit image.\n",
        "slected_tp_img[slected_tp_img>threshold] = 255\n",
        "# Making spots below the treshold equal to 0.\n",
        "slected_tp_img[slected_tp_img<threshold] = 0\n",
        "# Binarization\n",
        "slected_tp_img[slected_tp_img!=0] = 1"
      ],
      "execution_count": null,
      "outputs": []
    },
    {
      "cell_type": "code",
      "metadata": {
        "id": "Pr74tj6K52-8"
      },
      "source": [
        "# Plotting \n",
        "fig, ax = plt.subplots(1,2, figsize=(15, 5))\n",
        "ax[0].imshow(img_with_spots[selected_time_point,:,:,0],cmap='Greens_r')\n",
        "ax[0].set_title('Simulated spots')\n",
        "ax[1].imshow(slected_tp_img,cmap='Greys_r')\n",
        "ax[1].set_title('Binary image with pixels above treshold')\n",
        "plt.show()"
      ],
      "execution_count": null,
      "outputs": []
    },
    {
      "cell_type": "code",
      "metadata": {
        "id": "AJy4GXVdBbrA"
      },
      "source": [
        "# Joining pixels in \"particles\"\n",
        "contours = measure.find_contours(slected_tp_img, 0.5)\n",
        "# Display the image and plot all contours found\n",
        "fig, ax = plt.subplots(figsize=(5, 5))\n",
        "ax.imshow(slected_tp_img, cmap=plt.cm.gray)\n",
        "for contour in contours:\n",
        "    ax.plot(contour[:, 1], contour[:, 0], linewidth=2)"
      ],
      "execution_count": null,
      "outputs": []
    },
    {
      "cell_type": "markdown",
      "metadata": {
        "id": "65Edkx-yfLoE"
      },
      "source": [
        "### Detecting particles (center of mass) for all frames"
      ]
    },
    {
      "cell_type": "code",
      "metadata": {
        "id": "cJzgejnoH6Tq"
      },
      "source": [
        "#@title Function particle detector\n",
        "def particle_detector(img,threshold):\n",
        "  '''\n",
        "  This function is intended to detect spots above a given threshold.\n",
        "  Inputs:\n",
        "    img: numpy array with dimenssions [T,Y,X,C]\n",
        "    threshold: float.\n",
        "\n",
        "  Returns\n",
        "    list_all_time_point_center_mass: list of centers of mass for each time point.  [ [ cm_particle_0_tp_0, ..., cm_particle_n_tp_0], ... , [ cm_particle_0_tp_n, ..., cm_particle_n_tp_n] ]\n",
        "  '''\n",
        "  img_tracking = img.copy() # copy of the image.\n",
        "  num_time_points = img_tracking.shape[0]\n",
        "  list_all_time_point_center_mass  =[]\n",
        "  for i in range (0,num_time_points):\n",
        "    list_center_mass = []\n",
        "    slected_tp_img = img_tracking[i,:,:,0] # selecting a time point\n",
        "    # Making spots above the threshold equal to 255.\n",
        "    slected_tp_img[slected_tp_img>threshold] = 255\n",
        "    # Making spots below the threshold equal to 0.\n",
        "    slected_tp_img[slected_tp_img<threshold] = 0\n",
        "    # Binarization\n",
        "    slected_tp_img[slected_tp_img!=0] = 1\n",
        "    # Joining pixels and deffining particles\n",
        "    contours = measure.find_contours(slected_tp_img, 0.5)\n",
        "    # Calculating the center of mass of each particle\n",
        "    for contour in contours:\n",
        "      center_mass = [np.median(contour[:, 1]), np.median(contour[:, 0]) ]  # y and x\n",
        "      list_center_mass.append(center_mass)\n",
        "    # Saving results as a list of centers of mass for each time point.  [ [ cm_particle_0_tp_0, ..., cm_particle_n_tp_0], ... , [ cm_particle_0_tp_n, ..., cm_particle_n_tp_n] ]\n",
        "    list_all_time_point_center_mass.append(list_center_mass)\n",
        "  return list_all_time_point_center_mass "
      ],
      "execution_count": null,
      "outputs": []
    },
    {
      "cell_type": "code",
      "metadata": {
        "id": "0sLOAhbVGPav"
      },
      "source": [
        "list_all_time_point_center_mass = particle_detector(img_with_spots,threshold=100)"
      ],
      "execution_count": null,
      "outputs": []
    },
    {
      "cell_type": "code",
      "metadata": {
        "id": "h4FdIhLmzTPk"
      },
      "source": [
        "# List containing [Y,X] positions for the center of mass for each particle. \n",
        "list_all_time_point_center_mass[1] # Selecting a time point"
      ],
      "execution_count": null,
      "outputs": []
    },
    {
      "cell_type": "code",
      "metadata": {
        "id": "IMIna_05A3xP"
      },
      "source": [
        "# Plotting center of mass of each particle\n",
        "fig, ax = plt.subplots(figsize=(5, 5))\n",
        "ax.imshow(img_with_spots[selected_time_point,:,:,0], cmap=plt.cm.gray)\n",
        "for i in range(0,len(list_all_time_point_center_mass[selected_time_point])):\n",
        "  ax.plot(list_all_time_point_center_mass[selected_time_point][i][0], list_all_time_point_center_mass[selected_time_point][i][1], color='r',marker='*')\n",
        "plt.show()"
      ],
      "execution_count": null,
      "outputs": []
    },
    {
      "cell_type": "markdown",
      "metadata": {
        "id": "Otfr4HADg12q"
      },
      "source": [
        "## Linking trajectories"
      ]
    },
    {
      "cell_type": "code",
      "metadata": {
        "id": "UM3CoG0cBvr6"
      },
      "source": [
        "#@title Function to link spots\n",
        "\n",
        "def linking_spots(list_center_mass):\n",
        "  '''\n",
        "  This function is intended to link trajectories given a list of centers of mass.\n",
        "  Inputs:\n",
        "    list_center_mass: list of centers of mass for each time point.  [ [ cm_particle_0_tp_0, ..., cm_particle_n_tp_0], ... , [ cm_particle_0_tp_n, ..., cm_particle_n_tp_n] ]\n",
        "\n",
        "  Returns\n",
        "    list_trajectories: list of connected coordinates for all particles and all time points. \n",
        "    [\n",
        "    [ [Y_val_particle_0_tp_0, X_val_particle_0_tp_0]   , ... , [Y_val_particle_n_tp_0, X_val_particle_n_tp_0] ]\n",
        "    ...\n",
        "    [ [Y_val_particle_0_tp_n, X_val_particle_0_tp_n]   , ... , [Y_val_particle_n_tp_n, X_val_particle_n_tp_n] ]\n",
        "    ]\n",
        "  '''\n",
        "  def get_points_on_frame(i):\n",
        "      # Sub-function to convert each  element  in the list into a numpy array    \n",
        "      return np.array(list_center_mass[i])\n",
        "  \n",
        "  # Look for the nearest point slice by slice:\n",
        "  number_frames = len (list_center_mass)\n",
        "  start_positions = np.array(list_center_mass[0])\n",
        "\n",
        "  ###### STEP 1 ######### \n",
        "  # FOR EVERY FRAME WE DETECTED THE PARTICLES IN THE SYSTEM\n",
        "  # WE GIVE AN INDEX TO EACH PARTICLE IN EVERY FRAME\n",
        "  # ARRAY ROW = FRAME COL = PARTICLE_INDEX \n",
        "  idx_nearest_trajectories = np.arange(start_positions.shape[0]).reshape(1, -1) # 1D vector with the size of the number of particles\n",
        "  # Loop for all frames\n",
        "  for i in range(1, number_frames):\n",
        "      # This class provides an index into a set of k-dimensional points which can be used to rapidly look up the nearest neighbors of any point.\n",
        "      # help(KDTree)\n",
        "      # help(KDTree.query)\n",
        "      get_nearest = KDTree(get_points_on_frame(i)) \n",
        "      previous_points = get_points_on_frame(i-1)[idx_nearest_trajectories[-1, :]]\n",
        "      # Returns the distances and index to the nearest neighbors.\n",
        "      distance, idx_nearest = get_nearest.query(previous_points)\n",
        "      # concatenate the idx_nearest_trajectories for every frame\n",
        "      idx_nearest_trajectories = np.vstack((idx_nearest_trajectories, idx_nearest))\n",
        "  #print('List of particle_index vs frame  \\n', idx_nearest_trajectories)\n",
        "\n",
        "  ###### STEP 2 ######### \n",
        "  # Converting array with particle_indexes to coordinates \n",
        "  # indexing the list_center_mass using idx_nearest_trajectories\n",
        "  list_trajectories =[]\n",
        "  for path_idx in idx_nearest_trajectories.T:\n",
        "    path_coords = [list_center_mass[i][idx] for i, idx in enumerate(path_idx)]\n",
        "    list_trajectories.append(path_coords)\n",
        "  return list_trajectories"
      ],
      "execution_count": null,
      "outputs": []
    },
    {
      "cell_type": "code",
      "metadata": {
        "id": "EbDSxO3djNeI"
      },
      "source": [
        "# Linking the center of mass for each particle in all frames\n",
        "list_trajectories_short = linking_spots (list_all_time_point_center_mass)"
      ],
      "execution_count": null,
      "outputs": []
    },
    {
      "cell_type": "code",
      "source": [
        "list_trajectories_short[1]  # particle index"
      ],
      "metadata": {
        "id": "kxqAsl9Y8V10"
      },
      "execution_count": null,
      "outputs": []
    },
    {
      "cell_type": "code",
      "source": [
        "# Plotting the trajectory for the first particle in the system\n",
        "plt.plot(list_trajectories_short[0][0][0], list_trajectories_short[0][0][1]  , 'ko', markersize=10) # stating position    [particle][Frame][X],[particle][Frame][Y]\n",
        "plt.plot(*zip(*list_trajectories_short[0]), '-r', linewidth=2)\n",
        "plt.plot(list_trajectories_short[0][-1][0], list_trajectories_short[0][-1][1]  , 'k*', markersize=10) # ending position    [particle][Frame][X],[particle][Frame][Y]\n",
        "plt.show()"
      ],
      "metadata": {
        "id": "HmmPzMe8n2Iy"
      },
      "execution_count": null,
      "outputs": []
    },
    {
      "cell_type": "markdown",
      "source": [
        "What is the [Star Operator](https://www.tutorialspoint.com/What-does-the-Star-operator-mean-in-Python) doing in the previous block of code?"
      ],
      "metadata": {
        "id": "yJxM3jYKoLtq"
      }
    },
    {
      "cell_type": "code",
      "metadata": {
        "id": "pCgshSomjNsr"
      },
      "source": [
        "# Plotting individual trajectories history. \n",
        "plt.figure(figsize=(6, 6))\n",
        "for i in range(0, len(list_trajectories_short)):\n",
        "    plt.plot(*zip(*list_trajectories_short[i]), '-', linewidth=2)\n",
        "plt.xlim([0, img_size[1]])\n",
        "plt.ylim([img_size[0], 0])   # Notice that we are reversing the order in the Y-axis\n",
        "plt.show()"
      ],
      "execution_count": null,
      "outputs": []
    },
    {
      "cell_type": "markdown",
      "metadata": {
        "id": "mtB6wXgjfg9c"
      },
      "source": [
        "# Calculating the Mean Square Displacement (MSD)"
      ]
    },
    {
      "cell_type": "markdown",
      "metadata": {
        "id": "3OVwMn9TIBnQ"
      },
      "source": [
        "MSD is a metric to calculate the average movement of particles with respect to time. [MSD formal definition](https://en.wikipedia.org/wiki/Mean_squared_displacement)."
      ]
    },
    {
      "cell_type": "markdown",
      "metadata": {
        "id": "V-mqIpwQKqsc"
      },
      "source": [
        "${\\rm MSD}=\\frac{1}{N}\\sum_{i=1}^N |\\mathbf{x^{(i)}}(t) - \\mathbf{x^{(i)}}(0)|^2 $"
      ]
    },
    {
      "cell_type": "markdown",
      "metadata": {
        "id": "gvVRNjX9Kr2W"
      },
      "source": [
        "where $N$ is the number of particles, $\\mathbf{x^{(i)}}(0)$ is the reference position of the $i^{th}$ particle, and $\\mathbf{x^{(i)}}(t)$ is the position of the $i^{th}$ particle at time $t$."
      ]
    },
    {
      "cell_type": "markdown",
      "source": [
        "## What kind of movement my system has?\n",
        "\n",
        "\n"
      ],
      "metadata": {
        "id": "j9xGiisGzVUn"
      }
    },
    {
      "cell_type": "markdown",
      "source": [
        "In a random motion process, there is a linear relationship between the MSD and time $t$. [Link with the derivation of this formula](https://en.wikipedia.org/wiki/Mean_squared_displacement).\n",
        "\n",
        "$MSD= 2nDt$,\n",
        "\n",
        "where $n$ is the number of dimensions,  $D$ is the  diffusion coefficient, \n",
        "\n",
        "$D= \\frac{k_B \\cdot T}{6 \\pi \\eta r}$ (Einstein-Stokes equation)\n",
        "\n",
        "*   Proportional to: $k_B$ Boltzman constant, $T$ absolute temperature\n",
        "*   Inversely Proportional: $\\eta$ is the viscocity, $r$ particle radius.\n"
      ],
      "metadata": {
        "id": "Cx85h9xw3Co_"
      }
    },
    {
      "cell_type": "markdown",
      "metadata": {
        "id": "hxNUfjmGjePR"
      },
      "source": [
        "<img src= https://github.com/MunskyGroup/uqbio2022/raw/master/files/files_image_processing/module_1_3/images/Slide6.png alt=\"drawing\" width=\"1200\"/>"
      ]
    },
    {
      "cell_type": "markdown",
      "source": [
        "Addtional [image](https://en.wikipedia.org/wiki/Anomalous_diffusion#/media/File:Msd_anomalous_diffusion.svg) with anomalous diffusion."
      ],
      "metadata": {
        "id": "W_wLqKnc2t9b"
      }
    },
    {
      "cell_type": "code",
      "metadata": {
        "id": "7jUGvKPL-XaS",
        "cellView": "form"
      },
      "source": [
        "#@title Function to calculate msd\n",
        "def compute_msd(trajectory):\n",
        "  '''\n",
        "  This function is intended to calculate the mean square displacement of a given trajectory.\n",
        "  msd(τ)  = <[r(t+τ) - r(t)]^2>\n",
        "  Inputs:\n",
        "    trajectory: list of temporal evolution of a centers of mass .  [Y_val_particle_i_tp_0, X_val_particle_i_tp_0]   , ... , [Y_val_particle_i_tp_n, X_val_particle_i_tp_n] ]\n",
        "\n",
        "  Returns\n",
        "    msd: float, mean square displacement\n",
        "    rmsd: float, root mean square displacement\n",
        "  '''\n",
        "  total_length_trajectory=len(trajectory)\n",
        "  msd=[]\n",
        "  for i in range(total_length_trajectory-1):\n",
        "      tau=i+1\n",
        "      # Distance that a particle moves for each time point (tau) divided by time\n",
        "      # msd(τ)                 = <[r(t+τ)  -    r(t)]^2>\n",
        "      msd.append(np.sum((trajectory[0:-tau]-trajectory[tau::])**2)/float(total_length_trajectory-tau)) # Reverse Indexing \n",
        "  # Converting list to np.array\n",
        "  msd=np.array(msd)   # array with shape Nspots vs time_points\n",
        "  rmsd = np.sqrt(msd)\n",
        "  return msd, rmsd "
      ],
      "execution_count": null,
      "outputs": []
    },
    {
      "cell_type": "markdown",
      "source": [
        "Useful links to implement msd [link with code implementation](https://stackoverflow.com/questions/53443486/calculating-mean-square-displacement-for-a-single-particle-in-1d)  and [paper](https://web.mit.edu/savin/Public/.Tutorial_v1.2/Introduction.html)."
      ],
      "metadata": {
        "id": "4J0-z6bPsE00"
      }
    },
    {
      "cell_type": "code",
      "metadata": {
        "id": "mP_LBNvuf0L-"
      },
      "source": [
        "# Running the 2D random walk simulator\n",
        "img_size_kd =[1000, 1000]\n",
        "num_time_points = 40\n",
        "diffusion_coeffient = 0.5\n",
        "percentage_background_noise = 0 #How would you measure this\n",
        "number_spots = 200\n",
        "img_with_spots_kd = brownian_movement_simulator(img_size =img_size_kd,num_time_points=num_time_points, number_spots=number_spots, diffusion_coeffient =diffusion_coeffient, percentage_background_noise= percentage_background_noise)"
      ],
      "execution_count": null,
      "outputs": []
    },
    {
      "cell_type": "code",
      "metadata": {
        "id": "-R58ugkmhZMj"
      },
      "source": [
        "# Detecting particles\n",
        "list_center_mass_kd = particle_detector(img_with_spots_kd,threshold=180)\n",
        "\n",
        "# Linking trajectories\n",
        "list_trajectories_kd = linking_spots (list_center_mass_kd)\n",
        "num_trajectories = len(list_trajectories_kd)"
      ],
      "execution_count": null,
      "outputs": []
    },
    {
      "cell_type": "code",
      "metadata": {
        "id": "Abe8bwNEW_pV"
      },
      "source": [
        "# Calculating the MSD\n",
        "t=np.arange(1,num_time_points,1)\n",
        "msd_trajectories = np.zeros((num_trajectories,num_time_points-1))\n",
        "rmsd_trajectories = np.zeros((num_trajectories,num_time_points-1))\n",
        "for i in range(0,num_trajectories):\n",
        "  msd_trajectories[i,:], rmsd_trajectories[i,:] = compute_msd(np.array(list_trajectories_kd[i]))"
      ],
      "execution_count": null,
      "outputs": []
    },
    {
      "cell_type": "code",
      "source": [
        "# Plotting the MSD for every particle in  the simulation\n",
        "for i in range(0,num_trajectories):\n",
        "  plt.plot(msd_trajectories[i,:],'-',color=[0.5,0.5,0.5])\n",
        "plt.show()"
      ],
      "metadata": {
        "id": "bVTGbZ2Uu8oA"
      },
      "execution_count": null,
      "outputs": []
    },
    {
      "cell_type": "code",
      "metadata": {
        "id": "EcJK2OUXaikZ"
      },
      "source": [
        "# MSD Statistics (mu, sigma) for all trajectories.\n",
        "msd_trajectories_all_mu = np.mean(msd_trajectories,axis=0)\n",
        "msd_trajectories_all_sem = np.std(msd_trajectories,axis=0) /np.sqrt(num_trajectories)"
      ],
      "execution_count": null,
      "outputs": []
    },
    {
      "cell_type": "code",
      "metadata": {
        "id": "xdbVMz7VQJ0f"
      },
      "source": [
        "# MSD calculated from fromula\n",
        "msd_formula = 2*2*diffusion_coeffient*t"
      ],
      "execution_count": null,
      "outputs": []
    },
    {
      "cell_type": "code",
      "metadata": {
        "id": "nMKStXUgXknX"
      },
      "source": [
        "# Plotting the MSD vs Time\n",
        "downsampling = 3\n",
        "plt.figure(figsize=(7, 5))\n",
        "for i in range(0,num_trajectories):\n",
        "  plt.plot(msd_trajectories[i,:],'-',color=[0.8,0.8,0.8])\n",
        "plt.errorbar(t[::downsampling], msd_trajectories_all_mu[::downsampling],  yerr=msd_trajectories_all_sem[::downsampling],ecolor='blue',linestyle='')\n",
        "plt.plot(t[::downsampling], msd_trajectories_all_mu[::downsampling], marker='o', markersize=12, linestyle='none',color='blue',label ='simulation' )\n",
        "plt.plot(t, msd_formula, color='red', linewidth=4,label ='msd_formula 2Dt')\n",
        "plt.legend()\n",
        "plt.title('Mean square displacement')\n",
        "plt.ylabel('MSD (au)')\n",
        "plt.xlabel('Time (au)')\n",
        "plt.ylim(0,150)\n",
        "plt.show()"
      ],
      "execution_count": null,
      "outputs": []
    },
    {
      "cell_type": "markdown",
      "source": [
        "## In the following widget move the slider bar to increase/decrease the value of the Diffusion coefficient (D) in the simulation. Discuss the kind of movement obtained with large/small values for D."
      ],
      "metadata": {
        "id": "iYvRUJyh5XXg"
      }
    },
    {
      "cell_type": "code",
      "source": [
        "#@title Plotting the msd as function of time for multiple $D$\n",
        "\n",
        "\n",
        "\n",
        "plt.rcParams[\"figure.figsize\"] = (5,5) # if movie is too big, change size to (7,7)\n",
        "\n",
        "def figure_viewer(diffusion_coeffient):\n",
        "    # Running the 2D random walk simulator\n",
        "    img_size_kd =[1000, 1000]\n",
        "    num_time_points = 100\n",
        "    #diffusion_coeffient = 5\n",
        "    percentage_background_noise = 0\n",
        "    number_spots = 100\n",
        "    img_with_spots_kd = brownian_movement_simulator(img_size =img_size_kd,num_time_points=num_time_points, number_spots=number_spots, diffusion_coeffient =diffusion_coeffient, percentage_background_noise= percentage_background_noise)\n",
        "    # Detecting particles\n",
        "    list_center_mass_kd = particle_detector(img_with_spots_kd,threshold=180)\n",
        "    # Linking trajectories\n",
        "    list_trajectories_kd = linking_spots (list_center_mass_kd)\n",
        "    num_trajectories = len(list_trajectories_kd)\n",
        "    # Calculating the MSD\n",
        "    t=np.arange(1,num_time_points,1)\n",
        "    msd_trajectories = np.zeros((num_trajectories,num_time_points-1))\n",
        "    rmsd_trajectories = np.zeros((num_trajectories,num_time_points-1))\n",
        "    for i in range(0,num_trajectories):\n",
        "      msd_trajectories[i,:], rmsd_trajectories[i,:] = compute_msd(np.array(list_trajectories_kd[i]))\n",
        "    # MSD Statistics (mu, sigma) for all trajectories.\n",
        "    msd_trajectories_all_mu = np.mean(msd_trajectories,axis=0)\n",
        "    msd_trajectories_all_sem = np.std(msd_trajectories,axis=0) /np.sqrt(num_trajectories)\n",
        "    # MSD calculated from fromula\n",
        "    msd_formula = 2*diffusion_coeffient*t\n",
        "    # Plotting the MSD vs Time\n",
        "    down_sampling = 3\n",
        "    #plt.figure(figsize=(7, 5))\n",
        "    plt.errorbar(t[::down_sampling], msd_trajectories_all_mu[::down_sampling],  yerr=msd_trajectories_all_sem[::down_sampling],ecolor='grey',linestyle='')\n",
        "    plt.plot(t[::down_sampling], msd_trajectories_all_mu[::down_sampling], marker='o', markersize=12, linestyle='none',color='grey',label ='simulation' )\n",
        "    plt.plot(t, msd_formula, color='red', linewidth=4,label ='msd_formula')\n",
        "    plt.legend()\n",
        "    plt.title('Mean square displacement')\n",
        "    plt.ylabel('MSD (au)')\n",
        "    plt.xlabel('Time (au)')\n",
        "    plt.show()\n",
        "interactive_plot = interactive(figure_viewer,diffusion_coeffient = widgets.FloatSlider(min=0.05,max=2,step=0.01,value=0.5,description='Diff_coef'),continuous_update=False)\n",
        "controls = HBox(interactive_plot.children[:-1], layout = Layout(flex_flow='row wrap'))\n",
        "output = interactive_plot.children[-1]\n",
        "display(VBox([controls, output])) \n"
      ],
      "metadata": {
        "id": "T6tcgrBGwXxi"
      },
      "execution_count": null,
      "outputs": []
    },
    {
      "cell_type": "code",
      "source": [
        "# Ask why if D is small we get subdiffusiion in this simulation?\n",
        "# rounding error . The movement is not  taken into account. # dtype is int\n",
        "#random.choice(participants)"
      ],
      "metadata": {
        "id": "6Qoo1Mx0GqAR"
      },
      "execution_count": null,
      "outputs": []
    },
    {
      "cell_type": "code",
      "source": [
        "# Ask why if D is big we get superdiffusion in this simulation?\n",
        "# Is this an artifact from the simulation?\n",
        "# Remember that in our simulation system the particles can not leave the system.\n",
        "#random.choice(participants)"
      ],
      "metadata": {
        "id": "3sOyVk6P0D2w"
      },
      "execution_count": null,
      "outputs": []
    },
    {
      "cell_type": "markdown",
      "source": [
        "## Visualizing when the movement in the simulation is not random."
      ],
      "metadata": {
        "id": "FAcUo_eDGauW"
      }
    },
    {
      "cell_type": "code",
      "source": [
        "# Running the 2D random walk simulator\n",
        "img_size =[400, 400]\n",
        "num_time_points = 50\n",
        "diffusion_coeffient = 1\n",
        "number_spots = 10\n",
        "percentage_background_noise = 0.01\n",
        "img_with_spots = brownian_movement_simulator(img_size =img_size,num_time_points=num_time_points, number_spots=number_spots, diffusion_coeffient =diffusion_coeffient, percentage_background_noise= percentage_background_noise)"
      ],
      "metadata": {
        "id": "T1-pGycbGCi9"
      },
      "execution_count": null,
      "outputs": []
    },
    {
      "cell_type": "code",
      "source": [
        "#@title Particle movement video\n",
        "# Plotting spots as a video\n",
        "fig = plt.figure(figsize=(7,7))\n",
        "#Define inital frames\n",
        "im = plt.imshow(img_with_spots[0,:,:,0],cmap= 'Reds_r') # Reds_r\n",
        "#plt.axis('off')\n",
        "def movieFrame(i):\n",
        "  images = [img_with_spots[i,:,:,0]]\n",
        "  image_handles = [im]\n",
        "  for k, image_n in enumerate(images):\n",
        "    image_handles[k].set_array(images[k])\n",
        "  return image_handles\n",
        "plt.close()\n",
        "anim = animation.FuncAnimation(fig, movieFrame, frames=img_with_spots.shape[0], interval=50, blit=True)\n",
        "from IPython.display import HTML\n",
        "HTML(anim.to_html5_video())"
      ],
      "metadata": {
        "id": "nMjmbn1TGUqm"
      },
      "execution_count": null,
      "outputs": []
    },
    {
      "cell_type": "markdown",
      "metadata": {
        "id": "kLFDBbSug_qe"
      },
      "source": [
        "# More complex scenarios"
      ]
    },
    {
      "cell_type": "markdown",
      "metadata": {
        "id": "hHth5fSujkzL"
      },
      "source": [
        "<img src= https://github.com/MunskyGroup/uqbio2022/raw/master/files/files_image_processing/module_1_3/images/Slide7.png alt=\"drawing\" width=\"1200\"/>"
      ]
    },
    {
      "cell_type": "markdown",
      "metadata": {
        "id": "lDe5MLQP3tZO"
      },
      "source": [
        "## Running a simulation with 20% of Background noise."
      ]
    },
    {
      "cell_type": "code",
      "metadata": {
        "id": "pr9ZJX5UhHC3"
      },
      "source": [
        "# Running the 2D random walk simulator\n",
        "img_size_ns =[100, 100]\n",
        "num_time_points = 10\n",
        "diffusion_coeffient = 0.5\n",
        "percentage_background_noise = 0.2   ### adding 20% BG noise\n",
        "number_spots = 30\n",
        "img_with_spots_noisy = brownian_movement_simulator(img_size =img_size_ns,num_time_points=num_time_points, number_spots=number_spots, diffusion_coeffient =diffusion_coeffient, percentage_background_noise= percentage_background_noise)"
      ],
      "execution_count": null,
      "outputs": []
    },
    {
      "cell_type": "code",
      "metadata": {
        "id": "OXMKqt2Ajtpr"
      },
      "source": [
        "# Running the particle detector using a noisy image\n",
        "list_center_mass = particle_detector(img_with_spots_noisy,threshold=250)  # Test different values for the threshold"
      ],
      "execution_count": null,
      "outputs": []
    },
    {
      "cell_type": "code",
      "metadata": {
        "id": "2_tFvPWkjzGp"
      },
      "source": [
        "# Plotting \n",
        "selected_time_point =0\n",
        "fig, ax = plt.subplots(1,2, figsize=(15, 5))\n",
        "ax[0].imshow(img_with_spots_noisy[selected_time_point,:,:,0], cmap=plt.cm.gray, alpha=0.5)\n",
        "ax[0].set_title('Simulated spots')\n",
        "ax[1].imshow(img_with_spots_noisy[selected_time_point,:,:,0], cmap=plt.cm.gray, alpha=0.5)\n",
        "for i in range(0,len(list_center_mass[selected_time_point])):\n",
        "  ax[1].plot(list_center_mass[selected_time_point][i][0], list_center_mass[selected_time_point][i][1], color='r',marker='*')\n",
        "ax[1].set_title('Binary image with pixels above treshold')\n",
        "plt.show()"
      ],
      "execution_count": null,
      "outputs": []
    },
    {
      "cell_type": "markdown",
      "metadata": {
        "id": "vQY6j_D94Ajj"
      },
      "source": [
        "### Reducing the noise in the image by using filters. "
      ]
    },
    {
      "cell_type": "code",
      "metadata": {
        "id": "LvS4H45clE1U"
      },
      "source": [
        "# Using a gaussian filter to remove noise\n",
        "from scipy.ndimage import gaussian_filter\n",
        "img_with_spots_gaussian_filter = img_with_spots_noisy.copy() # making a copy of our img\n",
        "# Applying the filter\n",
        "img_with_spots_filter = gaussian_filter(img_with_spots_gaussian_filter, sigma=2)"
      ],
      "execution_count": null,
      "outputs": []
    },
    {
      "cell_type": "code",
      "metadata": {
        "id": "Yiy3Q2YWlGPu"
      },
      "source": [
        "# Running the particle detector using the image after applying the filter\n",
        "list_center_mass_removed_noise = particle_detector(img_with_spots_filter,threshold=100)"
      ],
      "execution_count": null,
      "outputs": []
    },
    {
      "cell_type": "code",
      "metadata": {
        "id": "qYaBgqq_lXSK"
      },
      "source": [
        "# Plotting \n",
        "selected_time_point =0\n",
        "fig, ax = plt.subplots(1,2, figsize=(15, 5))\n",
        "ax[0].imshow(img_with_spots_filter[selected_time_point,:,:,0], cmap=plt.cm.gray)\n",
        "ax[0].set_title('Simulated spots')\n",
        "ax[1].imshow(img_with_spots_filter[selected_time_point,:,:,0], cmap=plt.cm.gray)\n",
        "for i in range(0,len(list_center_mass_removed_noise[selected_time_point])):\n",
        "  ax[1].plot(list_center_mass_removed_noise[selected_time_point][i][0], list_center_mass_removed_noise[selected_time_point][i][1], color='r',marker='*')\n",
        "ax[1].set_title('Binary image with pixels above treshold')\n",
        "plt.show()"
      ],
      "execution_count": null,
      "outputs": []
    },
    {
      "cell_type": "code",
      "source": [
        "raise"
      ],
      "metadata": {
        "id": "j1bkFNKpqBWa"
      },
      "execution_count": null,
      "outputs": []
    },
    {
      "cell_type": "markdown",
      "metadata": {
        "id": "d06raoYZvXLE"
      },
      "source": [
        "# Example: Ribosomal frameshifting. Two mRNAs interact for some seconds."
      ]
    },
    {
      "cell_type": "code",
      "metadata": {
        "id": "9rbTMEd4xo7K"
      },
      "source": [
        "HTML(\"\"\"<video width=\"560\" alt=\"test\" controls> <source src=\"https://github.com/MunskyGroup/uqbio2021/raw/main/module_1/tracking/bursting.mp4\" type=\"video/mp4\"></video>\"\"\")"
      ],
      "execution_count": null,
      "outputs": []
    },
    {
      "cell_type": "markdown",
      "source": [
        "# Using Libraries"
      ],
      "metadata": {
        "id": "QnOMCDcdq7u-"
      }
    },
    {
      "cell_type": "markdown",
      "source": [
        "<img src= https://github.com/MunskyGroup/uqbio2022/raw/master/files/files_image_processing/module_1_3/images/Slide9.png alt=\"drawing\" width=\"1200\"/>"
      ],
      "metadata": {
        "id": "jpobLDWvrLkO"
      }
    },
    {
      "cell_type": "markdown",
      "source": [
        "<img src= https://github.com/MunskyGroup/uqbio2022/raw/master/files/files_image_processing/module_1_3/images/Slide8.png alt=\"drawing\" width=\"1200\"/>"
      ],
      "metadata": {
        "id": "3B4N747drQHo"
      }
    },
    {
      "cell_type": "markdown",
      "source": [
        "<img src= https://github.com/MunskyGroup/uqbio2022/raw/master/files/files_image_processing/module_1_3/images/Slide10.png alt=\"drawing\" width=\"1200\"/>"
      ],
      "metadata": {
        "id": "cMCQYTFsrRe4"
      }
    },
    {
      "cell_type": "markdown",
      "source": [
        "# Dowloading data"
      ],
      "metadata": {
        "id": "bMjuwi3lrZgU"
      }
    },
    {
      "cell_type": "code",
      "source": [
        "# Downloading data\n",
        "urls = ['https://github.com/MunskyGroup/uqbio2021/raw/main/module_1/images/simulated_cell.tif'] # loading simulated data\n",
        "print('Downloading file...')\n",
        "urllib.request.urlretrieve(urls[0], './simulated_cell.tif')"
      ],
      "metadata": {
        "id": "1ZzzORu2rCt4"
      },
      "execution_count": null,
      "outputs": []
    },
    {
      "cell_type": "code",
      "source": [
        "# Importing the video as a numpy array\n",
        "figName = './simulated_cell.tif'\n",
        "video = imread(figName)  #Numpy array [T,Y,X,C]\n",
        "# dimensions in the video\n",
        "number_timepoints, y_dim, x_dim, number_channels = video.shape[0], video.shape[1], video.shape[2], video.shape[3] # obtaining the dimensions size\n",
        "print(video.shape)"
      ],
      "metadata": {
        "id": "vVIjsSOgrC6p"
      },
      "execution_count": null,
      "outputs": []
    },
    {
      "cell_type": "code",
      "source": [
        "plt.figure(figsize=(7,7))\n",
        "plt.imshow(video[0,:,:,0],cmap='gray')\n",
        "plt.show()"
      ],
      "metadata": {
        "id": "Y_cfOGmirDMw"
      },
      "execution_count": null,
      "outputs": []
    },
    {
      "cell_type": "code",
      "source": [
        "# Imoporting the library with the filter modules\n",
        "from scipy.ndimage import gaussian_filter\n",
        "from skimage.restoration import denoise_wavelet, estimate_sigma\n",
        "from skimage import img_as_float\n",
        "from skimage.filters import difference_of_gaussians\n",
        "\n",
        "img_copy = video.copy() # making a copy of our img\n",
        "img_section = img_copy[0,:,:,1] # selecting a timepoint and color channel\n",
        "\n",
        "img2 = img_as_float(img_section)\n",
        "\n",
        "# Applying the filter\n",
        "img_gaussian_filter_simga_1 = difference_of_gaussians(img_section, 0.2,50)\n",
        "img_gaussian_filter_simga_10 = gaussian_filter(img_section, sigma=10)\n",
        "sigma_est=0.0001\n",
        "im_wavelet = denoise_wavelet(img2, rescale_sigma=True,method='BayesShrink', mode='soft', sigma = sigma_est)  #\n",
        "\n",
        "sigma_est = estimate_sigma(im_wavelet, average_sigmas=True)\n",
        "\n",
        "# Side-by-side comparizon\n",
        "fig, ax = plt.subplots(1,3, figsize=(30, 10))\n",
        "ax[0].imshow(img_section,cmap='gray')\n",
        "ax[0].set(title='Original')\n",
        "\n",
        "# noise reduction \n",
        "ax[1].imshow(img_gaussian_filter_simga_1,cmap='gray')\n",
        "ax[1].set(title='Gaussian Filter $\\sigma$ =1 Noise reduction')\n",
        "\n",
        "# Blurring\n",
        "ax[2].imshow(im_wavelet,cmap='gray')\n",
        "ax[2].set(title='denoise_wavelet')\n",
        "plt.show()"
      ],
      "metadata": {
        "id": "GbiNBta3rDRL"
      },
      "execution_count": null,
      "outputs": []
    },
    {
      "cell_type": "code",
      "source": [
        "#@title Plotting Video\n",
        "from matplotlib import animation\n",
        "from IPython.display import HTML\n",
        "def make_movie(image_tensor, cmaps = ['Reds_r','Greens_r','Blues_r'], channels = True):\n",
        "  '''\n",
        "  returns an ipython.html obj to display an image tensor\n",
        "  '''\n",
        "  if channels:  # if channels = True we will make a 3 color / 3 plot movie\n",
        "    fig,axes = plt.subplots(1,2,figsize=(20,7),tight_layout=True,)\n",
        "  else: # otherwise just one subplot is needed\n",
        "    fig,axes = plt.subplots(1,1,figsize=(20,7),tight_layout=True,) #tight layout sets the axis's apart\n",
        "  #fig.subplots_adjust(left=0, bottom=0, right=1, top=1, wspace=None, hspace=None)\n",
        "  if channels: #if channels set up inital images here\n",
        "    im1 = axes[0].imshow(image_tensor[0,:,:,0], cmap=cmaps[0])  #get blank axes.image objects to maniuplate later\n",
        "    im2 = axes[1].imshow(image_tensor[0,:,:,1], cmap=cmaps[1])\n",
        "    #im3 = axes[2].imshow(image_tensor[0,:,:,2], cmap=cmaps[2])\n",
        "    for k in range(2):\n",
        "      axes[k].set_title('Channel %i'%k)\n",
        "  else:\n",
        "    im1 = axes.imshow(image_tensor[0,:,:,:], cmap=cmaps[0]) #if merge just make one\n",
        "    axes.set_title('Merge')\n",
        "  plt.close()\n",
        "\n",
        "  #here set up the function that is called by FuncAnimation, it returns the artist objects and updates the frame by i\n",
        "  def movieFrame(i):\n",
        "    ## Extract all the image channels\n",
        "    #Define  frames\n",
        "    if channels:  #get the channels if 3 color\n",
        "      channel_1_img = image_tensor[i,:,:,0]\n",
        "      channel_2_img = image_tensor[i,:,:,1]\n",
        "      #channel_3_img = image_tensor[i,:,:,2]\n",
        "      images = [channel_1_img, channel_2_img]  # concatenate channels\n",
        "      axes_handles = [im1,im2]  #Axes handles from the imshow\n",
        "    else:\n",
        "      channel_img = image_tensor[i,:,:,:]   \n",
        "      images = [channel_img,]  # concatenate channels\n",
        "      axes_handles = [im1,]  #Axes handles from the imshow\n",
        "\n",
        "    #update the axes imshow objects with the new data per k channels\n",
        "    for k,image_n in enumerate(images):  #for loop that returns an object and an index\n",
        "      axes_handles[k].set_array(images[k])  # \n",
        "    return axes_handles  #return the object\n",
        "  \n",
        "  #here call the animation function from matplotlib and then return the final HTML video object to the user\n",
        "  anim = animation.FuncAnimation(fig, movieFrame, frames=image_tensor.shape[0], interval=100, blit=True)\n",
        "  return HTML(anim.to_html5_video())"
      ],
      "metadata": {
        "id": "W1EdAHKQrDV_"
      },
      "execution_count": null,
      "outputs": []
    },
    {
      "cell_type": "code",
      "source": [
        "make_movie(video)"
      ],
      "metadata": {
        "id": "U3IHovjqrDbS"
      },
      "execution_count": null,
      "outputs": []
    },
    {
      "cell_type": "markdown",
      "source": [
        "## Cell segmentation"
      ],
      "metadata": {
        "id": "y42CEtgurul_"
      }
    },
    {
      "cell_type": "code",
      "source": [
        "# RUN CELLPOSE\n",
        "imgs_2D = video[0,:,:,0] # [T,Y,X,C]\n",
        "use_GPU = True\n",
        "# DEFINE CELLPOSE MODEL\n",
        "model = models.Cellpose(gpu=use_GPU, model_type='cyto') # model_type='cyto' or model_type='nuclei'\n",
        "\n",
        "# Running the models\n",
        "masks, flows, styles, diams = model.eval(imgs_2D, diameter=200, flow_threshold=None, channels=[0,0])"
      ],
      "metadata": {
        "id": "d32X2CA7rqfh"
      },
      "execution_count": null,
      "outputs": []
    },
    {
      "cell_type": "code",
      "source": [
        "num_masks = np.amax(masks)\n",
        "if num_masks >1:\n",
        "  masks_nuc_area = [np.count_nonzero(masks==j) for j in range(1, num_masks+1)]\n",
        "  largest_mask = np.argmax(masks_nuc_area) +1   \n",
        "  selected_masks =  np.where(masks == largest_mask, 1, 0) "
      ],
      "metadata": {
        "id": "0NA0RsyOrqly"
      },
      "execution_count": null,
      "outputs": []
    },
    {
      "cell_type": "code",
      "source": [
        "plt.imshow(masks)"
      ],
      "metadata": {
        "id": "eDornQAerqre"
      },
      "execution_count": null,
      "outputs": []
    },
    {
      "cell_type": "code",
      "source": [
        "plt.imshow(selected_masks)"
      ],
      "metadata": {
        "id": "22zLdpdMrqwp"
      },
      "execution_count": null,
      "outputs": []
    },
    {
      "cell_type": "markdown",
      "source": [
        "# Particle tracking using Trackpy"
      ],
      "metadata": {
        "id": "WWVIfvjRuj_p"
      }
    },
    {
      "cell_type": "code",
      "source": [
        "# Plotting the masked image.\n",
        "plt.figure(figsize=(5,5))\n",
        "plt.imshow(video[0,:,:,0],cmap='gray')\n",
        "plt.show()"
      ],
      "metadata": {
        "id": "K2pm9j2Qrq15"
      },
      "execution_count": null,
      "outputs": []
    },
    {
      "cell_type": "markdown",
      "source": [
        "The particle tracking is performed using [trackpy](http://http://soft-matter.github.io/trackpy/v0.5.0/)\n",
        "The library documentation can be accessed in the following [link](https://buildmedia.readthedocs.org/media/pdf/trackpy/v0.2.3/trackpy.pdf)."
      ],
      "metadata": {
        "id": "9gU7wK2kuwoB"
      }
    },
    {
      "cell_type": "markdown",
      "source": [
        "## Manual selection. (Initial step)"
      ],
      "metadata": {
        "id": "ZiQ6trQXu0yf"
      }
    },
    {
      "cell_type": "markdown",
      "source": [
        "### Visualizing the distribution for the particles' intensity\n"
      ],
      "metadata": {
        "id": "2Zqf12hlu4AR"
      }
    },
    {
      "cell_type": "code",
      "source": [
        "# This section generates an histograme with the intensity of the detected particles in the video.\n",
        "\n",
        "particle_size = 7 # according to the documentation must be an odd number 3,5,7,9 etc.\n",
        "minimal_intensity_for_selection = 0 # minimal intensity to detect a particle.\n",
        "\n",
        "# \"f\" is a pandas data freame that contains the infomation about the detected spots\n",
        "f = tp.locate(video[10,:,:,0], particle_size, minmass=minimal_intensity_for_selection) \n",
        "\n",
        "plt.rcParams[\"figure.figsize\"] = (5,5)\n",
        "fig, ax = plt.subplots()\n",
        "ax.hist(f['mass'], bins=100, color = \"orangered\", ec=\"orangered\")\n",
        "ax.set(xlabel='mass', ylabel='count');\n",
        "ax.set_ylim([0,200])\n",
        "plt.show()"
      ],
      "metadata": {
        "id": "iqs2LGMHrq8G"
      },
      "execution_count": null,
      "outputs": []
    },
    {
      "cell_type": "markdown",
      "source": [
        "## Select an intensity threshold value and particle size"
      ],
      "metadata": {
        "id": "bmDVP1bcu9_7"
      }
    },
    {
      "cell_type": "markdown",
      "source": [
        "In the following widget, the user is asked to manually input the particle size and the Intensity threshold, these numbers will be used for during the rest of the code to calculate intensities. Notice that tracking is only performed on channel 0."
      ],
      "metadata": {
        "id": "nIcIPUIuvBNy"
      }
    },
    {
      "cell_type": "code",
      "source": [
        "# To start visualization move the time slider.\n",
        "plt.rcParams[\"figure.figsize\"] = (10,10) # if movie is too big, change size to (7,7)\n",
        "def figure_viewer_tr(time,mass_text, drop_size):\n",
        "    ch = 0  \n",
        "    f = tp.locate(video[time,:,:,ch],drop_size, minmass=mass_text,maxsize=7,percentile=60) # \"f\" is a pandas data freame that contains the infomation about the detected spots\n",
        "    tp.annotate(f,video[time,:,:,ch]);  # tp.anotate is a trackpy function that displays the image with the detected spots  \n",
        "values_size=[3,5,7,9] # Notice value must be an odd number.\n",
        "interactive_plot_tr = interactive(figure_viewer_tr,mass_text = widgets.IntText(value=500,min=10,description='min Intensity'),drop_size = widgets.Dropdown(options=values_size,value=7,description='Particle Size'),time = widgets.IntSlider(min=0,max=video.shape[0]-1,step=1,value=0,description='Time'))\n",
        "controls = HBox(interactive_plot_tr.children[:-1], layout = Layout(flex_flow='row wrap'))\n",
        "output = interactive_plot_tr.children[-1]\n",
        "display(VBox([controls, output])) "
      ],
      "metadata": {
        "id": "cO8sJrUcux4F"
      },
      "execution_count": null,
      "outputs": []
    },
    {
      "cell_type": "markdown",
      "source": [
        "### Saving the threshold parameters that will be used to define the spot selection criteria"
      ],
      "metadata": {
        "id": "jDOtgT35vHii"
      }
    },
    {
      "cell_type": "code",
      "source": [
        "# This section saves the parameters adjusted in the previous widget in two variables that will be use for the rest of the code.\n",
        "selected_intensity = interactive_plot_tr.kwargs_widgets[1].value\n",
        "selected_size = interactive_plot_tr.kwargs_widgets[2].value"
      ],
      "metadata": {
        "id": "CoarfbEbuyCe"
      },
      "execution_count": null,
      "outputs": []
    },
    {
      "cell_type": "markdown",
      "source": [
        "## Detecting the spots in all frames"
      ],
      "metadata": {
        "id": "jvApwakWvNOO"
      }
    },
    {
      "cell_type": "code",
      "source": [
        "# \"f\" is a pandas data freame that contains the infomation about the detected spots.\n",
        "# tp.batch is a trackpy function that detects spots for multiple frames in a video.\n",
        "f = tp.batch(video[:,:,:,0],selected_size, minmass=selected_intensity,percentile=70)"
      ],
      "metadata": {
        "id": "MIvzGjbzuyLO"
      },
      "execution_count": null,
      "outputs": []
    },
    {
      "cell_type": "code",
      "source": [
        "f"
      ],
      "metadata": {
        "id": "sQ96kAe6QPdA"
      },
      "execution_count": null,
      "outputs": []
    },
    {
      "cell_type": "markdown",
      "source": [
        "## Removing particles outside the mask"
      ],
      "metadata": {
        "id": "Cl2cAV77PzYr"
      }
    },
    {
      "cell_type": "code",
      "source": [
        "def spots_in_mask(f,mask):\n",
        "    # extracting the contours in the image\n",
        "    coords = np.array([f.y, f.x]).T # These are the points detected by trackpy\n",
        "    coords_int = np.round(coords).astype(int)  # or np.floor, depends\n",
        "    values_at_coords = mask[tuple(coords_int.T)] # If 1 the value is in the mask\n",
        "    f['In Mask']=values_at_coords # Check if pts are on/in polygon mask  \n",
        "    return f "
      ],
      "metadata": {
        "id": "lKtiZfRFPz3g"
      },
      "execution_count": null,
      "outputs": []
    },
    {
      "cell_type": "code",
      "source": [
        "f1 = spots_in_mask(f,selected_masks) "
      ],
      "metadata": {
        "id": "ZE2XDPMdP9xS"
      },
      "execution_count": null,
      "outputs": []
    },
    {
      "cell_type": "code",
      "source": [
        "f1"
      ],
      "metadata": {
        "id": "hy0qcMy2QTtg"
      },
      "execution_count": null,
      "outputs": []
    },
    {
      "cell_type": "code",
      "source": [
        "dataframe_particles_in_mask = f[f['In Mask']==True]"
      ],
      "metadata": {
        "id": "5_27Fwb-ROSc"
      },
      "execution_count": null,
      "outputs": []
    },
    {
      "cell_type": "code",
      "source": [
        "dataframe_particles_in_mask"
      ],
      "metadata": {
        "id": "zXCJ0Hz9RWNS"
      },
      "execution_count": null,
      "outputs": []
    },
    {
      "cell_type": "markdown",
      "source": [
        "## Linking all detected spots accross all frames"
      ],
      "metadata": {
        "id": "2UGJXZMLvR4J"
      }
    },
    {
      "cell_type": "code",
      "source": [
        "# tp.link_df is a trackpy function that links spots detected in multiple frames, this generates the spots trajectories in time.\n",
        "df_linked_particles = tp.link_df(dataframe_particles_in_mask,5, memory=2) # tp.link_df(data_frame, max_distance_particle_moves, max_time_particle_vanishes). "
      ],
      "metadata": {
        "id": "_njnNDiiuySF"
      },
      "execution_count": null,
      "outputs": []
    },
    {
      "cell_type": "code",
      "source": [
        ""
      ],
      "metadata": {
        "id": "_I1gr3Mxj4mg"
      },
      "execution_count": null,
      "outputs": []
    },
    {
      "cell_type": "markdown",
      "source": [
        "## Eliminating spurious trajectories. "
      ],
      "metadata": {
        "id": "aQEKMOfOvZfD"
      }
    },
    {
      "cell_type": "code",
      "source": [
        "#trackpy.filtering.filter_stubs(tracks, threshold=100)\n",
        "df_linked_particles_filtered = tp.filter_stubs(df_linked_particles, 10)  # selecting trajectories that appear in at least 10 frames.\n",
        "# Compare the number of particles in the unfiltered and filtered data.\n",
        "print('Before:', df_linked_particles['particle'].nunique())\n",
        "print('After:', df_linked_particles_filtered['particle'].nunique())"
      ],
      "metadata": {
        "id": "DBKooTs-rDgA"
      },
      "execution_count": null,
      "outputs": []
    },
    {
      "cell_type": "markdown",
      "source": [
        "# Particle trajectories are stored in a Pandas data frame"
      ],
      "metadata": {
        "id": "AbJka7J2veOm"
      }
    },
    {
      "cell_type": "markdown",
      "source": [
        "[Pandas data Library ](https://pandas.pydata.org) and a [link](https://pandas.pydata.org/docs/user_guide/10min.html) with a 10min guide to learn pandas."
      ],
      "metadata": {
        "id": "FL2HyT3Tvjvp"
      }
    },
    {
      "cell_type": "markdown",
      "source": [
        "## Extracting information from a Pandas data frame using conditionals"
      ],
      "metadata": {
        "id": "dHDsozEvvqQY"
      }
    },
    {
      "cell_type": "code",
      "source": [
        "# Pandas data frame\n",
        "df_linked_particles_filtered \n",
        "\n"
      ],
      "metadata": {
        "id": "E46q3zL5AA1K"
      },
      "execution_count": null,
      "outputs": []
    },
    {
      "cell_type": "code",
      "source": [
        "# For simplicity, I  will create a  new df with a short name\n",
        "dfp =  df_linked_particles_filtered"
      ],
      "metadata": {
        "id": "d-LUrCIJKuNl"
      },
      "execution_count": null,
      "outputs": []
    },
    {
      "cell_type": "code",
      "source": [
        "#help(dfp.loc)"
      ],
      "metadata": {
        "id": "GCCdq-LhLQ5I"
      },
      "execution_count": null,
      "outputs": []
    },
    {
      "cell_type": "code",
      "source": [
        "# Showing information for a selected_particle\n",
        "selected_particle = 1\n",
        "dfp.loc[dfp['particle']==selected_particle ]"
      ],
      "metadata": {
        "id": "T14GklJRABkw"
      },
      "execution_count": null,
      "outputs": []
    },
    {
      "cell_type": "code",
      "source": [
        "# Showing information for a selected_frame\n",
        "selected_frame = 0\n",
        "dfp.loc[dfp['frame']==selected_frame]"
      ],
      "metadata": {
        "id": "8qn7TnKnAGDe"
      },
      "execution_count": null,
      "outputs": []
    },
    {
      "cell_type": "code",
      "source": [
        "# Extracting the intensity values for selected_particle\n",
        "selected_particle = 8\n",
        "dfp.loc[dfp['particle']==selected_particle].mass.values"
      ],
      "metadata": {
        "id": "KNOnaV6gAIok"
      },
      "execution_count": null,
      "outputs": []
    },
    {
      "cell_type": "code",
      "source": [
        "# Extracting the intensity values for particles with intensity higher than a threshold and in frame 0\n",
        "dfp.loc[(dfp['mass']>=2000) & (dfp['frame']==0)  ]"
      ],
      "metadata": {
        "id": "PPvKbeqJAK7B"
      },
      "execution_count": null,
      "outputs": []
    },
    {
      "cell_type": "markdown",
      "source": [
        "## Exporting tracks to CSV."
      ],
      "metadata": {
        "id": "NgvrM0aYAPM0"
      }
    },
    {
      "cell_type": "code",
      "source": [
        "# Optional section that saves the particles trajectories and intensities as a CSV file\n",
        "dfp.to_csv(r'tracking_particles.csv', index = False)"
      ],
      "metadata": {
        "id": "2_O_B6GhAQjl"
      },
      "execution_count": null,
      "outputs": []
    },
    {
      "cell_type": "markdown",
      "source": [
        "#Plotting trajectories in x-y."
      ],
      "metadata": {
        "id": "ACYNl3e5AVg0"
      }
    },
    {
      "cell_type": "code",
      "source": [
        "# Plotting \n",
        "plt.figure(figsize=(10,10))\n",
        "for i in range(0,dfp['particle'].nunique() ):\n",
        "  x_val = dfp.loc[dfp['particle']==i ].x.values[:]\n",
        "  y_val = dfp.loc[dfp['particle']==i ].y.values[:]\n",
        "  plt.plot(x_val,y_val, '-',linewidth = 3 )\n",
        "plt.xlabel('x-axis')\n",
        "plt.ylabel('y-axis')\n",
        "plt.title('Particle movement 2D')\n",
        "plt.show()"
      ],
      "metadata": {
        "id": "KT2F-03cAWmp"
      },
      "execution_count": null,
      "outputs": []
    },
    {
      "cell_type": "markdown",
      "source": [
        "\n",
        "## Plotting trajectories versus intensity using trackpy"
      ],
      "metadata": {
        "id": "vbUmLKz6Aa2h"
      }
    },
    {
      "cell_type": "markdown",
      "source": [
        "Notice that the particle number is not consecutive, for that reason the indexing is as follows:\n",
        "dfp['particle'].unique()  \n",
        "\n",
        "Where dfp.unique() is a method that return the number of unique values in the dfp."
      ],
      "metadata": {
        "id": "CUnDuer4Aexe"
      }
    },
    {
      "cell_type": "code",
      "source": [
        "# Defining the number of detected spots.\n",
        "n_particles = dfp['particle'].nunique()\n",
        "\n",
        "# Plotting\n",
        "plt.figure(figsize=(20,5))\n",
        "\n",
        "# plotting intensities in au\n",
        "for id in range(0,n_particles):\n",
        "    plt.plot(dfp.loc[dfp['particle']==dfp['particle'].unique()[id]].frame, dfp.loc[dfp['particle']==dfp['particle'].unique()[id]].mass) #, color ='gray')\n",
        "plt.xlabel('Time (sec)')\n",
        "plt.ylabel('Intensity a.u.')\n",
        "plt.title('Intensity vs Time')\n",
        "plt.show()"
      ],
      "metadata": {
        "id": "cRcFQSVSAb2h"
      },
      "execution_count": null,
      "outputs": []
    },
    {
      "cell_type": "markdown",
      "source": [
        "# More complex tracking"
      ],
      "metadata": {
        "id": "CjRKw1B5AlJX"
      }
    },
    {
      "cell_type": "markdown",
      "source": [
        "Tracking in [3D](http://soft-matter.github.io/trackpy/v0.5.0/tutorial/tracking-3d.html) with trackpy. [T,Y,X,C,Z]"
      ],
      "metadata": {
        "id": "_6A7cmuXAqlA"
      }
    },
    {
      "cell_type": "markdown",
      "source": [
        "# Practice Problems"
      ],
      "metadata": {
        "id": "CSBL4w-h0wUz"
      }
    },
    {
      "cell_type": "markdown",
      "source": [
        "## Single Cell Segmentation - Workbook Completion Requirements:##\n",
        "To obtain credit for this lesson, each student should (i) complete all blanks for questions Q1-Q4.\n",
        "\n",
        "To obtain a certificate for the course, you must complete a minimum of five notebooks from Modules 1-4 (please note that preliminary notebooks from Module 0 will not be accepted) and submit them together via email before August 15, 2022. Please submit your completed notebooks to qbio_summer_school@colostate.edu"
      ],
      "metadata": {
        "id": "gX_atq7TXX0L"
      }
    },
    {
      "cell_type": "markdown",
      "source": [
        "Using the image accessible in the following link https://github.com/MunskyGroup/uqbio2021/raw/main/module_1/images/simulated_cell.tif , solve the following questions:\n",
        "\n",
        "\n",
        " \n"
      ],
      "metadata": {
        "id": "q45uNWE_0yOr"
      }
    },
    {
      "cell_type": "markdown",
      "source": [
        "* Q1. Track the RNA particles in the image."
      ],
      "metadata": {
        "id": "KsoNKiuOW7hv"
      }
    },
    {
      "cell_type": "code",
      "source": [
        "# Add your code with your response here:\n",
        "\n",
        "\n",
        "\n",
        "\n"
      ],
      "metadata": {
        "id": "vGdAVSF9W7sU"
      },
      "execution_count": null,
      "outputs": []
    },
    {
      "cell_type": "markdown",
      "source": [
        "* Q2. Create a dataframe with the tracked particles and add a field indicating if the particle is located inside the nucleus or cytosol."
      ],
      "metadata": {
        "id": "ZAiYJgvVW79V"
      }
    },
    {
      "cell_type": "code",
      "source": [
        "# Add your code with your response here:\n",
        "\n",
        "\n",
        "\n"
      ],
      "metadata": {
        "id": "yRqZ-eNSW8GL"
      },
      "execution_count": null,
      "outputs": []
    },
    {
      "cell_type": "markdown",
      "source": [
        "* Q3. Plot the intensity distribution for the spots in the nucleus."
      ],
      "metadata": {
        "id": "Y__4tmQ9W8Pr"
      }
    },
    {
      "cell_type": "code",
      "source": [
        "# Add your code with your response here:\n",
        "\n",
        "\n",
        "\n"
      ],
      "metadata": {
        "id": "VzS-PVUBW8Zc"
      },
      "execution_count": null,
      "outputs": []
    },
    {
      "cell_type": "markdown",
      "source": [
        "* Q4. Plot the intensity distribution for the spots in the cytosol.\n"
      ],
      "metadata": {
        "id": "zSlcoKcQW8oS"
      }
    },
    {
      "cell_type": "code",
      "source": [
        "# Add your code with your response here:\n",
        "\n",
        "\n",
        "\n"
      ],
      "metadata": {
        "id": "E7oEJmmkW8w4"
      },
      "execution_count": null,
      "outputs": []
    },
    {
      "cell_type": "markdown",
      "source": [
        "## Advanced  questions"
      ],
      "metadata": {
        "id": "MGU95WNUXpW0"
      }
    },
    {
      "cell_type": "markdown",
      "source": [
        "* Q5. Select the 10 particles with the highest intensity."
      ],
      "metadata": {
        "id": "FViEKlFGXtCP"
      }
    },
    {
      "cell_type": "code",
      "source": [
        "# Add your code with your response here:\n",
        "\n",
        "\n",
        "\n"
      ],
      "metadata": {
        "id": "VNTWUhSKXtLE"
      },
      "execution_count": null,
      "outputs": []
    },
    {
      "cell_type": "markdown",
      "metadata": {
        "id": "_OaUyHTtfPGS"
      },
      "source": [
        "# References"
      ]
    },
    {
      "cell_type": "markdown",
      "metadata": {
        "id": "aBNAcZnsflyT"
      },
      "source": [
        "* Video source: Lyon, K., Aguilera, L.U., Morisaki, T., Munsky, B. and Stasevich, T.J., 2019. Live-cell single RNA imaging reveals bursts of translational frameshifting. Molecular cell, 75(1), pp.172-183. https://www.sciencedirect.com/science/article/pii/S1097276519303557\n",
        "\n",
        "* Image source: MacKintosh, F.C., 2012. Active diffusion: the erratic dance of chromosomal loci. Proceedings of the National Academy of Sciences, 109(19), pp.7138-7139. https://www.pnas.org/content/109/19/7138\n",
        "\n",
        "*   Code to generate a gaussian kernel matrix\n",
        "https://stackoverflow.com/questions/29731726/how-to-calculate-a-gaussian-kernel-matrix-efficiently-in-numpy\n",
        "\n",
        "*   Code to link coordenates\n",
        "https://stackoverflow.com/questions/52129486/python-find-the-nearest-neighbor-pairs-in-a-list-of-point-coordinates\n",
        "\n",
        "*   Code to compute mean square displacement\n",
        "https://stackoverflow.com/questions/26472653/computing-the-mean-square-displacement-of-a-2d-random-walk-in-python\n",
        "\n",
        "*   u-track (multiple-particle tracking) \n",
        "https://www.utsouthwestern.edu/labs/jaqaman/software/\n",
        "\n",
        "*  Wikipedia contributors, \"Mean squared displacement,\" Wikipedia, The Free Encyclopedia, https://en.wikipedia.org/w/index.php?title=Mean_squared_displacement&oldid=930410532 (accessed June 10, 2021).\n",
        "\n",
        "* Stringer, C., Wang, T., Michaelos, M. and Pachitariu, M., 2021.Cellpose: a generalist algorithm for cellular segmentation. Nature Methods, 18(1), pp.100-106. https://github.com/MouseLand/cellpose\n",
        "\n",
        "* Allan, Daniel B., Caswell, Thomas, Keim, Nathan C., van der Wel, Casper M., & Verweij, Ruben W. (2021, April 13). soft-matter/trackpy: Trackpy v0.5.0 (Version v0.5.0). Zenodo. http://doi.org/10.5281/zenodo.4682814"
      ]
    }
  ]
}